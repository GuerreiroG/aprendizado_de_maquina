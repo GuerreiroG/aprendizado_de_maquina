{
 "cells": [
  {
   "metadata": {},
   "cell_type": "markdown",
   "source": [
    "Alunos: Daniel de Paula, Gustavo Gurreiro e Mayara Cardoso Simões\n",
    "\n",
    "# Classificação - k-Nearest Neighbour (kNN)"
   ],
   "id": "b85dd626e98d2fea"
  },
  {
   "metadata": {},
   "cell_type": "markdown",
   "source": "Inicialmente se fazem os imports necessários.",
   "id": "e746e0a21d1c911c"
  },
  {
   "metadata": {
    "ExecuteTime": {
     "end_time": "2025-10-04T18:22:58.814789Z",
     "start_time": "2025-10-04T18:22:58.798363Z"
    }
   },
   "cell_type": "code",
   "source": [
    "import numpy as np\n",
    "import scipy.io as scipy\n",
    "from scipy.stats import mode\n",
    "import matplotlib.pyplot as plt"
   ],
   "id": "2a988362b2cc58b8",
   "outputs": [],
   "execution_count": 61
  },
  {
   "metadata": {},
   "cell_type": "markdown",
   "source": [
    "Dado um conjunto de dados, você quer construir um programa que prevê novos exemplos para uma classe. Por exemplo, dado um conjunto de dígitos escritos à mão, você quer construir um programa que reconhece automaticamente o CEP das cartas.\n",
    "\n",
    "Implemente um classificador 1-NN usando a distância Euclidiana.\n",
    "\n",
    "$$\n",
    "d(p,q) = \\sqrt{\\sum_{i=1}^{n} (p_i - q_i)^2}\n",
    "$$\n",
    "\n",
    "Note que todos os conjuntos de dados usam vetores de linha. A função deve ser algo parecido com:\n",
    "\n",
    "```python\n",
    "def meuKnn(dadosTrain, rotuloTrain, dadosTeste, k)\n",
    "\n",
    "# Para cada exemplo de teste\n",
    "\n",
    "# Calcule a distância entre o exemplo de teste e os dados de treinamento\n",
    "\n",
    "# Ordene as distâncias. A ordem iX de cada elemento ordenado é importante:\n",
    "\n",
    "# [distOrdenada ind] = sort(...);\n",
    "\n",
    "# O rótulo previsto corresponde ao rótulo do exemplo mais próximo (iX(1))\n",
    "```"
   ],
   "id": "41586c37ebf783a6"
  },
  {
   "cell_type": "code",
   "id": "initial_id",
   "metadata": {
    "collapsed": true,
    "ExecuteTime": {
     "end_time": "2025-10-04T18:22:58.838811Z",
     "start_time": "2025-10-04T18:22:58.821926Z"
    }
   },
   "source": [
    "def d(p, q):\n",
    "    soma = 0\n",
    "    for i in range(len(p)):\n",
    "        soma += (p[i] - q[i])**2\n",
    "    return np.sqrt(soma)\n",
    "\n",
    "def dist(dados_treino, dados_teste):\n",
    "    matriz_distancia = np.zeros((len(dados_teste), len(dados_treino)))\n",
    "    for i in range(len(dados_teste)):\n",
    "        for j in range(len(dados_treino)):\n",
    "            distancia = d(dados_teste[i], dados_treino[j])\n",
    "            matriz_distancia[i, j] = distancia\n",
    "\n",
    "    return matriz_distancia\n",
    "\n",
    "def prever():\n",
    "    pass\n",
    "\n",
    "def meu_knn(dados_treino, rotulo_treino, dados_teste, k):\n",
    "    matriz_distancia = dist(dados_treino, dados_teste)\n",
    "    indices_ordenados = [np.argsort(linha) for linha in matriz_distancia]\n",
    "\n",
    "    indices_rotulados = [[rotulo_treino[indice] for indice in indices] for indices in indices_ordenados]\n",
    "\n",
    "    y_circunflexo = [mode(rotulos[:k])[0][0] for rotulos in indices_rotulados]\n",
    "\n",
    "    return y_circunflexo"
   ],
   "outputs": [],
   "execution_count": 62
  },
  {
   "metadata": {},
   "cell_type": "markdown",
   "source": [
    "Para testar se você implementou a função corretamente, baixe o arquivo **grupoDados1.mat** - cada arquivo **.mat** contém 4 variáveis que são: **grupoTest, grupoTrain, testRots, trainRots**. Para baixar os arquivos **.mat** no Python você pode fazer o seguinte:\n",
    "\n",
    "```python\n",
    "import scipy.io as scipy\n",
    "\n",
    "mat = scipy.loadmat('grupoDados1.mat')\n",
    "\n",
    "grupoTest = mat['grupoTest']\n",
    "```"
   ],
   "id": "8178f63338237d2d"
  },
  {
   "metadata": {
    "ExecuteTime": {
     "end_time": "2025-10-04T18:22:58.865735Z",
     "start_time": "2025-10-04T18:22:58.844361Z"
    }
   },
   "cell_type": "code",
   "source": [
    "mat = scipy.loadmat('grupoDados1.mat')\n",
    "grupoTest = mat['grupoTest']\n",
    "grupoTrain = mat['grupoTrain']\n",
    "testRots = mat['testRots']\n",
    "trainRots = mat['trainRots']"
   ],
   "id": "4fc8101ccf465b8e",
   "outputs": [],
   "execution_count": 63
  },
  {
   "metadata": {},
   "cell_type": "markdown",
   "source": [
    "Então, verifique quantas classes foram previstas corretamente, isto é chamado de *acurácia (accuracy)*:\n",
    "\n",
    "```python\n",
    "rotuloPrevisto = meuKnn(grupoTrain, trainRots, grupoTest, 1);\n",
    "\n",
    "estaCorreto = rotuloPrevisto == testRots;\n",
    "\n",
    "numCorreto = sum(estaCorreto);\n",
    "\n",
    "totalNum = length(testRots);\n",
    "\n",
    "acurácia = numCorreto / totalNum\n",
    "```"
   ],
   "id": "9df197100756adc3"
  },
  {
   "metadata": {
    "ExecuteTime": {
     "end_time": "2025-10-04T18:22:58.927437Z",
     "start_time": "2025-10-04T18:22:58.873293Z"
    }
   },
   "cell_type": "code",
   "source": [
    "rotulo_previsto = meu_knn(grupoTrain, trainRots, grupoTest, 1)\n",
    "\n",
    "def calcular_acuracia(rotulos_previsao, rotulos_teste):\n",
    "    num_correto = 0\n",
    "    for previsto, teste in zip(rotulos_previsao, rotulos_teste):\n",
    "        if previsto == teste:\n",
    "            num_correto += 1\n",
    "\n",
    "    total_num = len(testRots)\n",
    "\n",
    "    return num_correto / total_num\n",
    "\n",
    "calcular_acuracia(rotulo_previsto, testRots)"
   ],
   "id": "eb8d312047ecd266",
   "outputs": [
    {
     "data": {
      "text/plain": [
       "0.96"
      ]
     },
     "execution_count": 64,
     "metadata": {},
     "output_type": "execute_result"
    }
   ],
   "execution_count": 64
  },
  {
   "metadata": {},
   "cell_type": "markdown",
   "source": [
    "A acurácia deve ser de 96%. Agora, vamos estender a função a um classificador k-NN:\n",
    "\n",
    "```MATLAB\n",
    "def meuKnn(dadosTrain, rotuloTrain, dadosTeste, k)\n",
    "\n",
    "% Para cada exemplo de teste\n",
    "\n",
    "% Calcule a distância entre o exemplo de teste e os dados de treinamento\n",
    "\n",
    "% Ordene as distâncias. A ordem iX de cada elemento ordenado é importante:\n",
    "\n",
    "% [distOrdenada ind] = sort(...);\n",
    "\n",
    "% Obter os rótulos correspondentes aos exemplos mais próximos k\n",
    "\n",
    "% Agora, a moda dos rótulos correspondentes são os rótulos previstos (você pode usar a função mode).\n",
    "```"
   ],
   "id": "4185d0b6f7e58ea"
  },
  {
   "metadata": {
    "ExecuteTime": {
     "end_time": "2025-10-04T18:22:58.941893Z",
     "start_time": "2025-10-04T18:22:58.932479Z"
    }
   },
   "cell_type": "code",
   "source": "# A função já foi feita originalmente levando em consideração a moda",
   "id": "36f2369d73475f4b",
   "outputs": [],
   "execution_count": 65
  },
  {
   "metadata": {},
   "cell_type": "markdown",
   "source": "Teste novamente no conjunto de dados 1 (**grupoDados1.mat**) e utilize k = 10 para uma acurácia igual a 94%.",
   "id": "7b264ad09f4f70a"
  },
  {
   "metadata": {
    "ExecuteTime": {
     "end_time": "2025-10-04T18:22:58.978412Z",
     "start_time": "2025-10-04T18:22:58.949294Z"
    }
   },
   "cell_type": "code",
   "source": [
    "rotulos_previstos = meu_knn(grupoTrain, trainRots, grupoTest, 10)\n",
    "acuracia = calcular_acuracia(rotulos_previstos, testRots)\n",
    "acuracia"
   ],
   "id": "c34492fcbdbf8249",
   "outputs": [
    {
     "data": {
      "text/plain": [
       "0.94"
      ]
     },
     "execution_count": 66,
     "metadata": {},
     "output_type": "execute_result"
    }
   ],
   "execution_count": 66
  },
  {
   "metadata": {},
   "cell_type": "markdown",
   "source": [
    "É sempre bom visualizar graficamente seus dados. Para fazer isso, crie a seguinte função:\n",
    "\n",
    "```python\n",
    "import matplotlib.pyplot as plt\n",
    "def getDadosRotulo(dados, rotulos, rotulo, indice):\n",
    "    ret = []\n",
    "    for idx in range(0, len(dados)):\n",
    "        if(rotulos[idx] == rotulo):\n",
    "            ret.append(dados[idx][indice])\n",
    "    return ret\n",
    "\n",
    "def visualizaPontos(dados, rotulos, d1, d2):\n",
    "    fig, ax = plt.subplots()\n",
    "    ax.scatter(getDadosRotulo(dados, rotulos, 1, d1), getDadosRotulo(dados, rotulos, 1, d2), c='red' , marker='^')\n",
    "    ax.scatter(getDadosRotulo(dados, rotulos, 2, d1), getDadosRotulo(dados, rotulos, 2, d2), c='blue' , marker='+')\n",
    "    ax.scatter(getDadosRotulo(dados, rotulos, 3, d1), getDadosRotulo(dados, rotulos, 3, d2), c='green', marker='.')\n",
    "    plt.show()\n",
    "```\n",
    "\n",
    "\n",
    "Nesta função, d1 e d2 denotam as dimensões que você deseja visualizar, isto é 1 e 2 respectivamente."
   ],
   "id": "31b0a7183b4a1698"
  },
  {
   "metadata": {
    "ExecuteTime": {
     "end_time": "2025-10-04T18:22:59.174210Z",
     "start_time": "2025-10-04T18:22:58.984993Z"
    }
   },
   "cell_type": "code",
   "source": [
    "def obter_dados_rotulo(dados, rotulos, rotulo, indice):\n",
    "    ret = []\n",
    "    for idx in range(0, len(dados)):\n",
    "        if rotulos[idx] == rotulo:\n",
    "            ret.append(dados[idx][indice])\n",
    "    return ret\n",
    "\n",
    "def visualiza_pontos(dados, rotulos, d1, d2):\n",
    "    fig, ax = plt.subplots()\n",
    "    ax.scatter(obter_dados_rotulo(dados, rotulos, 1, d1), obter_dados_rotulo(dados, rotulos, 1, d2), c='red', marker='^')\n",
    "    ax.scatter(obter_dados_rotulo(dados, rotulos, 2, d1), obter_dados_rotulo(dados, rotulos, 2, d2), c='blue', marker='+')\n",
    "    ax.scatter(obter_dados_rotulo(dados, rotulos, 3, d1), obter_dados_rotulo(dados, rotulos, 3, d2), c='green', marker='.')\n",
    "    plt.show()\n",
    "\n",
    "visualiza_pontos(grupoTest, rotulos_previstos, 1, 2)\n",
    "visualiza_pontos(grupoTest, testRots, 1, 2)"
   ],
   "id": "55a4f96b7cd20fe1",
   "outputs": [
    {
     "data": {
      "text/plain": [
       "<Figure size 640x480 with 1 Axes>"
      ],
      "image/png": "[encoded data removed]"
     },
     "metadata": {},
     "output_type": "display_data",
     "jetTransient": {
      "display_id": null
     }
    },
    {
     "data": {
      "text/plain": [
       "<Figure size 640x480 with 1 Axes>"
      ],
      "image/png": "[encoded data removed]"
     },
     "metadata": {},
     "output_type": "display_data",
     "jetTransient": {
      "display_id": null
     }
    }
   ],
   "execution_count": 67
  },
  {
   "metadata": {},
   "cell_type": "markdown",
   "source": [
    "**Grupo de Dados 1**:\n",
    "O **grupoDados1** é um conjunto de dados de flores. Para mais informações consulte: http://archive.ics.uci.edu/ml/datasets/Iris .\n",
    "\n",
    "**Q1.1. Qual é a acurácia máxima que você consegue da classificação?**\n",
    "98% usando $k=3$"
   ],
   "id": "14587df627fe8a2b"
  },
  {
   "metadata": {
    "ExecuteTime": {
     "end_time": "2025-10-04T18:23:00.283340Z",
     "start_time": "2025-10-04T18:22:59.181836Z"
    }
   },
   "cell_type": "code",
   "source": [
    "# 1.1\n",
    "def calcular_maior_acuracia(grupo_train, train_rots, grupo_test, test_rots):\n",
    "    maior_acuracia = -float('inf')\n",
    "    for i in range(1, (len(grupo_train)+1)//2):\n",
    "        rotulos_previstos = meu_knn(grupo_train, train_rots, grupo_test, i)\n",
    "        acuracia = calcular_acuracia(rotulos_previstos, test_rots)\n",
    "        print(acuracia, i)\n",
    "        if acuracia > maior_acuracia:\n",
    "            maior_acuracia = acuracia\n",
    "    print('Maior acurácia:', maior_acuracia)\n",
    "\n",
    "calcular_maior_acuracia(grupoTrain, trainRots, grupoTest, testRots)"
   ],
   "id": "9c2680ed417e6669",
   "outputs": [
    {
     "name": "stdout",
     "output_type": "stream",
     "text": [
      "0.96 1\n",
      "0.96 2\n",
      "0.98 3\n",
      "0.98 4\n",
      "0.96 5\n",
      "0.98 6\n",
      "0.96 7\n",
      "0.94 8\n",
      "0.96 9\n",
      "0.94 10\n",
      "0.94 11\n",
      "0.94 12\n",
      "0.94 13\n",
      "0.94 14\n",
      "0.96 15\n",
      "0.94 16\n",
      "0.94 17\n",
      "0.94 18\n",
      "0.94 19\n",
      "0.94 20\n",
      "0.94 21\n",
      "0.96 22\n",
      "0.96 23\n",
      "0.96 24\n",
      "0.96 25\n",
      "0.96 26\n",
      "0.96 27\n",
      "0.94 28\n",
      "0.94 29\n",
      "0.92 30\n",
      "0.92 31\n",
      "0.92 32\n",
      "0.92 33\n",
      "0.9 34\n",
      "0.88 35\n",
      "0.88 36\n",
      "0.88 37\n",
      "0.88 38\n",
      "0.88 39\n",
      "0.88 40\n",
      "0.88 41\n",
      "0.9 42\n",
      "0.88 43\n",
      "0.86 44\n",
      "0.86 45\n",
      "0.88 46\n",
      "0.9 47\n",
      "0.9 48\n",
      "0.9 49\n",
      "Maior acurácia: 0.98\n"
     ]
    }
   ],
   "execution_count": 68
  },
  {
   "metadata": {},
   "cell_type": "markdown",
   "source": "**Q1.2. É necessário ter todas as características (atributos) para obter a acurácia máxima para esta classificação?**",
   "id": "31d23dd4eeb584c0"
  },
  {
   "metadata": {
    "ExecuteTime": {
     "end_time": "2025-10-04T18:23:03.405732Z",
     "start_time": "2025-10-04T18:23:00.315314Z"
    }
   },
   "cell_type": "code",
   "source": [
    "# 1.2\n",
    "print(\"Acurácia sem 'petal width':\")\n",
    "calcular_maior_acuracia(grupoTrain[:,:3], trainRots, grupoTest[:,:3], testRots)\n",
    "\n",
    "print(\"Acurácia sem 'petal width' e 'petal length':\")\n",
    "calcular_maior_acuracia(grupoTrain[:,:2], trainRots, grupoTest[:,:2], testRots)\n",
    "\n",
    "print(\"Acurácia sem 'sepal width' e 'petal width':\")\n",
    "calcular_maior_acuracia(grupoTrain[:,::2], trainRots, grupoTest[:,::2], testRots)"
   ],
   "id": "ddb22bdf66899484",
   "outputs": [
    {
     "name": "stdout",
     "output_type": "stream",
     "text": [
      "Acurácia sem 'petal width':\n",
      "0.92 1\n",
      "0.94 2\n",
      "0.96 3\n",
      "0.96 4\n",
      "0.96 5\n",
      "0.96 6\n",
      "0.96 7\n",
      "0.94 8\n",
      "0.96 9\n",
      "0.96 10\n",
      "0.96 11\n",
      "0.96 12\n",
      "0.94 13\n",
      "0.94 14\n",
      "0.94 15\n",
      "0.92 16\n",
      "0.92 17\n",
      "0.9 18\n",
      "0.92 19\n",
      "0.92 20\n",
      "0.92 21\n",
      "0.92 22\n",
      "0.92 23\n",
      "0.9 24\n",
      "0.9 25\n",
      "0.9 26\n",
      "0.9 27\n",
      "0.88 28\n",
      "0.88 29\n",
      "0.9 30\n",
      "0.9 31\n",
      "0.88 32\n",
      "0.86 33\n",
      "0.86 34\n",
      "0.86 35\n",
      "0.86 36\n",
      "0.86 37\n",
      "0.84 38\n",
      "0.84 39\n",
      "0.84 40\n",
      "0.84 41\n",
      "0.84 42\n",
      "0.82 43\n",
      "0.82 44\n",
      "0.82 45\n",
      "0.82 46\n",
      "0.82 47\n",
      "0.82 48\n",
      "0.82 49\n",
      "Maior acurácia: 0.96\n",
      "Acurácia sem 'petal width' e 'petal length':\n",
      "0.68 1\n",
      "0.64 2\n",
      "0.72 3\n",
      "0.68 4\n",
      "0.72 5\n",
      "0.72 6\n",
      "0.76 7\n",
      "0.72 8\n",
      "0.76 9\n",
      "0.78 10\n",
      "0.74 11\n",
      "0.76 12\n",
      "0.74 13\n",
      "0.72 14\n",
      "0.74 15\n",
      "0.74 16\n",
      "0.74 17\n",
      "0.72 18\n",
      "0.72 19\n",
      "0.78 20\n",
      "0.74 21\n",
      "0.76 22\n",
      "0.76 23\n",
      "0.76 24\n",
      "0.76 25\n",
      "0.76 26\n",
      "0.76 27\n",
      "0.76 28\n",
      "0.76 29\n",
      "0.76 30\n",
      "0.76 31\n",
      "0.76 32\n",
      "0.76 33\n",
      "0.76 34\n",
      "0.76 35\n",
      "0.76 36\n",
      "0.76 37\n",
      "0.76 38\n",
      "0.76 39\n",
      "0.76 40\n",
      "0.76 41\n",
      "0.72 42\n",
      "0.72 43\n",
      "0.72 44\n",
      "0.74 45\n",
      "0.76 46\n",
      "0.76 47\n",
      "0.76 48\n",
      "0.72 49\n",
      "Maior acurácia: 0.78\n",
      "Acurácia sem 'sepal width' e 'petal width':\n",
      "0.92 1\n",
      "0.96 2\n",
      "0.96 3\n",
      "0.98 4\n",
      "0.96 5\n",
      "0.96 6\n",
      "0.96 7\n",
      "0.96 8\n",
      "0.96 9\n",
      "0.94 10\n",
      "0.96 11\n",
      "0.94 12\n",
      "0.94 13\n",
      "0.94 14\n",
      "0.94 15\n",
      "0.94 16\n",
      "0.92 17\n",
      "0.9 18\n",
      "0.92 19\n",
      "0.94 20\n",
      "0.94 21\n",
      "0.94 22\n",
      "0.94 23\n",
      "0.94 24\n",
      "0.92 25\n",
      "0.94 26\n",
      "0.94 27\n",
      "0.94 28\n",
      "0.92 29\n",
      "0.9 30\n",
      "0.88 31\n",
      "0.86 32\n",
      "0.84 33\n",
      "0.84 34\n",
      "0.82 35\n",
      "0.84 36\n",
      "0.84 37\n",
      "0.84 38\n",
      "0.84 39\n",
      "0.84 40\n",
      "0.84 41\n",
      "0.84 42\n",
      "0.82 43\n",
      "0.84 44\n",
      "0.82 45\n",
      "0.84 46\n",
      "0.84 47\n",
      "0.84 48\n",
      "0.84 49\n",
      "Maior acurácia: 0.98\n"
     ]
    }
   ],
   "execution_count": 69
  },
  {
   "metadata": {},
   "cell_type": "markdown",
   "source": "Q1.2: Como demonstrado na execução anterior é possível chegar à mesma acurácia de 98% com $k=4$ apenas com os comprimentos das pétalas e das sépalas, as larguras não são necessárias.",
   "id": "b5e4fc7419ad7f97"
  },
  {
   "metadata": {},
   "cell_type": "markdown",
   "source": [
    "## Grupo de Dados 2:\n",
    "O Grupo de Dados 2 é um problema que visa prever a origem do vinho em base aos seus componentes químicos. As características são:\n",
    "\n",
    "1) Álcool\n",
    "\n",
    "2) Ácido málico\n",
    "\n",
    "3) Cinzas\n",
    "\n",
    "4) Alcalinidade das cinzas\n",
    "\n",
    "5) Magnésio\n",
    "\n",
    "6) Fenóis totais\n",
    "\n",
    "7) Flavonóides\n",
    "\n",
    "8) Fenóis não flavonóides\n",
    "\n",
    "9) Proantocianinas\n",
    "\n",
    "10) Intensidade de cor\n",
    "\n",
    "11) Tonalidade\n",
    "\n",
    "12) OD280 / OD315 de vinhos diluídos\n",
    "\n",
    "13) Prolina"
   ],
   "id": "dc7ec43964d0d030"
  },
  {
   "metadata": {
    "ExecuteTime": {
     "end_time": "2025-10-04T18:23:03.437529Z",
     "start_time": "2025-10-04T18:23:03.433309Z"
    }
   },
   "cell_type": "code",
   "source": [
    "mat = scipy.loadmat('grupoDados2.mat')\n",
    "grupoTest = mat['grupoTest']\n",
    "grupoTrain = mat['grupoTrain']\n",
    "testRots = mat['testRots']\n",
    "trainRots = mat['trainRots']"
   ],
   "id": "a9240de0f6fa12d",
   "outputs": [],
   "execution_count": 70
  },
  {
   "metadata": {},
   "cell_type": "markdown",
   "source": "**Q2.1: Aplique seu kNN a este problema. Qual é a sua acurácia de classificação?** 78%",
   "id": "d83a869634d0d386"
  },
  {
   "metadata": {
    "ExecuteTime": {
     "end_time": "2025-10-04T18:23:05.853099Z",
     "start_time": "2025-10-04T18:23:03.445940Z"
    }
   },
   "cell_type": "code",
   "source": "calcular_maior_acuracia(grupoTrain, trainRots, grupoTest, testRots)",
   "id": "f41924e45fb1055",
   "outputs": [
    {
     "name": "stdout",
     "output_type": "stream",
     "text": [
      "0.6833333333333333 1\n",
      "0.65 2\n",
      "0.6166666666666667 3\n",
      "0.6833333333333333 4\n",
      "0.7 5\n",
      "0.7166666666666667 6\n",
      "0.7333333333333333 7\n",
      "0.7 8\n",
      "0.75 9\n",
      "0.7833333333333333 10\n",
      "0.75 11\n",
      "0.75 12\n",
      "0.7666666666666667 13\n",
      "0.7666666666666667 14\n",
      "0.75 15\n",
      "0.7666666666666667 16\n",
      "0.75 17\n",
      "0.75 18\n",
      "0.75 19\n",
      "0.75 20\n",
      "0.75 21\n",
      "0.7333333333333333 22\n",
      "0.7333333333333333 23\n",
      "0.7166666666666667 24\n",
      "0.7166666666666667 25\n",
      "0.7333333333333333 26\n",
      "0.7333333333333333 27\n",
      "0.7166666666666667 28\n",
      "0.7166666666666667 29\n",
      "0.7166666666666667 30\n",
      "0.7333333333333333 31\n",
      "0.7166666666666667 32\n",
      "0.75 33\n",
      "0.7333333333333333 34\n",
      "0.7333333333333333 35\n",
      "0.7333333333333333 36\n",
      "0.7166666666666667 37\n",
      "0.7333333333333333 38\n",
      "0.7333333333333333 39\n",
      "0.7166666666666667 40\n",
      "0.7166666666666667 41\n",
      "0.7166666666666667 42\n",
      "0.7166666666666667 43\n",
      "0.7166666666666667 44\n",
      "0.7166666666666667 45\n",
      "0.7333333333333333 46\n",
      "0.7166666666666667 47\n",
      "0.7166666666666667 48\n",
      "0.7166666666666667 49\n",
      "0.7166666666666667 50\n",
      "0.7166666666666667 51\n",
      "0.7166666666666667 52\n",
      "0.7166666666666667 53\n",
      "0.7 54\n",
      "0.7166666666666667 55\n",
      "0.7 56\n",
      "0.7166666666666667 57\n",
      "0.7 58\n",
      "Maior acurácia: 0.7833333333333333\n"
     ]
    }
   ],
   "execution_count": 71
  },
  {
   "metadata": {},
   "cell_type": "markdown",
   "source": "Método para normalizar os dados:",
   "id": "c9067b25f704c803"
  },
  {
   "metadata": {
    "ExecuteTime": {
     "end_time": "2025-10-04T18:23:05.885627Z",
     "start_time": "2025-10-04T18:23:05.880850Z"
    }
   },
   "cell_type": "code",
   "source": [
    "def normalizar_valores(valores):\n",
    "    minimo = min(valores)\n",
    "    maximo = max(valores)\n",
    "    return  [(valor-minimo)/(maximo-minimo) for valor in valores]"
   ],
   "id": "417d67e0ad003367",
   "outputs": [],
   "execution_count": 72
  },
  {
   "metadata": {
    "ExecuteTime": {
     "end_time": "2025-10-04T18:23:05.895225Z",
     "start_time": "2025-10-04T18:23:05.890677Z"
    }
   },
   "cell_type": "code",
   "source": [
    "def transpor_matriz(matriz):\n",
    "    return [coluna for coluna in zip(*matriz)]\n",
    "\n",
    "def normalizacao(grupo):\n",
    "    return transpor_matriz([normalizar_valores(dados) for dados in zip(*grupo)])"
   ],
   "id": "9f406b9e32535c24",
   "outputs": [],
   "execution_count": 73
  },
  {
   "metadata": {
    "ExecuteTime": {
     "end_time": "2025-10-04T18:23:05.903120Z",
     "start_time": "2025-10-04T18:23:05.899247Z"
    }
   },
   "cell_type": "code",
   "source": [
    "grupo_test_normalizado  = normalizacao(grupoTest)\n",
    "grupo_train_normalizado = normalizacao(grupoTrain)"
   ],
   "id": "3356eea81b298be4",
   "outputs": [],
   "execution_count": 74
  },
  {
   "metadata": {
    "ExecuteTime": {
     "end_time": "2025-10-04T18:23:07.851128Z",
     "start_time": "2025-10-04T18:23:05.908644Z"
    }
   },
   "cell_type": "code",
   "source": "calcular_maior_acuracia(grupo_train_normalizado, trainRots, grupo_test_normalizado, testRots)",
   "id": "48954d6ffd3d7a57",
   "outputs": [
    {
     "name": "stdout",
     "output_type": "stream",
     "text": [
      "0.9833333333333333 1\n",
      "0.9666666666666667 2\n",
      "0.9833333333333333 3\n",
      "1.0 4\n",
      "0.9833333333333333 5\n",
      "0.9666666666666667 6\n",
      "0.9833333333333333 7\n",
      "1.0 8\n",
      "1.0 9\n",
      "0.9833333333333333 10\n",
      "0.9833333333333333 11\n",
      "0.9833333333333333 12\n",
      "0.9833333333333333 13\n",
      "0.9833333333333333 14\n",
      "0.9833333333333333 15\n",
      "0.9833333333333333 16\n",
      "0.9833333333333333 17\n",
      "0.9833333333333333 18\n",
      "0.9833333333333333 19\n",
      "0.9833333333333333 20\n",
      "0.9833333333333333 21\n",
      "0.9833333333333333 22\n",
      "0.9833333333333333 23\n",
      "0.9833333333333333 24\n",
      "0.9833333333333333 25\n",
      "0.9833333333333333 26\n",
      "0.9833333333333333 27\n",
      "0.9833333333333333 28\n",
      "0.9833333333333333 29\n",
      "0.9833333333333333 30\n",
      "0.9833333333333333 31\n",
      "0.9833333333333333 32\n",
      "0.9833333333333333 33\n",
      "0.9833333333333333 34\n",
      "0.9833333333333333 35\n",
      "0.9833333333333333 36\n",
      "0.9833333333333333 37\n",
      "0.9833333333333333 38\n",
      "0.9833333333333333 39\n",
      "0.9833333333333333 40\n",
      "0.9833333333333333 41\n",
      "0.9833333333333333 42\n",
      "0.9833333333333333 43\n",
      "0.9833333333333333 44\n",
      "0.9833333333333333 45\n",
      "0.9833333333333333 46\n",
      "0.9833333333333333 47\n",
      "0.9833333333333333 48\n",
      "0.9833333333333333 49\n",
      "0.9833333333333333 50\n",
      "0.9833333333333333 51\n",
      "0.9833333333333333 52\n",
      "0.9833333333333333 53\n",
      "0.9833333333333333 54\n",
      "0.9833333333333333 55\n",
      "0.9833333333333333 56\n",
      "0.9833333333333333 57\n",
      "0.9833333333333333 58\n",
      "Maior acurácia: 1.0\n"
     ]
    }
   ],
   "execution_count": 75
  },
  {
   "metadata": {},
   "cell_type": "markdown",
   "source": [
    "**Q2.2: A acurácia pode ser igual a 98% com o kNN. Descubra por que o resultado atual é muito menor. Ajuste o conjunto de dados ou k de tal forma que a acurácia se torne 98% e explique o que você fez e por quê.**\n",
    "\n",
    "Após serem normalizados a acurácia pode ser 98% $k=1$ ou ainda chegar até 100% com $k = 4$"
   ],
   "id": "dcbc854f25a6a6ce"
  },
  {
   "metadata": {},
   "cell_type": "markdown",
   "source": "## Grupo de Dados 3:",
   "id": "9ea875babb08c6fd"
  },
  {
   "metadata": {
    "ExecuteTime": {
     "end_time": "2025-10-04T18:23:07.883398Z",
     "start_time": "2025-10-04T18:23:07.878370Z"
    }
   },
   "cell_type": "code",
   "source": [
    "mat = scipy.loadmat('grupoDados3.mat')\n",
    "grupoTest = mat['grupoTest']\n",
    "grupoTrain = mat['grupoTrain']\n",
    "testRots = mat['testRots']\n",
    "trainRots = mat['trainRots']"
   ],
   "id": "d3c88d3bf1effb5",
   "outputs": [],
   "execution_count": 76
  },
  {
   "metadata": {},
   "cell_type": "markdown",
   "source": "**Q3.1: Aplique o kNN ao problema usando k = 1. Qual é a acurácia na classificação?** 62%",
   "id": "97423e3012c1c763"
  },
  {
   "metadata": {
    "ExecuteTime": {
     "end_time": "2025-10-04T18:23:07.914803Z",
     "start_time": "2025-10-04T18:23:07.889601Z"
    }
   },
   "cell_type": "code",
   "source": "calcular_acuracia(meu_knn(grupoTrain, trainRots, grupoTest, 1), testRots)",
   "id": "c24f3319f401f02f",
   "outputs": [
    {
     "data": {
      "text/plain": [
       "0.62"
      ]
     },
     "execution_count": 77,
     "metadata": {},
     "output_type": "execute_result"
    }
   ],
   "execution_count": 77
  },
  {
   "metadata": {
    "ExecuteTime": {
     "end_time": "2025-10-04T18:23:08.856724Z",
     "start_time": "2025-10-04T18:23:07.921437Z"
    }
   },
   "cell_type": "code",
   "source": [
    "grupo_test_normalizado  = normalizacao(grupoTest)\n",
    "grupo_train_normalizado = normalizacao(grupoTrain)\n",
    "\n",
    "calcular_maior_acuracia(grupo_train_normalizado, trainRots, grupo_test_normalizado, testRots)"
   ],
   "id": "3714d868bb011921",
   "outputs": [
    {
     "name": "stdout",
     "output_type": "stream",
     "text": [
      "0.64 1\n",
      "0.74 2\n",
      "0.76 3\n",
      "0.76 4\n",
      "0.86 5\n",
      "0.84 6\n",
      "0.88 7\n",
      "0.84 8\n",
      "0.9 9\n",
      "0.88 10\n",
      "0.9 11\n",
      "0.88 12\n",
      "0.9 13\n",
      "0.92 14\n",
      "0.9 15\n",
      "0.92 16\n",
      "0.9 17\n",
      "0.92 18\n",
      "0.92 19\n",
      "0.92 20\n",
      "0.92 21\n",
      "0.9 22\n",
      "0.92 23\n",
      "0.92 24\n",
      "0.94 25\n",
      "0.94 26\n",
      "0.94 27\n",
      "0.92 28\n",
      "0.9 29\n",
      "0.9 30\n",
      "0.92 31\n",
      "0.92 32\n",
      "0.92 33\n",
      "0.92 34\n",
      "0.94 35\n",
      "0.94 36\n",
      "0.94 37\n",
      "0.94 38\n",
      "0.9 39\n",
      "0.9 40\n",
      "0.92 41\n",
      "0.92 42\n",
      "0.92 43\n",
      "0.92 44\n",
      "0.92 45\n",
      "0.9 46\n",
      "0.9 47\n",
      "0.88 48\n",
      "0.88 49\n",
      "Maior acurácia: 0.94\n"
     ]
    }
   ],
   "execution_count": 78
  },
  {
   "metadata": {},
   "cell_type": "markdown",
   "source": [
    "**Q3.2: A acurácia pode ser igual a 92% com o kNN. Descubra por que o resultado atual é muito menor. Ajuste o conjunto de dados ou k de tal forma que a acurácia se torne 92% e explique o que você fez e por quê.**\n",
    "\n",
    "Foi necesário normalizar os valores, após buscar pela maior acurácia, conseguiu-se chegar ao valor de 92% com $k=14$, mas foi possível chegar a 94% com $k=25$."
   ],
   "id": "11884b79257a014b"
  },
  {
   "metadata": {},
   "cell_type": "markdown",
   "source": [
    "## Grupo de Dados 4:\n",
    "\n",
    "OBS: Os nomes das variáveis estão diferentes neste dataset:\n",
    "grupoTest=testSet;\n",
    "grupoTrain=trainSet;\n",
    "testRots=testLabs;\n",
    "trainRots=trainLabs;"
   ],
   "id": "2dd7f2662fa243fb"
  },
  {
   "metadata": {
    "ExecuteTime": {
     "end_time": "2025-10-04T18:23:08.887775Z",
     "start_time": "2025-10-04T18:23:08.882736Z"
    }
   },
   "cell_type": "code",
   "source": [
    "mat = scipy.loadmat('grupoDados4.mat')\n",
    "grupoTest = mat['testSet']\n",
    "grupoTrain = mat['trainSet']\n",
    "testRots = mat['testLabs']\n",
    "trainRots = mat['trainLabs']"
   ],
   "id": "2d7c9d2b8402069f",
   "outputs": [],
   "execution_count": 79
  },
  {
   "metadata": {},
   "cell_type": "markdown",
   "source": "**Q4.1: Aplique seu algoritmo K-NN ao problema. Qual é a sua acurácia de classificação?** $\\approx$77%",
   "id": "fcb089ef5a4a6c00"
  },
  {
   "metadata": {
    "ExecuteTime": {
     "end_time": "2025-10-04T18:23:10.656337Z",
     "start_time": "2025-10-04T18:23:08.900084Z"
    }
   },
   "cell_type": "code",
   "source": "calcular_maior_acuracia(grupoTrain, trainRots, grupoTest, testRots)",
   "id": "a9b7ff73713519bb",
   "outputs": [
    {
     "name": "stdout",
     "output_type": "stream",
     "text": [
      "0.7166666666666667 1\n",
      "0.7333333333333333 2\n",
      "0.6666666666666666 3\n",
      "0.7666666666666667 4\n",
      "0.75 5\n",
      "0.75 6\n",
      "0.75 7\n",
      "0.7166666666666667 8\n",
      "0.7333333333333333 9\n",
      "0.7666666666666667 10\n",
      "0.7166666666666667 11\n",
      "0.7666666666666667 12\n",
      "0.75 13\n",
      "0.75 14\n",
      "0.75 15\n",
      "0.75 16\n",
      "0.75 17\n",
      "0.75 18\n",
      "0.75 19\n",
      "0.75 20\n",
      "0.75 21\n",
      "0.7333333333333333 22\n",
      "0.7333333333333333 23\n",
      "0.7333333333333333 24\n",
      "0.7333333333333333 25\n",
      "0.7333333333333333 26\n",
      "0.7333333333333333 27\n",
      "0.7166666666666667 28\n",
      "0.7166666666666667 29\n",
      "0.7166666666666667 30\n",
      "0.7333333333333333 31\n",
      "0.7166666666666667 32\n",
      "0.75 33\n",
      "0.7333333333333333 34\n",
      "0.7333333333333333 35\n",
      "0.7333333333333333 36\n",
      "0.7166666666666667 37\n",
      "0.7166666666666667 38\n",
      "0.7333333333333333 39\n",
      "0.7333333333333333 40\n",
      "0.7333333333333333 41\n",
      "0.7333333333333333 42\n",
      "0.7166666666666667 43\n",
      "0.7166666666666667 44\n",
      "0.7166666666666667 45\n",
      "0.7166666666666667 46\n",
      "0.7166666666666667 47\n",
      "0.7166666666666667 48\n",
      "0.7166666666666667 49\n",
      "0.7166666666666667 50\n",
      "0.7166666666666667 51\n",
      "0.7166666666666667 52\n",
      "0.7166666666666667 53\n",
      "0.7 54\n",
      "0.7166666666666667 55\n",
      "0.7 56\n",
      "0.7166666666666667 57\n",
      "0.7 58\n",
      "Maior acurácia: 0.7666666666666667\n"
     ]
    }
   ],
   "execution_count": 80
  },
  {
   "metadata": {},
   "cell_type": "markdown",
   "source": "**Q4.2: A acurácia pode chegar a 92% com o K-NN. Descubra por que o resultado atual é muito menor. Ajuste o conjunto de dados ou o valor de k de forma que a acurácia atinja 92% e explique o que você fez e por quê. Observe que, desta vez, há mais de um problema...**",
   "id": "38920b487e7d5131"
  },
  {
   "metadata": {
    "ExecuteTime": {
     "end_time": "2025-10-04T18:23:12.274072Z",
     "start_time": "2025-10-04T18:23:10.682599Z"
    }
   },
   "cell_type": "code",
   "source": [
    "grupo_test_normalizado  = normalizacao(grupoTest[:, :3])\n",
    "grupo_train_normalizado = normalizacao(grupoTrain[:, :3])\n",
    "\n",
    "calcular_maior_acuracia(grupo_train_normalizado, trainRots, grupo_test_normalizado, testRots)"
   ],
   "id": "b30b26f29bf52e68",
   "outputs": [
    {
     "name": "stdout",
     "output_type": "stream",
     "text": [
      "0.85 1\n",
      "0.8833333333333333 2\n",
      "0.9333333333333333 3\n",
      "0.9 4\n",
      "0.9333333333333333 5\n",
      "0.9333333333333333 6\n",
      "0.9166666666666666 7\n",
      "0.9 8\n",
      "0.9166666666666666 9\n",
      "0.95 10\n",
      "0.95 11\n",
      "0.95 12\n",
      "0.95 13\n",
      "0.9666666666666667 14\n",
      "0.9166666666666666 15\n",
      "0.9333333333333333 16\n",
      "0.9333333333333333 17\n",
      "0.95 18\n",
      "0.95 19\n",
      "0.95 20\n",
      "0.95 21\n",
      "0.9166666666666666 22\n",
      "0.9333333333333333 23\n",
      "0.9166666666666666 24\n",
      "0.9333333333333333 25\n",
      "0.9166666666666666 26\n",
      "0.9166666666666666 27\n",
      "0.9166666666666666 28\n",
      "0.9166666666666666 29\n",
      "0.9166666666666666 30\n",
      "0.9333333333333333 31\n",
      "0.9333333333333333 32\n",
      "0.9333333333333333 33\n",
      "0.9333333333333333 34\n",
      "0.9333333333333333 35\n",
      "0.9166666666666666 36\n",
      "0.8833333333333333 37\n",
      "0.8833333333333333 38\n",
      "0.8833333333333333 39\n",
      "0.8833333333333333 40\n",
      "0.8833333333333333 41\n",
      "0.85 42\n",
      "0.85 43\n",
      "0.85 44\n",
      "0.8333333333333334 45\n",
      "0.8 46\n",
      "0.8166666666666667 47\n",
      "0.7833333333333333 48\n",
      "0.7666666666666667 49\n",
      "0.7666666666666667 50\n",
      "0.7333333333333333 51\n",
      "0.7333333333333333 52\n",
      "0.7333333333333333 53\n",
      "0.7333333333333333 54\n",
      "0.7166666666666667 55\n",
      "0.7166666666666667 56\n",
      "0.7 57\n",
      "0.7 58\n",
      "Maior acurácia: 0.9666666666666667\n"
     ]
    }
   ],
   "execution_count": 81
  },
  {
   "metadata": {},
   "cell_type": "markdown",
   "source": "Q4.2: Caso não se utilize a última coluna e se normalize os dados a acurácia é de 92% com $k=7$, porém, pode-se alcançar uma acurácia ainda maior de $\\approx$ 97% usando um $k=14$.",
   "id": "c32ad0c0a43c92f9"
  }
 ],
 "metadata": {
  "kernelspec": {
   "display_name": "Python 3",
   "language": "python",
   "name": "python3"
  },
  "language_info": {
   "codemirror_mode": {
    "name": "ipython",
    "version": 2
   },
   "file_extension": ".py",
   "mimetype": "text/x-python",
   "name": "python",
   "nbconvert_exporter": "python",
   "pygments_lexer": "ipython2",
   "version": "2.7.6"
  }
 },
 "nbformat": 4,
 "nbformat_minor": 5
}
