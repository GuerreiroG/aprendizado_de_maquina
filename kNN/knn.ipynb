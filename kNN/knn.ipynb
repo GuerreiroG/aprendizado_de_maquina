{
 "cells": [
  {
   "metadata": {},
   "cell_type": "markdown",
   "source": [
    "Alunos: Daniel de Paula, Gustavo Gurreiro e Mayara Cardoso Simões\n",
    "\n",
    "# Classificação - k-Nearest Neighbour (kNN)"
   ],
   "id": "b85dd626e98d2fea"
  },
  {
   "metadata": {},
   "cell_type": "markdown",
   "source": "Inicialmente se fazem os imports necessários.",
   "id": "e746e0a21d1c911c"
  },
  {
   "metadata": {},
   "cell_type": "code",
   "source": [
    "import numpy as np\n",
    "import scipy.io as scipy\n",
    "from scipy.stats import mode"
   ],
   "id": "2a988362b2cc58b8",
   "outputs": [],
   "execution_count": null
  },
  {
   "metadata": {},
   "cell_type": "markdown",
   "source": [
    "Dado um conjunto de dados, você quer construir um programa que prevê novos exemplos para uma classe. Por exemplo, dado um conjunto de dígitos escritos à mão, você quer construir um programa que reconhece automaticamente o CEP das cartas.\n",
    "\n",
    "Implemente um classificador 1-NN usando a distância Euclidiana.\n",
    "\n",
    "$$\n",
    "d(p,q) = \\sqrt{\\sum_{i=1}^{n} (p_i - q_i)^2}\n",
    "$$\n",
    "\n",
    "Note que todos os conjuntos de dados usam vetores de linha. A função deve ser algo parecido com:\n",
    "\n",
    "```python\n",
    "def meuKnn(dadosTrain, rotuloTrain, dadosTeste, k)\n",
    "\n",
    "# Para cada exemplo de teste\n",
    "\n",
    "# Calcule a distância entre o exemplo de teste e os dados de treinamento\n",
    "\n",
    "# Ordene as distâncias. A ordem iX de cada elemento ordenado é importante:\n",
    "\n",
    "# [distOrdenada ind] = sort(...);\n",
    "\n",
    "# O rótulo previsto corresponde ao rótulo do exemplo mais próximo (iX(1))\n",
    "```"
   ],
   "id": "41586c37ebf783a6"
  },
  {
   "cell_type": "code",
   "id": "initial_id",
   "metadata": {
    "collapsed": true
   },
   "source": [
    "def d(p, q):\n",
    "    soma = 0\n",
    "    for i in range(len(p)):\n",
    "        soma += (p[i] - q[i])**2\n",
    "    return np.sqrt(soma)\n",
    "\n",
    "def gerar_matriz_distancia(dados_treino, dados_teste):\n",
    "    matriz_distancia = np.zeros((len(dados_teste), len(dados_treino)))\n",
    "    for i in range(len(dados_teste)):\n",
    "        for j in range(len(dados_treino)):\n",
    "            distancia = d(dados_teste[i], dados_treino[j])\n",
    "            matriz_distancia[i, j] = distancia\n",
    "\n",
    "    return matriz_distancia\n",
    "\n",
    "def prever():\n",
    "    pass\n",
    "\n",
    "def knn(dados_treino, rotulo_treino, dados_teste, k):\n",
    "    matriz_distancia = gerar_matriz_distancia(dados_treino, dados_teste)\n",
    "    indices_ordenados = [np.argsort(linha) for linha in matriz_distancia]\n",
    "\n",
    "    indices_rotulados = [[rotulo_treino[indice] for indice in indices] for indices in indices_ordenados]\n",
    "\n",
    "    y_circunflexo = [mode(rotulos[:k])[0][0] for rotulos in indices_rotulados]\n",
    "\n",
    "    return y_circunflexo"
   ],
   "outputs": [],
   "execution_count": null
  },
  {
   "metadata": {},
   "cell_type": "markdown",
   "source": [
    "Para testar se você implementou a função corretamente, baixe o arquivo **grupoDados1.mat** - cada arquivo **.mat** contém 4 variáveis que são: **grupoTest, grupoTrain, testRots, trainRots**. Para baixar os arquivos **.mat** no Python você pode fazer o seguinte:\n",
    "\n",
    "```python\n",
    "import scipy.io as scipy\n",
    "\n",
    "mat = scipy.loadmat('grupoDados1.mat')\n",
    "\n",
    "grupoTest = mat['grupoTest']\n",
    "```"
   ],
   "id": "8178f63338237d2d"
  },
  {
   "metadata": {},
   "cell_type": "code",
   "source": [
    "mat = scipy.loadmat('grupoDados1.mat')\n",
    "grupoTest = mat['grupoTest']\n",
    "grupoTrain = mat['grupoTrain']\n",
    "testRots = mat['testRots']\n",
    "trainRots = mat['trainRots']"
   ],
   "id": "4fc8101ccf465b8e",
   "outputs": [],
   "execution_count": null
  },
  {
   "metadata": {},
   "cell_type": "markdown",
   "source": [
    "Então, verifique quantas classes foram previstas corretamente, isto é chamado de *acurácia (accuracy)*:\n",
    "\n",
    "```python\n",
    "rotuloPrevisto = meuKnn(grupoTrain, trainRots, grupoTest, 1);\n",
    "\n",
    "estaCorreto = rotuloPrevisto == testRots;\n",
    "\n",
    "numCorreto = sum(estaCorreto);\n",
    "\n",
    "totalNum = length(testRots);\n",
    "\n",
    "acurácia = numCorreto / totalNum\n",
    "```"
   ],
   "id": "9df197100756adc3"
  },
  {
   "metadata": {},
   "cell_type": "code",
   "outputs": [],
   "execution_count": null,
   "source": [
    "rotulo_previsto = knn(grupoTrain, trainRots, grupoTest, 1)\n",
    "\n",
    "def calcular_acuratcia():"
   ],
   "id": "eb8d312047ecd266"
  }
 ],
 "metadata": {
  "kernelspec": {
   "display_name": "Python 3",
   "language": "python",
   "name": "python3"
  },
  "language_info": {
   "codemirror_mode": {
    "name": "ipython",
    "version": 2
   },
   "file_extension": ".py",
   "mimetype": "text/x-python",
   "name": "python",
   "nbconvert_exporter": "python",
   "pygments_lexer": "ipython2",
   "version": "2.7.6"
  }
 },
 "nbformat": 4,
 "nbformat_minor": 5
}
