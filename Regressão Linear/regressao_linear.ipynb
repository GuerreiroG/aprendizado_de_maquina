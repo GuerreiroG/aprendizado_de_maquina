{
 "cells": [
  {
   "metadata": {
    "ExecuteTime": {
     "end_time": "2025-08-28T00:14:19.741540Z",
     "start_time": "2025-08-28T00:14:17.364614Z"
    }
   },
   "cell_type": "code",
   "source": "!pip install pandas",
   "id": "19a0d4fd6e078288",
   "outputs": [
    {
     "name": "stdout",
     "output_type": "stream",
     "text": [
      "Requirement already satisfied: pandas in c:\\users\\usuario\\pycharmprojects\\regressaolinear\\.venv\\lib\\site-packages (2.3.2)\n",
      "Requirement already satisfied: numpy>=1.26.0 in c:\\users\\usuario\\pycharmprojects\\regressaolinear\\.venv\\lib\\site-packages (from pandas) (2.3.2)\n",
      "Requirement already satisfied: python-dateutil>=2.8.2 in c:\\users\\usuario\\pycharmprojects\\regressaolinear\\.venv\\lib\\site-packages (from pandas) (2.9.0.post0)\n",
      "Requirement already satisfied: pytz>=2020.1 in c:\\users\\usuario\\pycharmprojects\\regressaolinear\\.venv\\lib\\site-packages (from pandas) (2025.2)\n",
      "Requirement already satisfied: tzdata>=2022.7 in c:\\users\\usuario\\pycharmprojects\\regressaolinear\\.venv\\lib\\site-packages (from pandas) (2025.2)\n",
      "Requirement already satisfied: six>=1.5 in c:\\users\\usuario\\pycharmprojects\\regressaolinear\\.venv\\lib\\site-packages (from python-dateutil>=2.8.2->pandas) (1.17.0)\n"
     ]
    },
    {
     "name": "stderr",
     "output_type": "stream",
     "text": [
      "\n",
      "[notice] A new release of pip is available: 25.1.1 -> 25.2\n",
      "[notice] To update, run: python.exe -m pip install --upgrade pip\n"
     ]
    }
   ],
   "execution_count": 2
  },
  {
   "metadata": {
    "ExecuteTime": {
     "end_time": "2025-09-03T22:12:19.085984Z",
     "start_time": "2025-09-03T22:12:18.403159Z"
    }
   },
   "cell_type": "code",
   "source": [
    "import math\n",
    "import matplotlib.pyplot as plt\n",
    "\n",
    "x1 = [10,8,13,9,11,14,6,4,12,7,5]\n",
    "y1 = [8.04,6.95,7.58,8.81,8.33,9.96,7.24,4.26,10.84,4.82,5.68]\n",
    "\n",
    "\n",
    "x2 = [10,8,13,9,11,14,6,4,12,7,5]\n",
    "y2 = [9.14,8.14,8.47,8.77,9.26,8.10,6.13,3.10,9.13,7.26,4.74]\n",
    "\n",
    "\n",
    "x3 = [8,8,8,8,8,8,8,8,8,8,19]\n",
    "y3 = [6.58,5.76,7.71,8.84,8.47,7.04,5.25,5.56,7.91,6.89,12.50]\n",
    "\n",
    "\n",
    "def correlacao(x, y):\n",
    "  n = len(x)\n",
    "  media_x = sum(x) / n\n",
    "  media_y = sum(y) / n\n",
    "\n",
    "  produto = [(x[i] - media_x) * (y[i] - media_y) for i in range(n)]\n",
    "  soma_produto = sum(produto)\n",
    "\n",
    "  soma_quadrados_x = sum([(xi - media_x)**2 for xi in x])\n",
    "  soma_quadrados_y = sum([(yi - media_y)**2 for yi in y])\n",
    "\n",
    "  r = soma_produto / math.sqrt(soma_quadrados_x * soma_quadrados_y)\n",
    "  return r\n",
    "\n",
    "def regressao(x, y):\n",
    "    n = len(x)\n",
    "    media_x = sum(x) / n\n",
    "    media_y = sum(y) / n\n",
    "\n",
    "    # cálculo de beta1 (coeficiente angular)\n",
    "    numerador = sum((xi - media_x) * (yi - media_y) for xi, yi in zip(x, y))\n",
    "    denominador = sum((xi - media_x) ** 2 for xi in x)\n",
    "\n",
    "    beta1 = numerador / denominador\n",
    "\n",
    "    # cálculo de beta0\n",
    "    beta0 = media_y - beta1 * media_x\n",
    "\n",
    "    return beta0, beta1\n",
    "\n",
    "def gerar_grafico_dispersao(x, y):\n",
    "    plt.scatter(x, y)\n",
    "    plt.xlabel('x')\n",
    "    plt.ylabel('y')\n",
    "\n",
    "def y_de_chapeu(x, beta0, beta1):\n",
    "    return [beta0 + (beta1 * x_atual) for x_atual in x]\n",
    "\n",
    "def gerar_linha_regressao(x, beta0, beta1):\n",
    "    plt.plot(x, y_de_chapeu(x, beta0, beta1))\n",
    "\n",
    "\n",
    "def main():\n",
    "  r1 = correlacao(x1, y1)\n",
    "  r2 = correlacao(x2, y2)\n",
    "  r3 = correlacao(x3, y3)\n",
    "\n",
    "  print(f\"Coeficiente de correlação para o Grupo 1: {r1:.5f}\")\n",
    "  print(f\"Coeficiente de correlação para o Grupo 2: {r2:.5f}\")\n",
    "  print(f\"Coeficiente de correlação para o Grupo 3: {r3:.5f}\")\n",
    "\n",
    "  beta0_1, beta1_1 = regressao(x1, y1)\n",
    "  beta0_2, beta1_2 = regressao(x2, y2)\n",
    "  beta0_3, beta1_3 = regressao(x3, y3)\n",
    "\n",
    "  print(f\"Regressão para o Grupo 1: beta0 = {beta0_1:.5f}, beta1 = {beta1_1:.5f}\")\n",
    "  print(f\"Regressão para o Grupo 2: beta0 = {beta0_2:.5f}, beta1 = {beta1_2:.5f}\")\n",
    "  print(f\"Regressão para o Grupo 3: beta0 = {beta0_3:.5f}, beta1 = {beta1_3:.5f}\")\n",
    "\n",
    "  gerar_grafico_dispersao(x1, y1)\n",
    "  gerar_linha_regressao(x1, beta0_1, beta1_1)\n",
    "  plt.title(f'Coeficiente de Correlação: {r1:.5f} | Beta0: {beta0_1:.5f} | Beta1: {beta1_1:.5f}')\n",
    "  plt.show()\n",
    "\n",
    "  gerar_grafico_dispersao(x2, y2)\n",
    "  gerar_linha_regressao(x2, beta0_2, beta1_2)\n",
    "  plt.title(f'Coeficiente de Correlação: {r2:.5f} | Beta0: {beta0_2:.5f} | Beta1: {beta1_2:.5f}')\n",
    "  plt.show()\n",
    "\n",
    "  gerar_grafico_dispersao(x3, y3)\n",
    "  gerar_linha_regressao(x3, beta0_3, beta1_3)\n",
    "  plt.title(f'Coeficiente de Correlação: {r3:.5f} | Beta0: {beta0_3:.5f} | Beta1: {beta1_3:.5f}')\n",
    "  plt.show()\n",
    "\n",
    "if __name__ == \"__main__\":\n",
    "    main()\n"
   ],
   "id": "3543b4ff8f275349",
   "outputs": [
    {
     "name": "stdout",
     "output_type": "stream",
     "text": [
      "Coeficiente de correlação para o Grupo 1: 0.81642\n",
      "Coeficiente de correlação para o Grupo 2: 0.80612\n",
      "Coeficiente de correlação para o Grupo 3: 0.81652\n",
      "Regressão para o Grupo 1: beta0 = 3.00009, beta1 = 0.50009\n",
      "Regressão para o Grupo 2: beta0 = 3.06473, beta1 = 0.49018\n",
      "Regressão para o Grupo 3: beta0 = 3.00173, beta1 = 0.49991\n"
     ]
    },
    {
     "data": {
      "text/plain": [
       "<Figure size 640x480 with 1 Axes>"
      ],
      "image/png": "[encoded data removed]"
     },
     "metadata": {},
     "output_type": "display_data"
    },
    {
     "data": {
      "text/plain": [
       "<Figure size 640x480 with 1 Axes>"
      ],
      "image/png": "[encoded data removed]"
     },
     "metadata": {},
     "output_type": "display_data"
    },
    {
     "data": {
      "text/plain": [
       "<Figure size 640x480 with 1 Axes>"
      ],
      "image/png": "[encoded data removed]"
     },
     "metadata": {},
     "output_type": "display_data"
    }
   ],
   "execution_count": 38
  },
  {
   "metadata": {},
   "cell_type": "markdown",
   "source": "",
   "id": "f64a12d2cb0b40ed"
  },
  {
   "metadata": {},
   "cell_type": "markdown",
   "source": "a) Faça o download dos dados do arquivo data.mat ou data.csv. A primeira coluna é o tamanho da casa, a segunda coluna é o número de quartos, e a terceira coluna é o preço da casa.",
   "id": "930ceb23b8e88703"
  },
  {
   "metadata": {
    "ExecuteTime": {
     "end_time": "2025-09-03T22:12:27.389937Z",
     "start_time": "2025-09-03T22:12:27.321334Z"
    }
   },
   "cell_type": "code",
   "source": [
    "import pandas as pd\n",
    "data = pd.read_csv(\"content/data.csv\", header=None)\n",
    "\n",
    "print(data)"
   ],
   "id": "a17d5b91c2fdd01d",
   "outputs": [
    {
     "name": "stdout",
     "output_type": "stream",
     "text": [
      "       0  1         2\n",
      "0   2104  3  399900.0\n",
      "1   1600  3  329900.0\n",
      "2   2400  3  369000.0\n",
      "3   1416  2  232000.0\n",
      "4   3000  4  539900.0\n",
      "5   1985  4  299900.0\n",
      "6   1534  3  314900.0\n",
      "7   1427  3  199000.0\n",
      "8   1380  3  212000.0\n",
      "9   1494  3  242500.0\n",
      "10  1940  4  240000.0\n",
      "11  2000  3  347000.0\n",
      "12  1890  3  330000.0\n",
      "13  4478  5  699900.0\n",
      "14  1268  3  259900.0\n",
      "15  2300  4  449900.0\n",
      "16  1320  2  299900.0\n",
      "17  1236  3  199900.0\n",
      "18  2609  4  500000.0\n",
      "19  3031  4  599000.0\n",
      "20  1767  3  252900.0\n",
      "21  1888  2  255000.0\n",
      "22  1604  3  242900.0\n",
      "23  1962  4  259900.0\n",
      "24  3890  3  573900.0\n",
      "25  1100  3  249900.0\n",
      "26  1458  3  464500.0\n",
      "27  2526  3  469000.0\n",
      "28  2200  3  475000.0\n",
      "29  2637  3  299900.0\n",
      "30  1839  2  349900.0\n",
      "31  1000  1  169900.0\n",
      "32  2040  4  314900.0\n",
      "33  3137  3  579900.0\n",
      "34  1811  4  285900.0\n",
      "35  1437  3  249900.0\n",
      "36  1239  3  229900.0\n",
      "37  2132  4  345000.0\n",
      "38  4215  4  549000.0\n",
      "39  2162  4  287000.0\n",
      "40  1664  2  368500.0\n",
      "41  2238  3  329900.0\n",
      "42  2567  4  314000.0\n",
      "43  1200  3  299000.0\n",
      "44   852  2  179900.0\n",
      "45  1852  4  299900.0\n",
      "46  1203  3  239500.0\n"
     ]
    }
   ],
   "execution_count": 39
  },
  {
   "metadata": {},
   "cell_type": "markdown",
   "source": "b) Utilize o comando python .describe()para fazer uma primeira análise estatística da sua base de dados. Qual a média de preço das casas? Quanto custa a menor casa? Quantos quartos tem a casa mais cara?",
   "id": "63e8f33068942a20"
  },
  {
   "metadata": {
    "ExecuteTime": {
     "end_time": "2025-08-28T00:14:21.780578Z",
     "start_time": "2025-08-28T00:14:21.754635Z"
    }
   },
   "cell_type": "code",
   "source": "data.describe()",
   "id": "fe82eded3de3cd6b",
   "outputs": [
    {
     "data": {
      "text/plain": [
       "                 0          1              2\n",
       "count    47.000000  47.000000      47.000000\n",
       "mean   2000.680851   3.170213  340412.765957\n",
       "std     794.702354   0.760982  125039.911223\n",
       "min     852.000000   1.000000  169900.000000\n",
       "25%    1432.000000   3.000000  249900.000000\n",
       "50%    1888.000000   3.000000  299900.000000\n",
       "75%    2269.000000   4.000000  384450.000000\n",
       "max    4478.000000   5.000000  699900.000000"
      ],
      "text/html": [
       "<div>\n",
       "<style scoped>\n",
       "    .dataframe tbody tr th:only-of-type {\n",
       "        vertical-align: middle;\n",
       "    }\n",
       "\n",
       "    .dataframe tbody tr th {\n",
       "        vertical-align: top;\n",
       "    }\n",
       "\n",
       "    .dataframe thead th {\n",
       "        text-align: right;\n",
       "    }\n",
       "</style>\n",
       "<table border=\"1\" class=\"dataframe\">\n",
       "  <thead>\n",
       "    <tr style=\"text-align: right;\">\n",
       "      <th></th>\n",
       "      <th>0</th>\n",
       "      <th>1</th>\n",
       "      <th>2</th>\n",
       "    </tr>\n",
       "  </thead>\n",
       "  <tbody>\n",
       "    <tr>\n",
       "      <th>count</th>\n",
       "      <td>47.000000</td>\n",
       "      <td>47.000000</td>\n",
       "      <td>47.000000</td>\n",
       "    </tr>\n",
       "    <tr>\n",
       "      <th>mean</th>\n",
       "      <td>2000.680851</td>\n",
       "      <td>3.170213</td>\n",
       "      <td>340412.765957</td>\n",
       "    </tr>\n",
       "    <tr>\n",
       "      <th>std</th>\n",
       "      <td>794.702354</td>\n",
       "      <td>0.760982</td>\n",
       "      <td>125039.911223</td>\n",
       "    </tr>\n",
       "    <tr>\n",
       "      <th>min</th>\n",
       "      <td>852.000000</td>\n",
       "      <td>1.000000</td>\n",
       "      <td>169900.000000</td>\n",
       "    </tr>\n",
       "    <tr>\n",
       "      <th>25%</th>\n",
       "      <td>1432.000000</td>\n",
       "      <td>3.000000</td>\n",
       "      <td>249900.000000</td>\n",
       "    </tr>\n",
       "    <tr>\n",
       "      <th>50%</th>\n",
       "      <td>1888.000000</td>\n",
       "      <td>3.000000</td>\n",
       "      <td>299900.000000</td>\n",
       "    </tr>\n",
       "    <tr>\n",
       "      <th>75%</th>\n",
       "      <td>2269.000000</td>\n",
       "      <td>4.000000</td>\n",
       "      <td>384450.000000</td>\n",
       "    </tr>\n",
       "    <tr>\n",
       "      <th>max</th>\n",
       "      <td>4478.000000</td>\n",
       "      <td>5.000000</td>\n",
       "      <td>699900.000000</td>\n",
       "    </tr>\n",
       "  </tbody>\n",
       "</table>\n",
       "</div>"
      ]
     },
     "execution_count": 5,
     "metadata": {},
     "output_type": "execute_result"
    }
   ],
   "execution_count": 5
  },
  {
   "metadata": {},
   "cell_type": "markdown",
   "source": "Média de Preços: 340412.765957\n",
   "id": "cbe7b81ff4241c24"
  },
  {
   "metadata": {
    "ExecuteTime": {
     "end_time": "2025-08-28T00:14:21.822920Z",
     "start_time": "2025-08-28T00:14:21.804218Z"
    }
   },
   "cell_type": "code",
   "source": "data",
   "id": "69dddc0dfe735556",
   "outputs": [
    {
     "data": {
      "text/plain": [
       "       0  1         2\n",
       "0   2104  3  399900.0\n",
       "1   1600  3  329900.0\n",
       "2   2400  3  369000.0\n",
       "3   1416  2  232000.0\n",
       "4   3000  4  539900.0\n",
       "5   1985  4  299900.0\n",
       "6   1534  3  314900.0\n",
       "7   1427  3  199000.0\n",
       "8   1380  3  212000.0\n",
       "9   1494  3  242500.0\n",
       "10  1940  4  240000.0\n",
       "11  2000  3  347000.0\n",
       "12  1890  3  330000.0\n",
       "13  4478  5  699900.0\n",
       "14  1268  3  259900.0\n",
       "15  2300  4  449900.0\n",
       "16  1320  2  299900.0\n",
       "17  1236  3  199900.0\n",
       "18  2609  4  500000.0\n",
       "19  3031  4  599000.0\n",
       "20  1767  3  252900.0\n",
       "21  1888  2  255000.0\n",
       "22  1604  3  242900.0\n",
       "23  1962  4  259900.0\n",
       "24  3890  3  573900.0\n",
       "25  1100  3  249900.0\n",
       "26  1458  3  464500.0\n",
       "27  2526  3  469000.0\n",
       "28  2200  3  475000.0\n",
       "29  2637  3  299900.0\n",
       "30  1839  2  349900.0\n",
       "31  1000  1  169900.0\n",
       "32  2040  4  314900.0\n",
       "33  3137  3  579900.0\n",
       "34  1811  4  285900.0\n",
       "35  1437  3  249900.0\n",
       "36  1239  3  229900.0\n",
       "37  2132  4  345000.0\n",
       "38  4215  4  549000.0\n",
       "39  2162  4  287000.0\n",
       "40  1664  2  368500.0\n",
       "41  2238  3  329900.0\n",
       "42  2567  4  314000.0\n",
       "43  1200  3  299000.0\n",
       "44   852  2  179900.0\n",
       "45  1852  4  299900.0\n",
       "46  1203  3  239500.0"
      ],
      "text/html": [
       "<div>\n",
       "<style scoped>\n",
       "    .dataframe tbody tr th:only-of-type {\n",
       "        vertical-align: middle;\n",
       "    }\n",
       "\n",
       "    .dataframe tbody tr th {\n",
       "        vertical-align: top;\n",
       "    }\n",
       "\n",
       "    .dataframe thead th {\n",
       "        text-align: right;\n",
       "    }\n",
       "</style>\n",
       "<table border=\"1\" class=\"dataframe\">\n",
       "  <thead>\n",
       "    <tr style=\"text-align: right;\">\n",
       "      <th></th>\n",
       "      <th>0</th>\n",
       "      <th>1</th>\n",
       "      <th>2</th>\n",
       "    </tr>\n",
       "  </thead>\n",
       "  <tbody>\n",
       "    <tr>\n",
       "      <th>0</th>\n",
       "      <td>2104</td>\n",
       "      <td>3</td>\n",
       "      <td>399900.0</td>\n",
       "    </tr>\n",
       "    <tr>\n",
       "      <th>1</th>\n",
       "      <td>1600</td>\n",
       "      <td>3</td>\n",
       "      <td>329900.0</td>\n",
       "    </tr>\n",
       "    <tr>\n",
       "      <th>2</th>\n",
       "      <td>2400</td>\n",
       "      <td>3</td>\n",
       "      <td>369000.0</td>\n",
       "    </tr>\n",
       "    <tr>\n",
       "      <th>3</th>\n",
       "      <td>1416</td>\n",
       "      <td>2</td>\n",
       "      <td>232000.0</td>\n",
       "    </tr>\n",
       "    <tr>\n",
       "      <th>4</th>\n",
       "      <td>3000</td>\n",
       "      <td>4</td>\n",
       "      <td>539900.0</td>\n",
       "    </tr>\n",
       "    <tr>\n",
       "      <th>5</th>\n",
       "      <td>1985</td>\n",
       "      <td>4</td>\n",
       "      <td>299900.0</td>\n",
       "    </tr>\n",
       "    <tr>\n",
       "      <th>6</th>\n",
       "      <td>1534</td>\n",
       "      <td>3</td>\n",
       "      <td>314900.0</td>\n",
       "    </tr>\n",
       "    <tr>\n",
       "      <th>7</th>\n",
       "      <td>1427</td>\n",
       "      <td>3</td>\n",
       "      <td>199000.0</td>\n",
       "    </tr>\n",
       "    <tr>\n",
       "      <th>8</th>\n",
       "      <td>1380</td>\n",
       "      <td>3</td>\n",
       "      <td>212000.0</td>\n",
       "    </tr>\n",
       "    <tr>\n",
       "      <th>9</th>\n",
       "      <td>1494</td>\n",
       "      <td>3</td>\n",
       "      <td>242500.0</td>\n",
       "    </tr>\n",
       "    <tr>\n",
       "      <th>10</th>\n",
       "      <td>1940</td>\n",
       "      <td>4</td>\n",
       "      <td>240000.0</td>\n",
       "    </tr>\n",
       "    <tr>\n",
       "      <th>11</th>\n",
       "      <td>2000</td>\n",
       "      <td>3</td>\n",
       "      <td>347000.0</td>\n",
       "    </tr>\n",
       "    <tr>\n",
       "      <th>12</th>\n",
       "      <td>1890</td>\n",
       "      <td>3</td>\n",
       "      <td>330000.0</td>\n",
       "    </tr>\n",
       "    <tr>\n",
       "      <th>13</th>\n",
       "      <td>4478</td>\n",
       "      <td>5</td>\n",
       "      <td>699900.0</td>\n",
       "    </tr>\n",
       "    <tr>\n",
       "      <th>14</th>\n",
       "      <td>1268</td>\n",
       "      <td>3</td>\n",
       "      <td>259900.0</td>\n",
       "    </tr>\n",
       "    <tr>\n",
       "      <th>15</th>\n",
       "      <td>2300</td>\n",
       "      <td>4</td>\n",
       "      <td>449900.0</td>\n",
       "    </tr>\n",
       "    <tr>\n",
       "      <th>16</th>\n",
       "      <td>1320</td>\n",
       "      <td>2</td>\n",
       "      <td>299900.0</td>\n",
       "    </tr>\n",
       "    <tr>\n",
       "      <th>17</th>\n",
       "      <td>1236</td>\n",
       "      <td>3</td>\n",
       "      <td>199900.0</td>\n",
       "    </tr>\n",
       "    <tr>\n",
       "      <th>18</th>\n",
       "      <td>2609</td>\n",
       "      <td>4</td>\n",
       "      <td>500000.0</td>\n",
       "    </tr>\n",
       "    <tr>\n",
       "      <th>19</th>\n",
       "      <td>3031</td>\n",
       "      <td>4</td>\n",
       "      <td>599000.0</td>\n",
       "    </tr>\n",
       "    <tr>\n",
       "      <th>20</th>\n",
       "      <td>1767</td>\n",
       "      <td>3</td>\n",
       "      <td>252900.0</td>\n",
       "    </tr>\n",
       "    <tr>\n",
       "      <th>21</th>\n",
       "      <td>1888</td>\n",
       "      <td>2</td>\n",
       "      <td>255000.0</td>\n",
       "    </tr>\n",
       "    <tr>\n",
       "      <th>22</th>\n",
       "      <td>1604</td>\n",
       "      <td>3</td>\n",
       "      <td>242900.0</td>\n",
       "    </tr>\n",
       "    <tr>\n",
       "      <th>23</th>\n",
       "      <td>1962</td>\n",
       "      <td>4</td>\n",
       "      <td>259900.0</td>\n",
       "    </tr>\n",
       "    <tr>\n",
       "      <th>24</th>\n",
       "      <td>3890</td>\n",
       "      <td>3</td>\n",
       "      <td>573900.0</td>\n",
       "    </tr>\n",
       "    <tr>\n",
       "      <th>25</th>\n",
       "      <td>1100</td>\n",
       "      <td>3</td>\n",
       "      <td>249900.0</td>\n",
       "    </tr>\n",
       "    <tr>\n",
       "      <th>26</th>\n",
       "      <td>1458</td>\n",
       "      <td>3</td>\n",
       "      <td>464500.0</td>\n",
       "    </tr>\n",
       "    <tr>\n",
       "      <th>27</th>\n",
       "      <td>2526</td>\n",
       "      <td>3</td>\n",
       "      <td>469000.0</td>\n",
       "    </tr>\n",
       "    <tr>\n",
       "      <th>28</th>\n",
       "      <td>2200</td>\n",
       "      <td>3</td>\n",
       "      <td>475000.0</td>\n",
       "    </tr>\n",
       "    <tr>\n",
       "      <th>29</th>\n",
       "      <td>2637</td>\n",
       "      <td>3</td>\n",
       "      <td>299900.0</td>\n",
       "    </tr>\n",
       "    <tr>\n",
       "      <th>30</th>\n",
       "      <td>1839</td>\n",
       "      <td>2</td>\n",
       "      <td>349900.0</td>\n",
       "    </tr>\n",
       "    <tr>\n",
       "      <th>31</th>\n",
       "      <td>1000</td>\n",
       "      <td>1</td>\n",
       "      <td>169900.0</td>\n",
       "    </tr>\n",
       "    <tr>\n",
       "      <th>32</th>\n",
       "      <td>2040</td>\n",
       "      <td>4</td>\n",
       "      <td>314900.0</td>\n",
       "    </tr>\n",
       "    <tr>\n",
       "      <th>33</th>\n",
       "      <td>3137</td>\n",
       "      <td>3</td>\n",
       "      <td>579900.0</td>\n",
       "    </tr>\n",
       "    <tr>\n",
       "      <th>34</th>\n",
       "      <td>1811</td>\n",
       "      <td>4</td>\n",
       "      <td>285900.0</td>\n",
       "    </tr>\n",
       "    <tr>\n",
       "      <th>35</th>\n",
       "      <td>1437</td>\n",
       "      <td>3</td>\n",
       "      <td>249900.0</td>\n",
       "    </tr>\n",
       "    <tr>\n",
       "      <th>36</th>\n",
       "      <td>1239</td>\n",
       "      <td>3</td>\n",
       "      <td>229900.0</td>\n",
       "    </tr>\n",
       "    <tr>\n",
       "      <th>37</th>\n",
       "      <td>2132</td>\n",
       "      <td>4</td>\n",
       "      <td>345000.0</td>\n",
       "    </tr>\n",
       "    <tr>\n",
       "      <th>38</th>\n",
       "      <td>4215</td>\n",
       "      <td>4</td>\n",
       "      <td>549000.0</td>\n",
       "    </tr>\n",
       "    <tr>\n",
       "      <th>39</th>\n",
       "      <td>2162</td>\n",
       "      <td>4</td>\n",
       "      <td>287000.0</td>\n",
       "    </tr>\n",
       "    <tr>\n",
       "      <th>40</th>\n",
       "      <td>1664</td>\n",
       "      <td>2</td>\n",
       "      <td>368500.0</td>\n",
       "    </tr>\n",
       "    <tr>\n",
       "      <th>41</th>\n",
       "      <td>2238</td>\n",
       "      <td>3</td>\n",
       "      <td>329900.0</td>\n",
       "    </tr>\n",
       "    <tr>\n",
       "      <th>42</th>\n",
       "      <td>2567</td>\n",
       "      <td>4</td>\n",
       "      <td>314000.0</td>\n",
       "    </tr>\n",
       "    <tr>\n",
       "      <th>43</th>\n",
       "      <td>1200</td>\n",
       "      <td>3</td>\n",
       "      <td>299000.0</td>\n",
       "    </tr>\n",
       "    <tr>\n",
       "      <th>44</th>\n",
       "      <td>852</td>\n",
       "      <td>2</td>\n",
       "      <td>179900.0</td>\n",
       "    </tr>\n",
       "    <tr>\n",
       "      <th>45</th>\n",
       "      <td>1852</td>\n",
       "      <td>4</td>\n",
       "      <td>299900.0</td>\n",
       "    </tr>\n",
       "    <tr>\n",
       "      <th>46</th>\n",
       "      <td>1203</td>\n",
       "      <td>3</td>\n",
       "      <td>239500.0</td>\n",
       "    </tr>\n",
       "  </tbody>\n",
       "</table>\n",
       "</div>"
      ]
     },
     "execution_count": 6,
     "metadata": {},
     "output_type": "execute_result"
    }
   ],
   "execution_count": 6
  },
  {
   "metadata": {},
   "cell_type": "markdown",
   "source": [
    "Preço da Menor Casa: 179900.0\n",
    "\n",
    "Qtd. Quartos da Casa Mais Cara: 5\n"
   ],
   "id": "191654737fc843b"
  },
  {
   "metadata": {},
   "cell_type": "markdown",
   "source": "c) Gere uma matriz X para as variáveis independentes (que são o tamanho da casa e o número de quartos) e o vetor y da variável dependente (que é o preço).",
   "id": "2c902f51c9cbea77"
  },
  {
   "metadata": {
    "ExecuteTime": {
     "end_time": "2025-09-03T22:13:08.810716Z",
     "start_time": "2025-09-03T22:13:08.784830Z"
    }
   },
   "cell_type": "code",
   "source": "data.insert(0, '1', [1 for _ in range(47)])",
   "id": "d7ef31c5eb708c18",
   "outputs": [],
   "execution_count": 40
  },
  {
   "metadata": {
    "ExecuteTime": {
     "end_time": "2025-09-03T22:13:15.259502Z",
     "start_time": "2025-09-03T22:13:15.232961Z"
    }
   },
   "cell_type": "code",
   "source": [
    "ys = data[2]\n",
    "xs = data.drop(2, axis=1)"
   ],
   "id": "e546bde642bad923",
   "outputs": [],
   "execution_count": 41
  },
  {
   "metadata": {
    "ExecuteTime": {
     "end_time": "2025-09-03T22:13:18.924588Z",
     "start_time": "2025-09-03T22:13:18.910733Z"
    }
   },
   "cell_type": "code",
   "source": [
    "print(f'Matriz X\\n{xs}')\n",
    "print('===============')\n",
    "print(f'Vetor Y\\n{ys}')\n"
   ],
   "id": "f98ed6eb13d0fb54",
   "outputs": [
    {
     "name": "stdout",
     "output_type": "stream",
     "text": [
      "Matriz X\n",
      "    1     0  1\n",
      "0   1  2104  3\n",
      "1   1  1600  3\n",
      "2   1  2400  3\n",
      "3   1  1416  2\n",
      "4   1  3000  4\n",
      "5   1  1985  4\n",
      "6   1  1534  3\n",
      "7   1  1427  3\n",
      "8   1  1380  3\n",
      "9   1  1494  3\n",
      "10  1  1940  4\n",
      "11  1  2000  3\n",
      "12  1  1890  3\n",
      "13  1  4478  5\n",
      "14  1  1268  3\n",
      "15  1  2300  4\n",
      "16  1  1320  2\n",
      "17  1  1236  3\n",
      "18  1  2609  4\n",
      "19  1  3031  4\n",
      "20  1  1767  3\n",
      "21  1  1888  2\n",
      "22  1  1604  3\n",
      "23  1  1962  4\n",
      "24  1  3890  3\n",
      "25  1  1100  3\n",
      "26  1  1458  3\n",
      "27  1  2526  3\n",
      "28  1  2200  3\n",
      "29  1  2637  3\n",
      "30  1  1839  2\n",
      "31  1  1000  1\n",
      "32  1  2040  4\n",
      "33  1  3137  3\n",
      "34  1  1811  4\n",
      "35  1  1437  3\n",
      "36  1  1239  3\n",
      "37  1  2132  4\n",
      "38  1  4215  4\n",
      "39  1  2162  4\n",
      "40  1  1664  2\n",
      "41  1  2238  3\n",
      "42  1  2567  4\n",
      "43  1  1200  3\n",
      "44  1   852  2\n",
      "45  1  1852  4\n",
      "46  1  1203  3\n",
      "===============\n",
      "Vetor Y\n",
      "0     399900.0\n",
      "1     329900.0\n",
      "2     369000.0\n",
      "3     232000.0\n",
      "4     539900.0\n",
      "5     299900.0\n",
      "6     314900.0\n",
      "7     199000.0\n",
      "8     212000.0\n",
      "9     242500.0\n",
      "10    240000.0\n",
      "11    347000.0\n",
      "12    330000.0\n",
      "13    699900.0\n",
      "14    259900.0\n",
      "15    449900.0\n",
      "16    299900.0\n",
      "17    199900.0\n",
      "18    500000.0\n",
      "19    599000.0\n",
      "20    252900.0\n",
      "21    255000.0\n",
      "22    242900.0\n",
      "23    259900.0\n",
      "24    573900.0\n",
      "25    249900.0\n",
      "26    464500.0\n",
      "27    469000.0\n",
      "28    475000.0\n",
      "29    299900.0\n",
      "30    349900.0\n",
      "31    169900.0\n",
      "32    314900.0\n",
      "33    579900.0\n",
      "34    285900.0\n",
      "35    249900.0\n",
      "36    229900.0\n",
      "37    345000.0\n",
      "38    549000.0\n",
      "39    287000.0\n",
      "40    368500.0\n",
      "41    329900.0\n",
      "42    314000.0\n",
      "43    299000.0\n",
      "44    179900.0\n",
      "45    299900.0\n",
      "46    239500.0\n",
      "Name: 2, dtype: float64\n"
     ]
    }
   ],
   "execution_count": 42
  },
  {
   "metadata": {},
   "cell_type": "markdown",
   "source": "d) Verifique a correlação e a regressão para Tamanho da casa e Preço, e, Número de quartos e Preço e apresente os valores no gráfico de dispersão.",
   "id": "f234c636ab4bc451"
  },
  {
   "metadata": {
    "ExecuteTime": {
     "end_time": "2025-09-03T22:13:26.489284Z",
     "start_time": "2025-09-03T22:13:26.241933Z"
    }
   },
   "cell_type": "code",
   "source": [
    "xs.rename(columns={0: 'tamanho', 1: 'quartos'}, inplace=True)\n",
    "\n",
    "correlacao_tamanho_preco = correlacao(xs['tamanho'], ys)\n",
    "correlacao_quartos_preco = correlacao(xs['quartos'], ys)\n",
    "\n",
    "print('Correlação entre Tamanho da Casa e Preço:', correlacao_tamanho_preco)\n",
    "print('Correlação entre Número de Quartos e Preço:', correlacao_quartos_preco)\n",
    "\n",
    "regressao_tamanho_preco = regressao(xs['tamanho'], ys)\n",
    "regressao_quartos_preco = regressao(xs['quartos'], ys)\n",
    "\n",
    "print('Regressão entre Tamanho da Casa e Preço:', regressao_tamanho_preco)\n",
    "print('Regressão entre Número de Quartos e Preço:', regressao_quartos_preco)\n",
    "\n",
    "gerar_grafico_dispersao(xs['tamanho'], ys)\n",
    "gerar_linha_regressao(xs['tamanho'], regressao_tamanho_preco[0], regressao_tamanho_preco[1])\n",
    "plt.show()\n",
    "\n",
    "gerar_grafico_dispersao(xs['quartos'], ys)\n",
    "gerar_linha_regressao(xs['quartos'], regressao_quartos_preco[0], regressao_quartos_preco[1])\n",
    "plt.show()"
   ],
   "id": "2d3de2d3c384a3db",
   "outputs": [
    {
     "name": "stdout",
     "output_type": "stream",
     "text": [
      "Correlação entre Tamanho da Casa e Preço: 0.8549876164803004\n",
      "Correlação entre Número de Quartos e Preço: 0.4422615668462496\n",
      "Regressão entre Tamanho da Casa e Preço: (71270.56635433709, 134.5253039534005)\n",
      "Regressão entre Número de Quartos e Preço: (110034.26517571887, 72669.7284345048)\n"
     ]
    },
    {
     "data": {
      "text/plain": [
       "<Figure size 640x480 with 1 Axes>"
      ],
      "image/png": "[encoded data removed]"
     },
     "metadata": {},
     "output_type": "display_data"
    },
    {
     "data": {
      "text/plain": [
       "<Figure size 640x480 with 1 Axes>"
      ],
      "image/png": "[encoded data removed]"
     },
     "metadata": {},
     "output_type": "display_data"
    }
   ],
   "execution_count": 43
  },
  {
   "metadata": {},
   "cell_type": "markdown",
   "source": "e) Calcule a Regressão Múltipla. Faça o gráfico de dispersão em 3D com o tamanho da casa, número de quartos, e o preço da casa. Neste caso iremos trabalhar com o espaço 3D (verifique como usar Axes3D).",
   "id": "9fa152b3616aaee0"
  },
  {
   "metadata": {
    "ExecuteTime": {
     "end_time": "2025-09-03T22:13:35.560975Z",
     "start_time": "2025-09-03T22:13:35.477699Z"
    }
   },
   "cell_type": "code",
   "source": [
    "import numpy as np\n",
    "import plotly.graph_objects as go\n",
    "\n",
    "def regmultipla(x, y):\n",
    "    xs_transposta = x.transpose()\n",
    "    return np.linalg.inv(xs_transposta @ x) @ (xs_transposta @ y)\n",
    "\n",
    "betas = regmultipla(xs, ys)\n",
    "ys_de_chapeu = xs@betas\n",
    "\n",
    "fig = go.Figure(\n",
    "    data=[go.Scatter3d(x=xs['tamanho'], y=xs['quartos'], z=ys, mode='markers')]\n",
    ")\n",
    "fig.update_layout(title='Disperção 3D'),\n",
    "fig.show()\n"
   ],
   "id": "d7bc41fc67a48c22",
   "outputs": [
    {
     "data": {
      "application/vnd.plotly.v1+json": {
       "data": [
        {
         "mode": "markers",
         "x": {
          "dtype": "i2",
          "bdata": "OAhABmAJiAW4C8EH/gWTBWQF1gWUB9AHYgd+EfQE/AgoBdQEMQrXC+cGYAdEBqoHMg9MBLIF3gmYCE0KLwfoA/gHQQwTB50F1wRUCHcQcgiABr4IBwqwBFQDPAezBA=="
         },
         "y": {
          "dtype": "i1",
          "bdata": "AwMDAgQEAwMDAwQDAwUDBAIDBAQDAgMEAwMDAwMDAgEEAwQDAwQEBAIDBAMCBAM="
         },
         "z": {
          "dtype": "f8",
          "bdata": "AAAAAHBoGEEAAAAAsCIUQQAAAACghRZBAAAAAABSDEEAAAAA+HkgQQAAAADwTRJBAAAAAFA4E0EAAAAAwEoIQQAAAAAA4QlBAAAAACCaDUEAAAAAAEwNQQAAAADgLRVBAAAAAEAkFEEAAAAA+FslQQAAAADguQ9BAAAAALB1G0EAAAAA8E0SQQAAAADgZghBAAAAAICEHkEAAAAAsEciQQAAAAAg3w5BAAAAAMAgD0EAAAAAoKYNQQAAAADguQ9BAAAAAJiDIUEAAAAAYIEOQQAAAADQWRxBAAAAACCgHEEAAAAA4P0cQQAAAADwTRJBAAAAADBbFUEAAAAAYL0EQQAAAABQOBNBAAAAAHiyIUEAAAAAMHMRQQAAAABggQ5BAAAAAGAQDEEAAAAAoA4VQQAAAAAQwSBBAAAAAGCEEUEAAAAA0H0WQQAAAACwIhRBAAAAAEAqE0EAAAAA4D8SQQAAAADg9QVBAAAAAPBNEkEAAAAAYDwNQQ=="
         },
         "type": "scatter3d"
        }
       ],
       "layout": {
        "template": {
         "data": {
          "histogram2dcontour": [
           {
            "type": "histogram2dcontour",
            "colorbar": {
             "outlinewidth": 0,
             "ticks": ""
            },
            "colorscale": [
             [
              0.0,
              "#0d0887"
             ],
             [
              0.1111111111111111,
              "#46039f"
             ],
             [
              0.2222222222222222,
              "#7201a8"
             ],
             [
              0.3333333333333333,
              "#9c179e"
             ],
             [
              0.4444444444444444,
              "#bd3786"
             ],
             [
              0.5555555555555556,
              "#d8576b"
             ],
             [
              0.6666666666666666,
              "#ed7953"
             ],
             [
              0.7777777777777778,
              "#fb9f3a"
             ],
             [
              0.8888888888888888,
              "#fdca26"
             ],
             [
              1.0,
              "#f0f921"
             ]
            ]
           }
          ],
          "choropleth": [
           {
            "type": "choropleth",
            "colorbar": {
             "outlinewidth": 0,
             "ticks": ""
            }
           }
          ],
          "histogram2d": [
           {
            "type": "histogram2d",
            "colorbar": {
             "outlinewidth": 0,
             "ticks": ""
            },
            "colorscale": [
             [
              0.0,
              "#0d0887"
             ],
             [
              0.1111111111111111,
              "#46039f"
             ],
             [
              0.2222222222222222,
              "#7201a8"
             ],
             [
              0.3333333333333333,
              "#9c179e"
             ],
             [
              0.4444444444444444,
              "#bd3786"
             ],
             [
              0.5555555555555556,
              "#d8576b"
             ],
             [
              0.6666666666666666,
              "#ed7953"
             ],
             [
              0.7777777777777778,
              "#fb9f3a"
             ],
             [
              0.8888888888888888,
              "#fdca26"
             ],
             [
              1.0,
              "#f0f921"
             ]
            ]
           }
          ],
          "heatmap": [
           {
            "type": "heatmap",
            "colorbar": {
             "outlinewidth": 0,
             "ticks": ""
            },
            "colorscale": [
             [
              0.0,
              "#0d0887"
             ],
             [
              0.1111111111111111,
              "#46039f"
             ],
             [
              0.2222222222222222,
              "#7201a8"
             ],
             [
              0.3333333333333333,
              "#9c179e"
             ],
             [
              0.4444444444444444,
              "#bd3786"
             ],
             [
              0.5555555555555556,
              "#d8576b"
             ],
             [
              0.6666666666666666,
              "#ed7953"
             ],
             [
              0.7777777777777778,
              "#fb9f3a"
             ],
             [
              0.8888888888888888,
              "#fdca26"
             ],
             [
              1.0,
              "#f0f921"
             ]
            ]
           }
          ],
          "contourcarpet": [
           {
            "type": "contourcarpet",
            "colorbar": {
             "outlinewidth": 0,
             "ticks": ""
            }
           }
          ],
          "contour": [
           {
            "type": "contour",
            "colorbar": {
             "outlinewidth": 0,
             "ticks": ""
            },
            "colorscale": [
             [
              0.0,
              "#0d0887"
             ],
             [
              0.1111111111111111,
              "#46039f"
             ],
             [
              0.2222222222222222,
              "#7201a8"
             ],
             [
              0.3333333333333333,
              "#9c179e"
             ],
             [
              0.4444444444444444,
              "#bd3786"
             ],
             [
              0.5555555555555556,
              "#d8576b"
             ],
             [
              0.6666666666666666,
              "#ed7953"
             ],
             [
              0.7777777777777778,
              "#fb9f3a"
             ],
             [
              0.8888888888888888,
              "#fdca26"
             ],
             [
              1.0,
              "#f0f921"
             ]
            ]
           }
          ],
          "surface": [
           {
            "type": "surface",
            "colorbar": {
             "outlinewidth": 0,
             "ticks": ""
            },
            "colorscale": [
             [
              0.0,
              "#0d0887"
             ],
             [
              0.1111111111111111,
              "#46039f"
             ],
             [
              0.2222222222222222,
              "#7201a8"
             ],
             [
              0.3333333333333333,
              "#9c179e"
             ],
             [
              0.4444444444444444,
              "#bd3786"
             ],
             [
              0.5555555555555556,
              "#d8576b"
             ],
             [
              0.6666666666666666,
              "#ed7953"
             ],
             [
              0.7777777777777778,
              "#fb9f3a"
             ],
             [
              0.8888888888888888,
              "#fdca26"
             ],
             [
              1.0,
              "#f0f921"
             ]
            ]
           }
          ],
          "mesh3d": [
           {
            "type": "mesh3d",
            "colorbar": {
             "outlinewidth": 0,
             "ticks": ""
            }
           }
          ],
          "scatter": [
           {
            "marker": {
             "line": {
              "color": "#283442"
             }
            },
            "type": "scatter"
           }
          ],
          "parcoords": [
           {
            "type": "parcoords",
            "line": {
             "colorbar": {
              "outlinewidth": 0,
              "ticks": ""
             }
            }
           }
          ],
          "scatterpolargl": [
           {
            "type": "scatterpolargl",
            "marker": {
             "colorbar": {
              "outlinewidth": 0,
              "ticks": ""
             }
            }
           }
          ],
          "bar": [
           {
            "error_x": {
             "color": "#f2f5fa"
            },
            "error_y": {
             "color": "#f2f5fa"
            },
            "marker": {
             "line": {
              "color": "rgb(17,17,17)",
              "width": 0.5
             },
             "pattern": {
              "fillmode": "overlay",
              "size": 10,
              "solidity": 0.2
             }
            },
            "type": "bar"
           }
          ],
          "scattergeo": [
           {
            "type": "scattergeo",
            "marker": {
             "colorbar": {
              "outlinewidth": 0,
              "ticks": ""
             }
            }
           }
          ],
          "scatterpolar": [
           {
            "type": "scatterpolar",
            "marker": {
             "colorbar": {
              "outlinewidth": 0,
              "ticks": ""
             }
            }
           }
          ],
          "histogram": [
           {
            "marker": {
             "pattern": {
              "fillmode": "overlay",
              "size": 10,
              "solidity": 0.2
             }
            },
            "type": "histogram"
           }
          ],
          "scattergl": [
           {
            "marker": {
             "line": {
              "color": "#283442"
             }
            },
            "type": "scattergl"
           }
          ],
          "scatter3d": [
           {
            "type": "scatter3d",
            "line": {
             "colorbar": {
              "outlinewidth": 0,
              "ticks": ""
             }
            },
            "marker": {
             "colorbar": {
              "outlinewidth": 0,
              "ticks": ""
             }
            }
           }
          ],
          "scattermap": [
           {
            "type": "scattermap",
            "marker": {
             "colorbar": {
              "outlinewidth": 0,
              "ticks": ""
             }
            }
           }
          ],
          "scattermapbox": [
           {
            "type": "scattermapbox",
            "marker": {
             "colorbar": {
              "outlinewidth": 0,
              "ticks": ""
             }
            }
           }
          ],
          "scatterternary": [
           {
            "type": "scatterternary",
            "marker": {
             "colorbar": {
              "outlinewidth": 0,
              "ticks": ""
             }
            }
           }
          ],
          "scattercarpet": [
           {
            "type": "scattercarpet",
            "marker": {
             "colorbar": {
              "outlinewidth": 0,
              "ticks": ""
             }
            }
           }
          ],
          "carpet": [
           {
            "aaxis": {
             "endlinecolor": "#A2B1C6",
             "gridcolor": "#506784",
             "linecolor": "#506784",
             "minorgridcolor": "#506784",
             "startlinecolor": "#A2B1C6"
            },
            "baxis": {
             "endlinecolor": "#A2B1C6",
             "gridcolor": "#506784",
             "linecolor": "#506784",
             "minorgridcolor": "#506784",
             "startlinecolor": "#A2B1C6"
            },
            "type": "carpet"
           }
          ],
          "table": [
           {
            "cells": {
             "fill": {
              "color": "#506784"
             },
             "line": {
              "color": "rgb(17,17,17)"
             }
            },
            "header": {
             "fill": {
              "color": "#2a3f5f"
             },
             "line": {
              "color": "rgb(17,17,17)"
             }
            },
            "type": "table"
           }
          ],
          "barpolar": [
           {
            "marker": {
             "line": {
              "color": "rgb(17,17,17)",
              "width": 0.5
             },
             "pattern": {
              "fillmode": "overlay",
              "size": 10,
              "solidity": 0.2
             }
            },
            "type": "barpolar"
           }
          ],
          "pie": [
           {
            "automargin": true,
            "type": "pie"
           }
          ]
         },
         "layout": {
          "autotypenumbers": "strict",
          "colorway": [
           "#636efa",
           "#EF553B",
           "#00cc96",
           "#ab63fa",
           "#FFA15A",
           "#19d3f3",
           "#FF6692",
           "#B6E880",
           "#FF97FF",
           "#FECB52"
          ],
          "font": {
           "color": "#f2f5fa"
          },
          "hovermode": "closest",
          "hoverlabel": {
           "align": "left"
          },
          "paper_bgcolor": "rgb(17,17,17)",
          "plot_bgcolor": "rgb(17,17,17)",
          "polar": {
           "bgcolor": "rgb(17,17,17)",
           "angularaxis": {
            "gridcolor": "#506784",
            "linecolor": "#506784",
            "ticks": ""
           },
           "radialaxis": {
            "gridcolor": "#506784",
            "linecolor": "#506784",
            "ticks": ""
           }
          },
          "ternary": {
           "bgcolor": "rgb(17,17,17)",
           "aaxis": {
            "gridcolor": "#506784",
            "linecolor": "#506784",
            "ticks": ""
           },
           "baxis": {
            "gridcolor": "#506784",
            "linecolor": "#506784",
            "ticks": ""
           },
           "caxis": {
            "gridcolor": "#506784",
            "linecolor": "#506784",
            "ticks": ""
           }
          },
          "coloraxis": {
           "colorbar": {
            "outlinewidth": 0,
            "ticks": ""
           }
          },
          "colorscale": {
           "sequential": [
            [
             0.0,
             "#0d0887"
            ],
            [
             0.1111111111111111,
             "#46039f"
            ],
            [
             0.2222222222222222,
             "#7201a8"
            ],
            [
             0.3333333333333333,
             "#9c179e"
            ],
            [
             0.4444444444444444,
             "#bd3786"
            ],
            [
             0.5555555555555556,
             "#d8576b"
            ],
            [
             0.6666666666666666,
             "#ed7953"
            ],
            [
             0.7777777777777778,
             "#fb9f3a"
            ],
            [
             0.8888888888888888,
             "#fdca26"
            ],
            [
             1.0,
             "#f0f921"
            ]
           ],
           "sequentialminus": [
            [
             0.0,
             "#0d0887"
            ],
            [
             0.1111111111111111,
             "#46039f"
            ],
            [
             0.2222222222222222,
             "#7201a8"
            ],
            [
             0.3333333333333333,
             "#9c179e"
            ],
            [
             0.4444444444444444,
             "#bd3786"
            ],
            [
             0.5555555555555556,
             "#d8576b"
            ],
            [
             0.6666666666666666,
             "#ed7953"
            ],
            [
             0.7777777777777778,
             "#fb9f3a"
            ],
            [
             0.8888888888888888,
             "#fdca26"
            ],
            [
             1.0,
             "#f0f921"
            ]
           ],
           "diverging": [
            [
             0,
             "#8e0152"
            ],
            [
             0.1,
             "#c51b7d"
            ],
            [
             0.2,
             "#de77ae"
            ],
            [
             0.3,
             "#f1b6da"
            ],
            [
             0.4,
             "#fde0ef"
            ],
            [
             0.5,
             "#f7f7f7"
            ],
            [
             0.6,
             "#e6f5d0"
            ],
            [
             0.7,
             "#b8e186"
            ],
            [
             0.8,
             "#7fbc41"
            ],
            [
             0.9,
             "#4d9221"
            ],
            [
             1,
             "#276419"
            ]
           ]
          },
          "xaxis": {
           "gridcolor": "#283442",
           "linecolor": "#506784",
           "ticks": "",
           "title": {
            "standoff": 15
           },
           "zerolinecolor": "#283442",
           "automargin": true,
           "zerolinewidth": 2
          },
          "yaxis": {
           "gridcolor": "#283442",
           "linecolor": "#506784",
           "ticks": "",
           "title": {
            "standoff": 15
           },
           "zerolinecolor": "#283442",
           "automargin": true,
           "zerolinewidth": 2
          },
          "scene": {
           "xaxis": {
            "backgroundcolor": "rgb(17,17,17)",
            "gridcolor": "#506784",
            "linecolor": "#506784",
            "showbackground": true,
            "ticks": "",
            "zerolinecolor": "#C8D4E3",
            "gridwidth": 2
           },
           "yaxis": {
            "backgroundcolor": "rgb(17,17,17)",
            "gridcolor": "#506784",
            "linecolor": "#506784",
            "showbackground": true,
            "ticks": "",
            "zerolinecolor": "#C8D4E3",
            "gridwidth": 2
           },
           "zaxis": {
            "backgroundcolor": "rgb(17,17,17)",
            "gridcolor": "#506784",
            "linecolor": "#506784",
            "showbackground": true,
            "ticks": "",
            "zerolinecolor": "#C8D4E3",
            "gridwidth": 2
           }
          },
          "shapedefaults": {
           "line": {
            "color": "#f2f5fa"
           }
          },
          "annotationdefaults": {
           "arrowcolor": "#f2f5fa",
           "arrowhead": 0,
           "arrowwidth": 1
          },
          "geo": {
           "bgcolor": "rgb(17,17,17)",
           "landcolor": "rgb(17,17,17)",
           "subunitcolor": "#506784",
           "showland": true,
           "showlakes": true,
           "lakecolor": "rgb(17,17,17)"
          },
          "title": {
           "x": 0.05
          },
          "updatemenudefaults": {
           "bgcolor": "#506784",
           "borderwidth": 0
          },
          "sliderdefaults": {
           "bgcolor": "#C8D4E3",
           "borderwidth": 1,
           "bordercolor": "rgb(17,17,17)",
           "tickwidth": 0
          },
          "mapbox": {
           "style": "dark"
          }
         }
        },
        "title": {
         "text": "Disperção 3D"
        }
       },
       "config": {
        "plotlyServerURL": "https://plot.ly"
       }
      }
     },
     "metadata": {},
     "output_type": "display_data"
    }
   ],
   "execution_count": 44
  },
  {
   "metadata": {},
   "cell_type": "markdown",
   "source": [
    "f) Trace a linha da regressão no Gráfico de Dispersão. Você pode girar este gráfico para visualizar melhor os dados.\n",
    "\n",
    "g)       Mostre na figura os coeficientes de correlação entre Tamanho da casa e Preço e Número de quartos e Preço."
   ],
   "id": "e7c74314650465eb"
  },
  {
   "metadata": {
    "ExecuteTime": {
     "end_time": "2025-09-03T22:13:46.052066Z",
     "start_time": "2025-09-03T22:13:45.970441Z"
    }
   },
   "cell_type": "code",
   "source": [
    "b0, b1, b2 = np.ravel(betas)\n",
    "\n",
    "x_surf, y_surf = np.meshgrid(\n",
    "    np.linspace(xs['tamanho'].min(), xs['tamanho'].max(), 40),\n",
    "    np.linspace(xs['quartos'].min(),  xs['quartos'].max(), 40)\n",
    ")\n",
    "\n",
    "z_surf = b0 + b1 * x_surf + b2 * y_surf\n",
    "\n",
    "fig = go.Figure()\n",
    "\n",
    "fig.add_trace(go.Scatter3d(\n",
    "    x=xs['tamanho'],\n",
    "    y=xs['quartos'],\n",
    "    z=ys,\n",
    "    mode='markers',\n",
    "    marker=dict(size=5, color='red'),\n",
    "    name=\"Dados reais\"\n",
    "))\n",
    "\n",
    "fig.add_trace(go.Surface(\n",
    "    x=x_surf, y=y_surf, z=z_surf,\n",
    "    colorscale=\"Blues\", opacity=0.5,\n",
    "    name=\"Plano de Regressão\"\n",
    "))\n",
    "\n",
    "fig.update_layout(\n",
    "    scene=dict(\n",
    "        xaxis_title=\"Tamanho\",\n",
    "        yaxis_title=\"Quartos\",\n",
    "        zaxis_title=\"Preço\"\n",
    "    ),\n",
    "    title=f\"correlacao_tamanho_preco {correlacao_tamanho_preco} \\n \"\n",
    "          f\"correlacao_quartos_preco {correlacao_quartos_preco}\"\n",
    ")\n",
    "\n",
    "fig.show()"
   ],
   "id": "56672572091a9302",
   "outputs": [
    {
     "data": {
      "application/vnd.plotly.v1+json": {
       "data": [
        {
         "marker": {
          "color": "red",
          "size": 5
         },
         "mode": "markers",
         "name": "Dados reais",
         "x": {
          "dtype": "i2",
          "bdata": "OAhABmAJiAW4C8EH/gWTBWQF1gWUB9AHYgd+EfQE/AgoBdQEMQrXC+cGYAdEBqoHMg9MBLIF3gmYCE0KLwfoA/gHQQwTB50F1wRUCHcQcgiABr4IBwqwBFQDPAezBA=="
         },
         "y": {
          "dtype": "i1",
          "bdata": "AwMDAgQEAwMDAwQDAwUDBAIDBAQDAgMEAwMDAwMDAgEEAwQDAwQEBAIDBAMCBAM="
         },
         "z": {
          "dtype": "f8",
          "bdata": "AAAAAHBoGEEAAAAAsCIUQQAAAACghRZBAAAAAABSDEEAAAAA+HkgQQAAAADwTRJBAAAAAFA4E0EAAAAAwEoIQQAAAAAA4QlBAAAAACCaDUEAAAAAAEwNQQAAAADgLRVBAAAAAEAkFEEAAAAA+FslQQAAAADguQ9BAAAAALB1G0EAAAAA8E0SQQAAAADgZghBAAAAAICEHkEAAAAAsEciQQAAAAAg3w5BAAAAAMAgD0EAAAAAoKYNQQAAAADguQ9BAAAAAJiDIUEAAAAAYIEOQQAAAADQWRxBAAAAACCgHEEAAAAA4P0cQQAAAADwTRJBAAAAADBbFUEAAAAAYL0EQQAAAABQOBNBAAAAAHiyIUEAAAAAMHMRQQAAAABggQ5BAAAAAGAQDEEAAAAAoA4VQQAAAAAQwSBBAAAAAGCEEUEAAAAA0H0WQQAAAACwIhRBAAAAAEAqE0EAAAAA4D8SQQAAAADg9QVBAAAAAPBNEkEAAAAAYDwNQQ=="
         },
         "type": "scatter3d"
        },
        {
         "colorscale": [
          [
           0.0,
           "rgb(247,251,255)"
          ],
          [
           0.125,
           "rgb(222,235,247)"
          ],
          [
           0.25,
           "rgb(198,219,239)"
          ],
          [
           0.375,
           "rgb(158,202,225)"
          ],
          [
           0.5,
           "rgb(107,174,214)"
          ],
          [
           0.625,
           "rgb(66,146,198)"
          ],
          [
           0.75,
           "rgb(33,113,181)"
          ],
          [
           0.875,
           "rgb(8,81,156)"
          ],
          [
           1.0,
           "rgb(8,48,107)"
          ]
         ],
         "name": "Plano de Regressão",
         "opacity": 0.5,
         "x": {
          "dtype": "f8",
          "bdata": "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",
          "shape": "40, 40"
         },
         "y": {
          "dtype": "f8",
          "bdata": "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",
          "shape": "40, 40"
         },
         "z": {
          "dtype": "f8",
          "bdata": "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",
          "shape": "40, 40"
         },
         "type": "surface"
        }
       ],
       "layout": {
        "template": {
         "data": {
          "histogram2dcontour": [
           {
            "type": "histogram2dcontour",
            "colorbar": {
             "outlinewidth": 0,
             "ticks": ""
            },
            "colorscale": [
             [
              0.0,
              "#0d0887"
             ],
             [
              0.1111111111111111,
              "#46039f"
             ],
             [
              0.2222222222222222,
              "#7201a8"
             ],
             [
              0.3333333333333333,
              "#9c179e"
             ],
             [
              0.4444444444444444,
              "#bd3786"
             ],
             [
              0.5555555555555556,
              "#d8576b"
             ],
             [
              0.6666666666666666,
              "#ed7953"
             ],
             [
              0.7777777777777778,
              "#fb9f3a"
             ],
             [
              0.8888888888888888,
              "#fdca26"
             ],
             [
              1.0,
              "#f0f921"
             ]
            ]
           }
          ],
          "choropleth": [
           {
            "type": "choropleth",
            "colorbar": {
             "outlinewidth": 0,
             "ticks": ""
            }
           }
          ],
          "histogram2d": [
           {
            "type": "histogram2d",
            "colorbar": {
             "outlinewidth": 0,
             "ticks": ""
            },
            "colorscale": [
             [
              0.0,
              "#0d0887"
             ],
             [
              0.1111111111111111,
              "#46039f"
             ],
             [
              0.2222222222222222,
              "#7201a8"
             ],
             [
              0.3333333333333333,
              "#9c179e"
             ],
             [
              0.4444444444444444,
              "#bd3786"
             ],
             [
              0.5555555555555556,
              "#d8576b"
             ],
             [
              0.6666666666666666,
              "#ed7953"
             ],
             [
              0.7777777777777778,
              "#fb9f3a"
             ],
             [
              0.8888888888888888,
              "#fdca26"
             ],
             [
              1.0,
              "#f0f921"
             ]
            ]
           }
          ],
          "heatmap": [
           {
            "type": "heatmap",
            "colorbar": {
             "outlinewidth": 0,
             "ticks": ""
            },
            "colorscale": [
             [
              0.0,
              "#0d0887"
             ],
             [
              0.1111111111111111,
              "#46039f"
             ],
             [
              0.2222222222222222,
              "#7201a8"
             ],
             [
              0.3333333333333333,
              "#9c179e"
             ],
             [
              0.4444444444444444,
              "#bd3786"
             ],
             [
              0.5555555555555556,
              "#d8576b"
             ],
             [
              0.6666666666666666,
              "#ed7953"
             ],
             [
              0.7777777777777778,
              "#fb9f3a"
             ],
             [
              0.8888888888888888,
              "#fdca26"
             ],
             [
              1.0,
              "#f0f921"
             ]
            ]
           }
          ],
          "contourcarpet": [
           {
            "type": "contourcarpet",
            "colorbar": {
             "outlinewidth": 0,
             "ticks": ""
            }
           }
          ],
          "contour": [
           {
            "type": "contour",
            "colorbar": {
             "outlinewidth": 0,
             "ticks": ""
            },
            "colorscale": [
             [
              0.0,
              "#0d0887"
             ],
             [
              0.1111111111111111,
              "#46039f"
             ],
             [
              0.2222222222222222,
              "#7201a8"
             ],
             [
              0.3333333333333333,
              "#9c179e"
             ],
             [
              0.4444444444444444,
              "#bd3786"
             ],
             [
              0.5555555555555556,
              "#d8576b"
             ],
             [
              0.6666666666666666,
              "#ed7953"
             ],
             [
              0.7777777777777778,
              "#fb9f3a"
             ],
             [
              0.8888888888888888,
              "#fdca26"
             ],
             [
              1.0,
              "#f0f921"
             ]
            ]
           }
          ],
          "surface": [
           {
            "type": "surface",
            "colorbar": {
             "outlinewidth": 0,
             "ticks": ""
            },
            "colorscale": [
             [
              0.0,
              "#0d0887"
             ],
             [
              0.1111111111111111,
              "#46039f"
             ],
             [
              0.2222222222222222,
              "#7201a8"
             ],
             [
              0.3333333333333333,
              "#9c179e"
             ],
             [
              0.4444444444444444,
              "#bd3786"
             ],
             [
              0.5555555555555556,
              "#d8576b"
             ],
             [
              0.6666666666666666,
              "#ed7953"
             ],
             [
              0.7777777777777778,
              "#fb9f3a"
             ],
             [
              0.8888888888888888,
              "#fdca26"
             ],
             [
              1.0,
              "#f0f921"
             ]
            ]
           }
          ],
          "mesh3d": [
           {
            "type": "mesh3d",
            "colorbar": {
             "outlinewidth": 0,
             "ticks": ""
            }
           }
          ],
          "scatter": [
           {
            "marker": {
             "line": {
              "color": "#283442"
             }
            },
            "type": "scatter"
           }
          ],
          "parcoords": [
           {
            "type": "parcoords",
            "line": {
             "colorbar": {
              "outlinewidth": 0,
              "ticks": ""
             }
            }
           }
          ],
          "scatterpolargl": [
           {
            "type": "scatterpolargl",
            "marker": {
             "colorbar": {
              "outlinewidth": 0,
              "ticks": ""
             }
            }
           }
          ],
          "bar": [
           {
            "error_x": {
             "color": "#f2f5fa"
            },
            "error_y": {
             "color": "#f2f5fa"
            },
            "marker": {
             "line": {
              "color": "rgb(17,17,17)",
              "width": 0.5
             },
             "pattern": {
              "fillmode": "overlay",
              "size": 10,
              "solidity": 0.2
             }
            },
            "type": "bar"
           }
          ],
          "scattergeo": [
           {
            "type": "scattergeo",
            "marker": {
             "colorbar": {
              "outlinewidth": 0,
              "ticks": ""
             }
            }
           }
          ],
          "scatterpolar": [
           {
            "type": "scatterpolar",
            "marker": {
             "colorbar": {
              "outlinewidth": 0,
              "ticks": ""
             }
            }
           }
          ],
          "histogram": [
           {
            "marker": {
             "pattern": {
              "fillmode": "overlay",
              "size": 10,
              "solidity": 0.2
             }
            },
            "type": "histogram"
           }
          ],
          "scattergl": [
           {
            "marker": {
             "line": {
              "color": "#283442"
             }
            },
            "type": "scattergl"
           }
          ],
          "scatter3d": [
           {
            "type": "scatter3d",
            "line": {
             "colorbar": {
              "outlinewidth": 0,
              "ticks": ""
             }
            },
            "marker": {
             "colorbar": {
              "outlinewidth": 0,
              "ticks": ""
             }
            }
           }
          ],
          "scattermap": [
           {
            "type": "scattermap",
            "marker": {
             "colorbar": {
              "outlinewidth": 0,
              "ticks": ""
             }
            }
           }
          ],
          "scattermapbox": [
           {
            "type": "scattermapbox",
            "marker": {
             "colorbar": {
              "outlinewidth": 0,
              "ticks": ""
             }
            }
           }
          ],
          "scatterternary": [
           {
            "type": "scatterternary",
            "marker": {
             "colorbar": {
              "outlinewidth": 0,
              "ticks": ""
             }
            }
           }
          ],
          "scattercarpet": [
           {
            "type": "scattercarpet",
            "marker": {
             "colorbar": {
              "outlinewidth": 0,
              "ticks": ""
             }
            }
           }
          ],
          "carpet": [
           {
            "aaxis": {
             "endlinecolor": "#A2B1C6",
             "gridcolor": "#506784",
             "linecolor": "#506784",
             "minorgridcolor": "#506784",
             "startlinecolor": "#A2B1C6"
            },
            "baxis": {
             "endlinecolor": "#A2B1C6",
             "gridcolor": "#506784",
             "linecolor": "#506784",
             "minorgridcolor": "#506784",
             "startlinecolor": "#A2B1C6"
            },
            "type": "carpet"
           }
          ],
          "table": [
           {
            "cells": {
             "fill": {
              "color": "#506784"
             },
             "line": {
              "color": "rgb(17,17,17)"
             }
            },
            "header": {
             "fill": {
              "color": "#2a3f5f"
             },
             "line": {
              "color": "rgb(17,17,17)"
             }
            },
            "type": "table"
           }
          ],
          "barpolar": [
           {
            "marker": {
             "line": {
              "color": "rgb(17,17,17)",
              "width": 0.5
             },
             "pattern": {
              "fillmode": "overlay",
              "size": 10,
              "solidity": 0.2
             }
            },
            "type": "barpolar"
           }
          ],
          "pie": [
           {
            "automargin": true,
            "type": "pie"
           }
          ]
         },
         "layout": {
          "autotypenumbers": "strict",
          "colorway": [
           "#636efa",
           "#EF553B",
           "#00cc96",
           "#ab63fa",
           "#FFA15A",
           "#19d3f3",
           "#FF6692",
           "#B6E880",
           "#FF97FF",
           "#FECB52"
          ],
          "font": {
           "color": "#f2f5fa"
          },
          "hovermode": "closest",
          "hoverlabel": {
           "align": "left"
          },
          "paper_bgcolor": "rgb(17,17,17)",
          "plot_bgcolor": "rgb(17,17,17)",
          "polar": {
           "bgcolor": "rgb(17,17,17)",
           "angularaxis": {
            "gridcolor": "#506784",
            "linecolor": "#506784",
            "ticks": ""
           },
           "radialaxis": {
            "gridcolor": "#506784",
            "linecolor": "#506784",
            "ticks": ""
           }
          },
          "ternary": {
           "bgcolor": "rgb(17,17,17)",
           "aaxis": {
            "gridcolor": "#506784",
            "linecolor": "#506784",
            "ticks": ""
           },
           "baxis": {
            "gridcolor": "#506784",
            "linecolor": "#506784",
            "ticks": ""
           },
           "caxis": {
            "gridcolor": "#506784",
            "linecolor": "#506784",
            "ticks": ""
           }
          },
          "coloraxis": {
           "colorbar": {
            "outlinewidth": 0,
            "ticks": ""
           }
          },
          "colorscale": {
           "sequential": [
            [
             0.0,
             "#0d0887"
            ],
            [
             0.1111111111111111,
             "#46039f"
            ],
            [
             0.2222222222222222,
             "#7201a8"
            ],
            [
             0.3333333333333333,
             "#9c179e"
            ],
            [
             0.4444444444444444,
             "#bd3786"
            ],
            [
             0.5555555555555556,
             "#d8576b"
            ],
            [
             0.6666666666666666,
             "#ed7953"
            ],
            [
             0.7777777777777778,
             "#fb9f3a"
            ],
            [
             0.8888888888888888,
             "#fdca26"
            ],
            [
             1.0,
             "#f0f921"
            ]
           ],
           "sequentialminus": [
            [
             0.0,
             "#0d0887"
            ],
            [
             0.1111111111111111,
             "#46039f"
            ],
            [
             0.2222222222222222,
             "#7201a8"
            ],
            [
             0.3333333333333333,
             "#9c179e"
            ],
            [
             0.4444444444444444,
             "#bd3786"
            ],
            [
             0.5555555555555556,
             "#d8576b"
            ],
            [
             0.6666666666666666,
             "#ed7953"
            ],
            [
             0.7777777777777778,
             "#fb9f3a"
            ],
            [
             0.8888888888888888,
             "#fdca26"
            ],
            [
             1.0,
             "#f0f921"
            ]
           ],
           "diverging": [
            [
             0,
             "#8e0152"
            ],
            [
             0.1,
             "#c51b7d"
            ],
            [
             0.2,
             "#de77ae"
            ],
            [
             0.3,
             "#f1b6da"
            ],
            [
             0.4,
             "#fde0ef"
            ],
            [
             0.5,
             "#f7f7f7"
            ],
            [
             0.6,
             "#e6f5d0"
            ],
            [
             0.7,
             "#b8e186"
            ],
            [
             0.8,
             "#7fbc41"
            ],
            [
             0.9,
             "#4d9221"
            ],
            [
             1,
             "#276419"
            ]
           ]
          },
          "xaxis": {
           "gridcolor": "#283442",
           "linecolor": "#506784",
           "ticks": "",
           "title": {
            "standoff": 15
           },
           "zerolinecolor": "#283442",
           "automargin": true,
           "zerolinewidth": 2
          },
          "yaxis": {
           "gridcolor": "#283442",
           "linecolor": "#506784",
           "ticks": "",
           "title": {
            "standoff": 15
           },
           "zerolinecolor": "#283442",
           "automargin": true,
           "zerolinewidth": 2
          },
          "scene": {
           "xaxis": {
            "backgroundcolor": "rgb(17,17,17)",
            "gridcolor": "#506784",
            "linecolor": "#506784",
            "showbackground": true,
            "ticks": "",
            "zerolinecolor": "#C8D4E3",
            "gridwidth": 2
           },
           "yaxis": {
            "backgroundcolor": "rgb(17,17,17)",
            "gridcolor": "#506784",
            "linecolor": "#506784",
            "showbackground": true,
            "ticks": "",
            "zerolinecolor": "#C8D4E3",
            "gridwidth": 2
           },
           "zaxis": {
            "backgroundcolor": "rgb(17,17,17)",
            "gridcolor": "#506784",
            "linecolor": "#506784",
            "showbackground": true,
            "ticks": "",
            "zerolinecolor": "#C8D4E3",
            "gridwidth": 2
           }
          },
          "shapedefaults": {
           "line": {
            "color": "#f2f5fa"
           }
          },
          "annotationdefaults": {
           "arrowcolor": "#f2f5fa",
           "arrowhead": 0,
           "arrowwidth": 1
          },
          "geo": {
           "bgcolor": "rgb(17,17,17)",
           "landcolor": "rgb(17,17,17)",
           "subunitcolor": "#506784",
           "showland": true,
           "showlakes": true,
           "lakecolor": "rgb(17,17,17)"
          },
          "title": {
           "x": 0.05
          },
          "updatemenudefaults": {
           "bgcolor": "#506784",
           "borderwidth": 0
          },
          "sliderdefaults": {
           "bgcolor": "#C8D4E3",
           "borderwidth": 1,
           "bordercolor": "rgb(17,17,17)",
           "tickwidth": 0
          },
          "mapbox": {
           "style": "dark"
          }
         }
        },
        "scene": {
         "xaxis": {
          "title": {
           "text": "Tamanho"
          }
         },
         "yaxis": {
          "title": {
           "text": "Quartos"
          }
         },
         "zaxis": {
          "title": {
           "text": "Preço"
          }
         }
        },
        "title": {
         "text": "correlacao_tamanho_preco 0.8549876164803004 \n correlacao_quartos_preco 0.4422615668462496"
        }
       },
       "config": {
        "plotlyServerURL": "https://plot.ly"
       }
      }
     },
     "metadata": {},
     "output_type": "display_data"
    }
   ],
   "execution_count": 45
  },
  {
   "metadata": {},
   "cell_type": "markdown",
   "source": "h) Calcule o preço de uma casa que tem tamanho de 1650 e 3 quartos. O resultado deve ser igual a 293081. Aumente e diminua a quantidade de número de quartos. O que acontece? Por qual motivo?",
   "id": "4afb7a5b8bedf807"
  },
  {
   "metadata": {
    "ExecuteTime": {
     "end_time": "2025-09-03T22:13:53.518704Z",
     "start_time": "2025-09-03T22:13:53.510993Z"
    }
   },
   "cell_type": "code",
   "source": [
    "def rmdemo(b_0, b_1, b_2):\n",
    "    print(b_0 + b_1 * 1650 + b_2 * 3)\n",
    "    print(b_0 + b_1 * 1650 + b_2 * 8)\n",
    "    print(b_0 + b_1 * 1650 + b_2 * 1)\n",
    "\n",
    "rmdemo(b0, b1, b2)"
   ],
   "id": "c84d9a13d262650a",
   "outputs": [
    {
     "name": "stdout",
     "output_type": "stream",
     "text": [
      "293081.56687350175\n",
      "249391.98977256677\n",
      "310557.3977138757\n"
     ]
    }
   ],
   "execution_count": 46
  },
  {
   "metadata": {},
   "cell_type": "markdown",
   "source": "Se a quantidade de quartos cresce o preço diminui, se diminui, o preço aumenta. Isso ocorre devido ao beta 2 ser negativo, por causa de sua baixa correlação com os preços como se observa nos dados de treinamento. Além disso, passando para a vida real, como a área da casa não aumenta, então sobra menos espaço para os outros cômodos, podendo desvalorizar o imóvel por ser menos confortável.",
   "id": "9826dc7f2c321142"
  },
  {
   "metadata": {},
   "cell_type": "markdown",
   "source": "i) Compare seus resultados com a função de regressão linear múltipla do python. Para isso você irá precisar das bibliotecas numpy e scikit-learn.",
   "id": "3cd405529c5b557e"
  },
  {
   "metadata": {
    "ExecuteTime": {
     "end_time": "2025-09-03T22:13:58.358641Z",
     "start_time": "2025-09-03T22:13:58.309724Z"
    }
   },
   "cell_type": "code",
   "source": [
    "import numpy as np\n",
    "from sklearn.linear_model import LinearRegression\n",
    "\n",
    "modelo = LinearRegression()\n",
    "modelo.fit(xs, ys)\n",
    "\n",
    "print(\"Coeficientes:\", modelo.coef_)\n",
    "print(\"Intercepto:\", modelo.intercept_)\n",
    "\n",
    "novo_X = pd.DataFrame([[1, 1650, 3]], columns=['1', 'tamanho', 'quartos'])\n",
    "y_pred = modelo.predict(novo_X)\n",
    "print(y_pred)\n",
    "\n",
    "novo_X = pd.DataFrame([[1, 1650, 8]], columns=['1', 'tamanho', 'quartos'])\n",
    "y_pred = modelo.predict(novo_X)\n",
    "\n",
    "print(y_pred)\n",
    "\n",
    "novo_X = pd.DataFrame([[1, 1650, 1]], columns=['1', 'tamanho', 'quartos'])\n",
    "y_pred = modelo.predict(novo_X)\n",
    "print(y_pred)\n"
   ],
   "id": "64a4196e023a5dae",
   "outputs": [
    {
     "name": "stdout",
     "output_type": "stream",
     "text": [
      "Coeficientes: [    0.           139.21063465 -8737.91542019]\n",
      "Intercepto: 89597.76596099918\n",
      "[293081.5668735]\n",
      "[249391.98977257]\n",
      "[310557.39771388]\n"
     ]
    }
   ],
   "execution_count": 47
  }
 ],
 "metadata": {
  "kernelspec": {
   "display_name": "Python 3",
   "language": "python",
   "name": "python3"
  },
  "language_info": {
   "codemirror_mode": {
    "name": "ipython",
    "version": 2
   },
   "file_extension": ".py",
   "mimetype": "text/x-python",
   "name": "python",
   "nbconvert_exporter": "python",
   "pygments_lexer": "ipython2",
   "version": "2.7.6"
  }
 },
 "nbformat": 4,
 "nbformat_minor": 5
}
