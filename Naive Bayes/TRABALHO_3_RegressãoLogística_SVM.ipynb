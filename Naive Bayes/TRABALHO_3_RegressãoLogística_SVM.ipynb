{
 "nbformat": 4,
 "nbformat_minor": 0,
 "metadata": {
  "colab": {
   "provenance": []
  },
  "kernelspec": {
   "name": "python3",
   "display_name": "Python 3 (ipykernel)",
   "language": "python"
  },
  "language_info": {
   "name": "python"
  }
 },
 "cells": [
  {
   "cell_type": "markdown",
   "source": [
    "# PARTE 3 E 4: REGRESSÃO LOGÍSTICA E SVM"
   ],
   "metadata": {
    "id": "yRQiqgkhCpob"
   }
  },
  {
   "cell_type": "code",
   "source": [
    "import pandas as pd\n",
    "import numpy as np\n",
    "import seaborn as sns\n",
    "import matplotlib.pyplot as plt\n",
    "import plotly.express as px"
   ],
   "metadata": {
    "id": "LbqgTd_2W97_",
    "ExecuteTime": {
     "end_time": "2025-10-22T22:57:18.110897Z",
     "start_time": "2025-10-22T22:57:17.956016Z"
    }
   },
   "outputs": [],
   "execution_count": 11
  },
  {
   "cell_type": "markdown",
   "source": [
    "# PARTE 3: Regressão Logística"
   ],
   "metadata": {
    "id": "Da6UjkoKUiH8"
   }
  },
  {
   "cell_type": "markdown",
   "source": "1. Utilize a base de dados construída no Trabalho 3 ‘risco_credito.pkl’, que possui 14 registros, para testar o algoritmo de Regressão Logística.\n",
   "metadata": {
    "id": "VaFYpDAbC8tW"
   }
  },
  {
   "metadata": {
    "ExecuteTime": {
     "end_time": "2025-10-22T23:03:32.873073Z",
     "start_time": "2025-10-22T23:03:32.863318Z"
    }
   },
   "cell_type": "code",
   "source": [
    "import pickle\n",
    "with open('risco_credito.pkl', 'rb') as f:\n",
    "  X_risco_credito, y_risco_credito = pickle.load(f)\n",
    "\n",
    "X_risco_credito"
   ],
   "outputs": [
    {
     "data": {
      "text/plain": [
       "array([[2, 0, 1, 0],\n",
       "       [1, 0, 1, 1],\n",
       "       [1, 1, 1, 1],\n",
       "       [1, 1, 1, 2],\n",
       "       [1, 1, 1, 2],\n",
       "       [1, 1, 0, 2],\n",
       "       [2, 1, 1, 0],\n",
       "       [2, 1, 0, 2],\n",
       "       [0, 1, 1, 2],\n",
       "       [0, 0, 0, 2],\n",
       "       [0, 0, 1, 0],\n",
       "       [0, 0, 1, 1],\n",
       "       [0, 0, 1, 2],\n",
       "       [2, 0, 1, 1]], dtype=object)"
      ]
     },
     "execution_count": 21,
     "metadata": {},
     "output_type": "execute_result"
    }
   ],
   "execution_count": 21
  },
  {
   "metadata": {},
   "cell_type": "markdown",
   "source": "2. Faça o Encoder dos dados e, para facilitar, como fizemos na aula teórica, apague os registros que possuem a classe ‘moderado’. No total teremos 11 registros."
  },
  {
   "metadata": {
    "ExecuteTime": {
     "end_time": "2025-10-22T23:24:08.245580Z",
     "start_time": "2025-10-22T23:24:07.555230Z"
    }
   },
   "cell_type": "code",
   "source": [
    "# 2 = moderado\n",
    "indices_moderado = [i for i, valor in enumerate(y_risco_credito) if valor == 2]\n",
    "X_risco_credito = np.delete(X_risco_credito, indices_moderado, axis=0)\n",
    "X_risco_credito"
   ],
   "outputs": [
    {
     "ename": "IndexError",
     "evalue": "index 11 is out of bounds for axis 0 with size 11",
     "output_type": "error",
     "traceback": [
      "\u001B[31m---------------------------------------------------------------------------\u001B[39m",
      "\u001B[31mIndexError\u001B[39m                                Traceback (most recent call last)",
      "\u001B[36mCell\u001B[39m\u001B[36m \u001B[39m\u001B[32mIn[23]\u001B[39m\u001B[32m, line 3\u001B[39m\n\u001B[32m      1\u001B[39m \u001B[38;5;66;03m# 2 = moderado\u001B[39;00m\n\u001B[32m      2\u001B[39m indices_moderado = [i \u001B[38;5;28;01mfor\u001B[39;00m i, valor \u001B[38;5;129;01min\u001B[39;00m \u001B[38;5;28menumerate\u001B[39m(y_risco_credito) \u001B[38;5;28;01mif\u001B[39;00m valor == \u001B[32m2\u001B[39m]\n\u001B[32m----> \u001B[39m\u001B[32m3\u001B[39m X_risco_credito = \u001B[43mnp\u001B[49m\u001B[43m.\u001B[49m\u001B[43mdelete\u001B[49m\u001B[43m(\u001B[49m\u001B[43mX_risco_credito\u001B[49m\u001B[43m,\u001B[49m\u001B[43m \u001B[49m\u001B[43mindices_moderado\u001B[49m\u001B[43m,\u001B[49m\u001B[43m \u001B[49m\u001B[43maxis\u001B[49m\u001B[43m=\u001B[49m\u001B[32;43m0\u001B[39;49m\u001B[43m)\u001B[49m\n\u001B[32m      4\u001B[39m X_risco_credito\n",
      "\u001B[36mFile \u001B[39m\u001B[32m~\\AppData\\Local\\Programs\\Python\\Python313\\Lib\\site-packages\\numpy\\lib\\_function_base_impl.py:5461\u001B[39m, in \u001B[36mdelete\u001B[39m\u001B[34m(arr, obj, axis)\u001B[39m\n\u001B[32m   5459\u001B[39m \u001B[38;5;28;01melse\u001B[39;00m:\n\u001B[32m   5460\u001B[39m     keep = ones(N, dtype=\u001B[38;5;28mbool\u001B[39m)\n\u001B[32m-> \u001B[39m\u001B[32m5461\u001B[39m     \u001B[43mkeep\u001B[49m\u001B[43m[\u001B[49m\u001B[43mobj\u001B[49m\u001B[43m,\u001B[49m\u001B[43m]\u001B[49m = \u001B[38;5;28;01mFalse\u001B[39;00m\n\u001B[32m   5463\u001B[39m slobj[axis] = keep\n\u001B[32m   5464\u001B[39m new = arr[\u001B[38;5;28mtuple\u001B[39m(slobj)]\n",
      "\u001B[31mIndexError\u001B[39m: index 11 is out of bounds for axis 0 with size 11"
     ]
    }
   ],
   "execution_count": 23
  },
  {
   "metadata": {},
   "cell_type": "markdown",
   "source": [
    "\n",
    "3. Treine o algoritmo de regressão logística e utilize o parâmetro ‘random_state =1’ para ter sempre o mesmo resultado.\n",
    "\n"
   ]
  },
  {
   "metadata": {},
   "cell_type": "code",
   "outputs": [],
   "execution_count": null,
   "source": [
    "from sklearn.linear_model import LogisticRegression\n",
    "\n",
    "regressao_logistica = LogisticRegression(random_state=0)\n"
   ]
  },
  {
   "metadata": {},
   "cell_type": "markdown",
   "source": [
    "4. Utilize o comando ‘.intercept_’ para ter o resultado do B0.\n",
    "O resultado deve ser =-0.80828993"
   ]
  },
  {
   "metadata": {},
   "cell_type": "markdown",
   "source": [
    "5. Utilize o comando ‘.coef_’ para ter o resultado dos demais parâmetros que deve ser:\n",
    "array([[-0.76704533,  0.23906678, -0.47976059,  1.12186218]])"
   ]
  },
  {
   "metadata": {},
   "cell_type": "markdown",
   "source": [
    "6. Agora utilize o comando ‘predict’ para fazer o teste do seu algoritmo com:\n",
    "\n",
    "    a) história boa, dívida alta, garantias nenhuma, renda > 35\n",
    "    (o resultado desse teste deve ser ‘baixo’)\n",
    "\n",
    "    b) história ruim, dívida alta, garantias adequada, renda < 15\n",
    "    (o resultado desse teste deve ser ‘alto’)"
   ]
  },
  {
   "cell_type": "code",
   "execution_count": null,
   "metadata": {
    "id": "aST3PJQ-URtX"
   },
   "outputs": [],
   "source": ""
  },
  {
   "cell_type": "markdown",
   "source": "## Algoritmo de Regressão Logística para uma base de dados maior (Credit Data)",
   "metadata": {
    "id": "HIMAinxLEYMi"
   }
  },
  {
   "cell_type": "markdown",
   "source": [
    "7. Agora aplique a Regressão Logística na base de dados ‘credit.pkl’. De quanto foi a taxa de acerto?\n",
    "\n",
    "8. O resultado com a base de dados ‘credit.pkl’ é melhor que os resultados do Naive Bayes e das Florestas Aleatórias? Descreva sua análise de resultados (observe que para isso você deverá visualizar os resultados da Matriz de Confusão, acurácia, precisão e recall)."
   ],
   "metadata": {
    "id": "PKDgYLDdqAsv"
   }
  },
  {
   "cell_type": "markdown",
   "source": "# PARTE 4: SVM",
   "metadata": {
    "id": "6IUqVdYzbXOi"
   }
  },
  {
   "cell_type": "markdown",
   "source": [
    "1. Aplique o algoritmo SVM na base de dados ‘credit.pkl’.\n",
    "2. Inicialmente treine o SVM com kernel linear, valor do parâmetro C = 1.0 e ‘random_state =1’\n",
    "3. Utilize o comando do sklearn accuray_score para calcular a acurácia do seu algoritmo. O resultado deve ser 0.946\n",
    "4. Teste os demais kernels e anote os resultados. Qual o melhor kernel para a sua base de dados?\n",
    "    * Polinomial\n",
    "    * Sigmoide\n",
    "    * rbf\n",
    "5. Aumente o valor do parâmetro C aplicado ao melhor kernel e verifique se há mudanças no resultado do seu SVM.\n",
    "6. O Grid Search (pesquisa em grade) é uma técnica utilizada para melhorar a precisão e a generalização dos modelos de aprendizado de máquina. Ela é usada para realizar ajustes de hiperparâmetros durante o treinamento de um modelo. O grid search automatiza o processo de encontrar hiperparâmetros ideais, economizando esforço humano em comparação com o ajuste manual, mas pode até ser mais custoso do ponto de vista de desempenho, pois testa todas as combinações possíveis e retorna a que obteve melhor desempenho.\n",
    "Agora, aplique o GridSearch do Scikit-Learn (https://scikit-learn.org/stable/modules/generated/sklearn.model_selection.GridSearchCV.html) para ajudar a identificar os melhores hiperparâmetros para o seu modelo. Qual foi a melhor combinação de hiperparâmetros encontrada? O modelo com melhor desempenho foi obtido com os parâmetros ajustados manualmente ou com o GridSearch?"
   ],
   "metadata": {
    "id": "cinByF1FEmk_"
   }
  },
  {
   "cell_type": "code",
   "source": [
    "from sklearn.svm import SVC"
   ],
   "metadata": {
    "id": "Li6Land0bcmM"
   },
   "execution_count": null,
   "outputs": []
  },
  {
   "cell_type": "markdown",
   "source": [
    "## Base de Dados Credit Data"
   ],
   "metadata": {
    "id": "EmeKgstpc2Tt"
   }
  },
  {
   "cell_type": "markdown",
   "source": [],
   "metadata": {
    "id": "oLxq123_r5n_"
   }
  },
  {
   "cell_type": "markdown",
   "source": [
    "# Análise dos resultados dos 4 algoritmos utilizados:"
   ],
   "metadata": {
    "id": "K_gHfT6fqXeI"
   }
  },
  {
   "cell_type": "markdown",
   "source": [
    "6. O resultado do SVM é melhor que os resultados do Naive Bayes, Florestas Aleatórias e Regressão Logística? Descreva sua análise de resultados (observe que para isso você deverá visualizar os resultados da Matriz de Confusão, acurácia, precisão e recall)."
   ],
   "metadata": {
    "id": "7DrS--HFqfjq"
   }
  },
  {
   "cell_type": "code",
   "source": [],
   "metadata": {
    "id": "2-nwc-6AqcQG"
   },
   "execution_count": null,
   "outputs": []
  }
 ]
}
