{
 "nbformat": 4,
 "nbformat_minor": 0,
 "metadata": {
  "colab": {
   "name": "TRABALHO 3: PARTE 1 - Algoritmo Naïve Bayes.ipynb",
   "provenance": [],
   "collapsed_sections": []
  },
  "kernelspec": {
   "name": "python3",
   "display_name": "Python 3 (ipykernel)",
   "language": "python"
  },
  "language_info": {
   "name": "python"
  }
 },
 "cells": [
  {
   "cell_type": "markdown",
   "source": [
    "# PARTE 1: Algoritmo Naïve Bayes"
   ],
   "metadata": {
    "id": "bsxKZMibIn9I"
   }
  },
  {
   "cell_type": "markdown",
   "source": [
    "Nesta primeira parte do Trabalho você irá aplicar o algoritmo de Naïve Bayes na base de dados de risco de crédito discutida em aula. Para isso você deve primeiramente importar as bibliotecas necessárias."
   ],
   "metadata": {
    "id": "u0xCSPlWjxXp"
   }
  },
  {
   "cell_type": "code",
   "metadata": {
    "id": "1Eg_7LI_Ih0X",
    "ExecuteTime": {
     "end_time": "2025-10-04T18:36:16.874202Z",
     "start_time": "2025-10-04T18:36:16.871304Z"
    }
   },
   "source": [
    "import pandas as pd\n",
    "import numpy as np\n",
    "import seaborn as sns\n",
    "import matplotlib.pyplot as plt\n",
    "import plotly.express as px\n",
    "from sklearn.preprocessing import LabelEncoder"
   ],
   "outputs": [],
   "execution_count": 10
  },
  {
   "cell_type": "code",
   "source": [
    "# importe a base de dados de risco de crédito e nomeie com: dataset_risco_credito\n",
    "dataset_risco_credito = pd.read_csv('dataset_risco_credito.csv')"
   ],
   "metadata": {
    "id": "rSkj01fmJqN8",
    "ExecuteTime": {
     "end_time": "2025-10-04T18:27:44.332852Z",
     "start_time": "2025-10-04T18:27:44.321290Z"
    }
   },
   "outputs": [],
   "execution_count": 3
  },
  {
   "cell_type": "code",
   "source": [
    "# imprima a base de dados para uma primeira avaliação dos dados\n",
    "dataset_risco_credito"
   ],
   "metadata": {
    "id": "ZMOcFXJwKzqv",
    "ExecuteTime": {
     "end_time": "2025-10-04T18:27:45.924401Z",
     "start_time": "2025-10-04T18:27:45.910410Z"
    }
   },
   "outputs": [
    {
     "data": {
      "text/plain": [
       "        historia divida garantias     renda     risco\n",
       "0           ruim   alta   nenhuma      0_15      alto\n",
       "1   desconhecida   alta   nenhuma     15_35      alto\n",
       "2   desconhecida  baixa   nenhuma     15_35  moderado\n",
       "3   desconhecida  baixa   nenhuma  acima_35      alto\n",
       "4   desconhecida  baixa   nenhuma  acima_35     baixo\n",
       "5   desconhecida  baixa  adequada  acima_35     baixo\n",
       "6           ruim  baixa   nenhuma      0_15      alto\n",
       "7           ruim  baixa  adequada  acima_35  moderado\n",
       "8            boa  baixa   nenhuma  acima_35     baixo\n",
       "9            boa   alta  adequada  acima_35     baixo\n",
       "10           boa   alta   nenhuma      0_15      alto\n",
       "11           boa   alta   nenhuma     15_35  moderado\n",
       "12           boa   alta   nenhuma  acima_35     baixo\n",
       "13          ruim   alta   nenhuma     15_35      alto"
      ],
      "text/html": [
       "<div>\n",
       "<style scoped>\n",
       "    .dataframe tbody tr th:only-of-type {\n",
       "        vertical-align: middle;\n",
       "    }\n",
       "\n",
       "    .dataframe tbody tr th {\n",
       "        vertical-align: top;\n",
       "    }\n",
       "\n",
       "    .dataframe thead th {\n",
       "        text-align: right;\n",
       "    }\n",
       "</style>\n",
       "<table border=\"1\" class=\"dataframe\">\n",
       "  <thead>\n",
       "    <tr style=\"text-align: right;\">\n",
       "      <th></th>\n",
       "      <th>historia</th>\n",
       "      <th>divida</th>\n",
       "      <th>garantias</th>\n",
       "      <th>renda</th>\n",
       "      <th>risco</th>\n",
       "    </tr>\n",
       "  </thead>\n",
       "  <tbody>\n",
       "    <tr>\n",
       "      <th>0</th>\n",
       "      <td>ruim</td>\n",
       "      <td>alta</td>\n",
       "      <td>nenhuma</td>\n",
       "      <td>0_15</td>\n",
       "      <td>alto</td>\n",
       "    </tr>\n",
       "    <tr>\n",
       "      <th>1</th>\n",
       "      <td>desconhecida</td>\n",
       "      <td>alta</td>\n",
       "      <td>nenhuma</td>\n",
       "      <td>15_35</td>\n",
       "      <td>alto</td>\n",
       "    </tr>\n",
       "    <tr>\n",
       "      <th>2</th>\n",
       "      <td>desconhecida</td>\n",
       "      <td>baixa</td>\n",
       "      <td>nenhuma</td>\n",
       "      <td>15_35</td>\n",
       "      <td>moderado</td>\n",
       "    </tr>\n",
       "    <tr>\n",
       "      <th>3</th>\n",
       "      <td>desconhecida</td>\n",
       "      <td>baixa</td>\n",
       "      <td>nenhuma</td>\n",
       "      <td>acima_35</td>\n",
       "      <td>alto</td>\n",
       "    </tr>\n",
       "    <tr>\n",
       "      <th>4</th>\n",
       "      <td>desconhecida</td>\n",
       "      <td>baixa</td>\n",
       "      <td>nenhuma</td>\n",
       "      <td>acima_35</td>\n",
       "      <td>baixo</td>\n",
       "    </tr>\n",
       "    <tr>\n",
       "      <th>5</th>\n",
       "      <td>desconhecida</td>\n",
       "      <td>baixa</td>\n",
       "      <td>adequada</td>\n",
       "      <td>acima_35</td>\n",
       "      <td>baixo</td>\n",
       "    </tr>\n",
       "    <tr>\n",
       "      <th>6</th>\n",
       "      <td>ruim</td>\n",
       "      <td>baixa</td>\n",
       "      <td>nenhuma</td>\n",
       "      <td>0_15</td>\n",
       "      <td>alto</td>\n",
       "    </tr>\n",
       "    <tr>\n",
       "      <th>7</th>\n",
       "      <td>ruim</td>\n",
       "      <td>baixa</td>\n",
       "      <td>adequada</td>\n",
       "      <td>acima_35</td>\n",
       "      <td>moderado</td>\n",
       "    </tr>\n",
       "    <tr>\n",
       "      <th>8</th>\n",
       "      <td>boa</td>\n",
       "      <td>baixa</td>\n",
       "      <td>nenhuma</td>\n",
       "      <td>acima_35</td>\n",
       "      <td>baixo</td>\n",
       "    </tr>\n",
       "    <tr>\n",
       "      <th>9</th>\n",
       "      <td>boa</td>\n",
       "      <td>alta</td>\n",
       "      <td>adequada</td>\n",
       "      <td>acima_35</td>\n",
       "      <td>baixo</td>\n",
       "    </tr>\n",
       "    <tr>\n",
       "      <th>10</th>\n",
       "      <td>boa</td>\n",
       "      <td>alta</td>\n",
       "      <td>nenhuma</td>\n",
       "      <td>0_15</td>\n",
       "      <td>alto</td>\n",
       "    </tr>\n",
       "    <tr>\n",
       "      <th>11</th>\n",
       "      <td>boa</td>\n",
       "      <td>alta</td>\n",
       "      <td>nenhuma</td>\n",
       "      <td>15_35</td>\n",
       "      <td>moderado</td>\n",
       "    </tr>\n",
       "    <tr>\n",
       "      <th>12</th>\n",
       "      <td>boa</td>\n",
       "      <td>alta</td>\n",
       "      <td>nenhuma</td>\n",
       "      <td>acima_35</td>\n",
       "      <td>baixo</td>\n",
       "    </tr>\n",
       "    <tr>\n",
       "      <th>13</th>\n",
       "      <td>ruim</td>\n",
       "      <td>alta</td>\n",
       "      <td>nenhuma</td>\n",
       "      <td>15_35</td>\n",
       "      <td>alto</td>\n",
       "    </tr>\n",
       "  </tbody>\n",
       "</table>\n",
       "</div>"
      ]
     },
     "execution_count": 4,
     "metadata": {},
     "output_type": "execute_result"
    }
   ],
   "execution_count": 4
  },
  {
   "cell_type": "markdown",
   "source": [
    "# 1 - Pré-Processamento dos dados\n",
    "\n",
    "a) DIVISÃO DA BASE DE DADOS\n",
    "\n",
    "Separe a base de dados dataset_risco_credito em:\n",
    " - variável x, com nome: X_risco_credito\n",
    " - classe y, com nome: y_risco_credito\n",
    "\n",
    "DICA: você pode utilizar .iloc para selecionar as colunas da matriz e .values para converter para o numpy array."
   ],
   "metadata": {
    "id": "T-Q73vWUM4Dv"
   }
  },
  {
   "metadata": {
    "ExecuteTime": {
     "end_time": "2025-10-04T18:33:15.129645Z",
     "start_time": "2025-10-04T18:33:15.124615Z"
    }
   },
   "cell_type": "code",
   "source": [
    "x_risco_credito = dataset_risco_credito.iloc[:,0:4].values\n",
    "y_risco_credito = dataset_risco_credito.iloc[:,4].values"
   ],
   "outputs": [
    {
     "data": {
      "text/plain": [
       "array(['alto', 'alto', 'moderado', 'alto', 'baixo', 'baixo', 'alto',\n",
       "       'moderado', 'baixo', 'baixo', 'alto', 'moderado', 'baixo', 'alto'],\n",
       "      dtype=object)"
      ]
     },
     "execution_count": 8,
     "metadata": {},
     "output_type": "execute_result"
    }
   ],
   "execution_count": 8
  },
  {
   "cell_type": "markdown",
   "source": [
    "b) APLICAR LABEL ENCODER\n",
    "\n",
    "Perceba que seus dados possuem atributos categóricos (string). Porém, para aplicar esses dados em um algoritmo de aprendizado você precisa transformá-lo em atributo numérico. \n",
    "\n",
    "Como você pode resolver isso?\n",
    "\n",
    "DICA: Veja o que é e como aplicar o Label Enconder em: https://youtu.be/nLKEkBAbpQo"
   ],
   "metadata": {
    "id": "6krg1qp5lICG"
   }
  },
  {
   "metadata": {},
   "cell_type": "code",
   "outputs": [],
   "execution_count": null,
   "source": [
    "def label_enconder(coluna):\n",
    "  le = LabelEncoder()\n",
    "  coluna_transformada = le.fit_transform(coluna)\n",
    "  return coluna_transformada"
   ]
  },
  {
   "cell_type": "code",
   "source": [
    "# Apresente o resultado do label enconder\n",
    "historia = label_enconder(x_risco_credito[:,0]) # história\n",
    "divida = label_enconder(x_risco_credito[:,1]) # dívida\n",
    "garantia = label_enconder(x_risco_credito[:,2]) # garantia\n",
    "renda = label_enconder(x_risco_credito[:,3]) # renda\n",
    "classes = label_enconder(y_risco_credito) # classes\n",
    "\n",
    "x_risco_credito[:,0] = historia\n",
    "x_risco_credito[:,1] = divida\n",
    "x_risco_credito[:,2] = garantia\n",
    "x_risco_credito[:,3] = renda\n",
    "y_risco_credito = classes\n",
    "print(y_risco_credito)\n",
    "x_risco_credito"
   ],
   "metadata": {
    "id": "Vp11dT0xzhby",
    "ExecuteTime": {
     "end_time": "2025-10-04T18:41:31.988108Z",
     "start_time": "2025-10-04T18:41:31.978050Z"
    }
   },
   "outputs": [
    {
     "name": "stdout",
     "output_type": "stream",
     "text": [
      "[0 0 2 0 1 1 0 2 1 1 0 2 1 0]\n"
     ]
    },
    {
     "data": {
      "text/plain": [
       "array([[2, 0, 1, 0],\n",
       "       [1, 0, 1, 1],\n",
       "       [1, 1, 1, 1],\n",
       "       [1, 1, 1, 2],\n",
       "       [1, 1, 1, 2],\n",
       "       [1, 1, 0, 2],\n",
       "       [2, 1, 1, 0],\n",
       "       [2, 1, 0, 2],\n",
       "       [0, 1, 1, 2],\n",
       "       [0, 0, 0, 2],\n",
       "       [0, 0, 1, 0],\n",
       "       [0, 0, 1, 1],\n",
       "       [0, 0, 1, 2],\n",
       "       [2, 0, 1, 1]], dtype=object)"
      ]
     },
     "execution_count": 13,
     "metadata": {},
     "output_type": "execute_result"
    }
   ],
   "execution_count": 13
  },
  {
   "cell_type": "markdown",
   "source": [
    "c) SALVAR O ARQUIVO PRÉ-PROCESSADO"
   ],
   "metadata": {
    "id": "7292E0hp965t"
   }
  },
  {
   "cell_type": "code",
   "source": [
    "# como salvar o arquivo:\n",
    "import pickle\n",
    "with open('risco_credito.pkl', 'wb') as f:\n",
    "  pickle.dump([x_risco_credito, y_risco_credito], f)"
   ],
   "metadata": {
    "id": "vwAxug9UzljY",
    "ExecuteTime": {
     "end_time": "2025-10-04T18:43:19.627221Z",
     "start_time": "2025-10-04T18:43:19.621606Z"
    }
   },
   "outputs": [],
   "execution_count": 16
  },
  {
   "cell_type": "markdown",
   "source": [
    "# 2 - Algoritmo Naïve Bayes"
   ],
   "metadata": {
    "id": "KRRImr6L0S38"
   }
  },
  {
   "cell_type": "code",
   "source": [
    "# importar da biblioteca sklearn o pacote Nayve Bayes\n",
    "# utilizamos a distribuição estatística Gaussiana (classe GaussianNB) ou distribuição normal, pois é mais usado para problemas genéricos\n",
    "from sklearn.naive_bayes import GaussianNB"
   ],
   "metadata": {
    "id": "BMMPnrNK0SZO",
    "ExecuteTime": {
     "end_time": "2025-10-04T18:43:47.343327Z",
     "start_time": "2025-10-04T18:43:47.331223Z"
    }
   },
   "outputs": [],
   "execution_count": 18
  },
  {
   "cell_type": "code",
   "source": [
    "# Criar o objeto Nayve Bayes\n",
    "naiveb_risco_credito = GaussianNB()"
   ],
   "metadata": {
    "id": "UEsASdJ41KiI",
    "ExecuteTime": {
     "end_time": "2025-10-04T18:43:49.285410Z",
     "start_time": "2025-10-04T18:43:49.281524Z"
    }
   },
   "outputs": [],
   "execution_count": 19
  },
  {
   "cell_type": "markdown",
   "source": [
    "a) TREINAR O ALGORITMO\n",
    "\n",
    "Para treinar o algoritmo, você deve gerar a tabela de probabilidades. Para isso, você pode utilizar **.fit** para gerar a tabela.\n",
    "\n",
    "DICA: O 1º parametro são os atributos/características (x) e o 2º parametro é a classe (y).\n",
    "\n",
    "OBS: Não se preocupe, o algoritmo faz a correção laplaciana automaticamente :) ."
   ],
   "metadata": {
    "id": "5X1JzYHVnp_L"
   }
  },
  {
   "cell_type": "markdown",
   "source": [
    "b) FAZER A PREVISÃO\n",
    "\n",
    "Utilize **.predict** para fazer a previsão realizada no exemplo em sala.\n",
    "\n",
    "i) história boa, dívida alta, garantia nenhuma, renda > 35\n",
    "\n",
    "ii) história ruim, dívida alta, garantia adequada, renda < 15\n",
    "\n",
    "Verifique nos slides se seu resultado está correto!"
   ],
   "metadata": {
    "id": "l7HaCQ-po2BI"
   }
  },
  {
   "cell_type": "code",
   "source": [
    "# utilize o atributo .classes_ para mostrar as classes utilizadas pelo algoritmo"
   ],
   "metadata": {
    "id": "zt1dlFdZ817K"
   },
   "execution_count": 3,
   "outputs": []
  },
  {
   "cell_type": "code",
   "source": [
    "# utilize .class_count_ para contar quantos registros tem em cada classe "
   ],
   "metadata": {
    "id": "_Yk0zzz284lv"
   },
   "execution_count": 4,
   "outputs": []
  }
 ]
}
