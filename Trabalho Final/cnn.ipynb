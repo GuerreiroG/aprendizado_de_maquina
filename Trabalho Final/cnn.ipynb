{
 "cells": [
  {
   "metadata": {
    "ExecuteTime": {
     "end_time": "2025-10-31T23:04:16.166981Z",
     "start_time": "2025-10-31T23:04:10.588031Z"
    }
   },
   "cell_type": "code",
   "source": [
    "from tensorflow.keras.preprocessing.image import ImageDataGenerator\n",
    "\n",
    "data_dir = \"PetImages\"  # onde estão as pastas Cat e Dog\n",
    "\n",
    "datagen = ImageDataGenerator(\n",
    "    rescale=1./255,\n",
    "    validation_split=0.2  # 80% treino / 20% validação\n",
    ")\n",
    "\n",
    "train_generator = datagen.flow_from_directory(\n",
    "    data_dir,\n",
    "    target_size=(128, 128),\n",
    "    batch_size=32,\n",
    "    class_mode='binary',\n",
    "    subset='training'\n",
    ")\n",
    "\n",
    "val_generator = datagen.flow_from_directory(\n",
    "    data_dir,\n",
    "    target_size=(128, 128),\n",
    "    batch_size=32,\n",
    "    class_mode='binary',\n",
    "    subset='validation'\n",
    ")\n"
   ],
   "id": "2834eec3d05876d6",
   "outputs": [
    {
     "name": "stdout",
     "output_type": "stream",
     "text": [
      "Found 20000 images belonging to 2 classes.\n",
      "Found 5000 images belonging to 2 classes.\n"
     ]
    }
   ],
   "execution_count": 1
  },
  {
   "metadata": {
    "ExecuteTime": {
     "end_time": "2025-10-31T23:04:34.219802Z",
     "start_time": "2025-10-31T23:04:16.215683Z"
    }
   },
   "cell_type": "code",
   "source": [
    "import os\n",
    "import shutil\n",
    "import random\n",
    "from tqdm import tqdm\n",
    "\n",
    "# Caminhos originais\n",
    "original_dataset_dir = 'PetImages'\n",
    "base_dir = 'data'\n",
    "os.makedirs(base_dir, exist_ok=True)\n",
    "\n",
    "# Subpastas destino\n",
    "for split in ['train', 'val', 'test']:\n",
    "    for category in ['Cat', 'Dog']:\n",
    "        os.makedirs(os.path.join(base_dir, split, category), exist_ok=True)\n",
    "\n",
    "# Parâmetros da divisão\n",
    "split_train = 0.7\n",
    "split_val = 0.15\n",
    "split_test = 0.15\n",
    "\n",
    "def split_data(SOURCE, TRAINING, VALIDATION, TESTING, split_train, split_val, split_test):\n",
    "    files = [f for f in os.listdir(SOURCE) if os.path.getsize(os.path.join(SOURCE, f)) > 0]\n",
    "    random.shuffle(files)\n",
    "    n_total = len(files)\n",
    "    n_train = int(n_total * split_train)\n",
    "    n_val = int(n_total * split_val)\n",
    "\n",
    "    train_files = files[:n_train]\n",
    "    val_files = files[n_train:n_train + n_val]\n",
    "    test_files = files[n_train + n_val:]\n",
    "\n",
    "    for file_list, folder in [(train_files, TRAINING), (val_files, VALIDATION), (test_files, TESTING)]:\n",
    "        for file in tqdm(file_list, desc=f\"Copiando para {folder}\"):\n",
    "            src = os.path.join(SOURCE, file)\n",
    "            dst = os.path.join(folder, file)\n",
    "            shutil.copyfile(src, dst)\n",
    "\n",
    "# Dividindo gatos\n",
    "split_data(\n",
    "    os.path.join(original_dataset_dir, 'Cat'),\n",
    "    os.path.join(base_dir, 'train/Cat'),\n",
    "    os.path.join(base_dir, 'val/Cat'),\n",
    "    os.path.join(base_dir, 'test/Cat'),\n",
    "    split_train, split_val, split_test\n",
    ")\n",
    "\n",
    "# Dividindo cães\n",
    "split_data(\n",
    "    os.path.join(original_dataset_dir, 'Dog'),\n",
    "    os.path.join(base_dir, 'train/Dog'),\n",
    "    os.path.join(base_dir, 'val/Dog'),\n",
    "    os.path.join(base_dir, 'test/Dog'),\n",
    "    split_train, split_val, split_test\n",
    ")\n",
    "\n",
    "print(\"✅ Divisão concluída! Estrutura criada em:\", os.path.abspath(base_dir))\n"
   ],
   "id": "de4b62fc6eabf6f4",
   "outputs": [
    {
     "name": "stderr",
     "output_type": "stream",
     "text": [
      "Copiando para data\\train/Cat: 100%|██████████| 8750/8750 [00:05<00:00, 1485.60it/s]\n",
      "Copiando para data\\val/Cat: 100%|██████████| 1875/1875 [00:01<00:00, 1423.09it/s]\n",
      "Copiando para data\\test/Cat: 100%|██████████| 1875/1875 [00:01<00:00, 1374.50it/s]\n",
      "Copiando para data\\train/Dog: 100%|██████████| 8750/8750 [00:05<00:00, 1510.60it/s]\n",
      "Copiando para data\\val/Dog: 100%|██████████| 1875/1875 [00:01<00:00, 1365.62it/s]\n",
      "Copiando para data\\test/Dog: 100%|██████████| 1875/1875 [00:01<00:00, 1166.24it/s]"
     ]
    },
    {
     "name": "stdout",
     "output_type": "stream",
     "text": [
      "✅ Divisão concluída! Estrutura criada em: C:\\Users\\guto_\\Documents\\FURB\\Aprendizado de Máquina\\aprendizado_de_maquina\\Trabalho Final\\data\n"
     ]
    },
    {
     "name": "stderr",
     "output_type": "stream",
     "text": [
      "\n"
     ]
    }
   ],
   "execution_count": 2
  },
  {
   "metadata": {
    "ExecuteTime": {
     "end_time": "2025-10-31T23:04:37.747693Z",
     "start_time": "2025-10-31T23:04:37.743142Z"
    }
   },
   "cell_type": "code",
   "source": [
    "train_dir = \"data/train\"\n",
    "val_dir = \"data/val\"\n",
    "test_dir = \"data/test\"\n"
   ],
   "id": "2d21777a02b96498",
   "outputs": [],
   "execution_count": 3
  },
  {
   "metadata": {
    "ExecuteTime": {
     "end_time": "2025-10-31T23:42:12.507374Z",
     "start_time": "2025-10-31T23:04:37.761263Z"
    }
   },
   "cell_type": "code",
   "source": [
    "import tensorflow as tf\n",
    "from tensorflow.keras import layers, models\n",
    "from tensorflow.keras.preprocessing.image import ImageDataGenerator\n",
    "import matplotlib.pyplot as plt\n",
    "\n",
    "# 🔹 Caminhos das pastas\n",
    "train_dir = \"data/train\"\n",
    "val_dir = \"data/val\"\n",
    "test_dir = \"data/test\"\n",
    "\n",
    "# 1️⃣ Geradores de imagem (com aumento de dados)\n",
    "train_datagen = ImageDataGenerator(\n",
    "    rescale=1./255,\n",
    "    rotation_range=20,\n",
    "    width_shift_range=0.1,\n",
    "    height_shift_range=0.1,\n",
    "    zoom_range=0.1,\n",
    "    horizontal_flip=True\n",
    ")\n",
    "\n",
    "val_datagen = ImageDataGenerator(rescale=1./255)\n",
    "test_datagen = ImageDataGenerator(rescale=1./255)\n",
    "\n",
    "train_generator = train_datagen.flow_from_directory(\n",
    "    train_dir,\n",
    "    target_size=(128, 128),\n",
    "    batch_size=32,\n",
    "    class_mode='binary'\n",
    ")\n",
    "\n",
    "val_generator = val_datagen.flow_from_directory(\n",
    "    val_dir,\n",
    "    target_size=(128, 128),\n",
    "    batch_size=32,\n",
    "    class_mode='binary'\n",
    ")\n",
    "\n",
    "test_generator = test_datagen.flow_from_directory(\n",
    "    test_dir,\n",
    "    target_size=(128, 128),\n",
    "    batch_size=32,\n",
    "    class_mode='binary',\n",
    "    shuffle=False\n",
    ")\n",
    "\n",
    "# 2️⃣ Construção da CNN\n",
    "model = models.Sequential([\n",
    "    # Bloco 1\n",
    "    layers.Conv2D(32, (3, 3), activation='relu', input_shape=(128, 128, 3)),\n",
    "    layers.MaxPooling2D(2, 2),\n",
    "\n",
    "    # Bloco 2\n",
    "    layers.Conv2D(64, (3, 3), activation='relu'),\n",
    "    layers.MaxPooling2D(2, 2),\n",
    "\n",
    "    # Bloco 3\n",
    "    layers.Conv2D(128, (3, 3), activation='relu'),\n",
    "    layers.MaxPooling2D(2, 2),\n",
    "\n",
    "    # Classificador final\n",
    "    layers.Flatten(),\n",
    "    layers.Dense(128, activation='relu'),\n",
    "    layers.Dropout(0.5),\n",
    "    layers.Dense(1, activation='sigmoid')\n",
    "])\n",
    "\n",
    "# 3️⃣ Compilação do modelo\n",
    "model.compile(\n",
    "    optimizer='adam',\n",
    "    loss='binary_crossentropy',\n",
    "    metrics=['accuracy']\n",
    ")\n",
    "\n",
    "# 4️⃣ Treinamento com Early Stopping\n",
    "early_stop = tf.keras.callbacks.EarlyStopping(\n",
    "    monitor='val_loss', patience=3, restore_best_weights=True\n",
    ")\n",
    "\n",
    "history = model.fit(\n",
    "    train_generator,\n",
    "    validation_data=val_generator,\n",
    "    epochs=15,\n",
    "    callbacks=[early_stop]\n",
    ")\n",
    "\n",
    "# 5️⃣ Avaliação final\n",
    "test_loss, test_acc = model.evaluate(test_generator)\n",
    "print(f\"\\n✅ Acurácia no conjunto de teste: {test_acc:.3f}\")\n",
    "\n",
    "# 6️⃣ Gráfico de treino\n",
    "plt.figure(figsize=(8,5))\n",
    "plt.plot(history.history['accuracy'], label='Treino')\n",
    "plt.plot(history.history['val_accuracy'], label='Validação')\n",
    "plt.xlabel('Época')\n",
    "plt.ylabel('Acurácia')\n",
    "plt.legend()\n",
    "plt.title('Acurácia durante o treino')\n",
    "plt.show()\n"
   ],
   "id": "d078b67b618571ee",
   "outputs": [
    {
     "name": "stdout",
     "output_type": "stream",
     "text": [
      "Found 17499 images belonging to 2 classes.\n",
      "Found 3749 images belonging to 2 classes.\n",
      "Found 3750 images belonging to 2 classes.\n"
     ]
    },
    {
     "name": "stderr",
     "output_type": "stream",
     "text": [
      "C:\\Users\\guto_\\AppData\\Local\\Packages\\PythonSoftwareFoundation.Python.3.12_qbz5n2kfra8p0\\LocalCache\\local-packages\\Python312\\site-packages\\keras\\src\\layers\\convolutional\\base_conv.py:113: UserWarning: Do not pass an `input_shape`/`input_dim` argument to a layer. When using Sequential models, prefer using an `Input(shape)` object as the first layer in the model instead.\n",
      "  super().__init__(activity_regularizer=activity_regularizer, **kwargs)\n"
     ]
    },
    {
     "name": "stdout",
     "output_type": "stream",
     "text": [
      "Epoch 1/15\n",
      "\u001B[1m203/547\u001B[0m \u001B[32m━━━━━━━\u001B[0m\u001B[37m━━━━━━━━━━━━━\u001B[0m \u001B[1m1:10\u001B[0m 205ms/step - accuracy: 0.5441 - loss: 0.6976"
     ]
    },
    {
     "name": "stderr",
     "output_type": "stream",
     "text": [
      "C:\\Users\\guto_\\AppData\\Local\\Packages\\PythonSoftwareFoundation.Python.3.12_qbz5n2kfra8p0\\LocalCache\\local-packages\\Python312\\site-packages\\PIL\\TiffImagePlugin.py:935: UserWarning: Truncated File Read\n",
      "  warnings.warn(str(msg))\n"
     ]
    },
    {
     "name": "stdout",
     "output_type": "stream",
     "text": [
      "\u001B[1m547/547\u001B[0m \u001B[32m━━━━━━━━━━━━━━━━━━━━\u001B[0m\u001B[37m\u001B[0m \u001B[1m142s\u001B[0m 257ms/step - accuracy: 0.6267 - loss: 0.6437 - val_accuracy: 0.7253 - val_loss: 0.5554\n",
      "Epoch 2/15\n",
      "\u001B[1m547/547\u001B[0m \u001B[32m━━━━━━━━━━━━━━━━━━━━\u001B[0m\u001B[37m\u001B[0m \u001B[1m61s\u001B[0m 111ms/step - accuracy: 0.7163 - loss: 0.5584 - val_accuracy: 0.7570 - val_loss: 0.4970\n",
      "Epoch 3/15\n",
      "\u001B[1m547/547\u001B[0m \u001B[32m━━━━━━━━━━━━━━━━━━━━\u001B[0m\u001B[37m\u001B[0m \u001B[1m61s\u001B[0m 111ms/step - accuracy: 0.7447 - loss: 0.5206 - val_accuracy: 0.7911 - val_loss: 0.4485\n",
      "Epoch 4/15\n",
      "\u001B[1m547/547\u001B[0m \u001B[32m━━━━━━━━━━━━━━━━━━━━\u001B[0m\u001B[37m\u001B[0m \u001B[1m83s\u001B[0m 151ms/step - accuracy: 0.7718 - loss: 0.4790 - val_accuracy: 0.7997 - val_loss: 0.4375\n",
      "Epoch 5/15\n",
      "\u001B[1m547/547\u001B[0m \u001B[32m━━━━━━━━━━━━━━━━━━━━\u001B[0m\u001B[37m\u001B[0m \u001B[1m212s\u001B[0m 279ms/step - accuracy: 0.7934 - loss: 0.4497 - val_accuracy: 0.7941 - val_loss: 0.4656\n",
      "Epoch 6/15\n",
      "\u001B[1m547/547\u001B[0m \u001B[32m━━━━━━━━━━━━━━━━━━━━\u001B[0m\u001B[37m\u001B[0m \u001B[1m156s\u001B[0m 286ms/step - accuracy: 0.8097 - loss: 0.4227 - val_accuracy: 0.8285 - val_loss: 0.3829\n",
      "Epoch 7/15\n",
      "\u001B[1m547/547\u001B[0m \u001B[32m━━━━━━━━━━━━━━━━━━━━\u001B[0m\u001B[37m\u001B[0m \u001B[1m169s\u001B[0m 309ms/step - accuracy: 0.8139 - loss: 0.4078 - val_accuracy: 0.8269 - val_loss: 0.3855\n",
      "Epoch 8/15\n",
      "\u001B[1m547/547\u001B[0m \u001B[32m━━━━━━━━━━━━━━━━━━━━\u001B[0m\u001B[37m\u001B[0m \u001B[1m171s\u001B[0m 312ms/step - accuracy: 0.8319 - loss: 0.3824 - val_accuracy: 0.8570 - val_loss: 0.3278\n",
      "Epoch 9/15\n",
      "\u001B[1m547/547\u001B[0m \u001B[32m━━━━━━━━━━━━━━━━━━━━\u001B[0m\u001B[37m\u001B[0m \u001B[1m171s\u001B[0m 312ms/step - accuracy: 0.8408 - loss: 0.3663 - val_accuracy: 0.8413 - val_loss: 0.3702\n",
      "Epoch 10/15\n",
      "\u001B[1m547/547\u001B[0m \u001B[32m━━━━━━━━━━━━━━━━━━━━\u001B[0m\u001B[37m\u001B[0m \u001B[1m167s\u001B[0m 304ms/step - accuracy: 0.8507 - loss: 0.3465 - val_accuracy: 0.8730 - val_loss: 0.3015\n",
      "Epoch 11/15\n",
      "\u001B[1m547/547\u001B[0m \u001B[32m━━━━━━━━━━━━━━━━━━━━\u001B[0m\u001B[37m\u001B[0m \u001B[1m220s\u001B[0m 403ms/step - accuracy: 0.8586 - loss: 0.3403 - val_accuracy: 0.8584 - val_loss: 0.3309\n",
      "Epoch 12/15\n",
      "\u001B[1m547/547\u001B[0m \u001B[32m━━━━━━━━━━━━━━━━━━━━\u001B[0m\u001B[37m\u001B[0m \u001B[1m272s\u001B[0m 498ms/step - accuracy: 0.8600 - loss: 0.3227 - val_accuracy: 0.8709 - val_loss: 0.2997\n",
      "Epoch 13/15\n",
      "\u001B[1m547/547\u001B[0m \u001B[32m━━━━━━━━━━━━━━━━━━━━\u001B[0m\u001B[37m\u001B[0m \u001B[1m140s\u001B[0m 255ms/step - accuracy: 0.8685 - loss: 0.3098 - val_accuracy: 0.8562 - val_loss: 0.3388\n",
      "Epoch 14/15\n",
      "\u001B[1m547/547\u001B[0m \u001B[32m━━━━━━━━━━━━━━━━━━━━\u001B[0m\u001B[37m\u001B[0m \u001B[1m114s\u001B[0m 208ms/step - accuracy: 0.8689 - loss: 0.3088 - val_accuracy: 0.8778 - val_loss: 0.2883\n",
      "Epoch 15/15\n",
      "\u001B[1m547/547\u001B[0m \u001B[32m━━━━━━━━━━━━━━━━━━━━\u001B[0m\u001B[37m\u001B[0m \u001B[1m81s\u001B[0m 148ms/step - accuracy: 0.8711 - loss: 0.2978 - val_accuracy: 0.8696 - val_loss: 0.3087\n",
      "\u001B[1m118/118\u001B[0m \u001B[32m━━━━━━━━━━━━━━━━━━━━\u001B[0m\u001B[37m\u001B[0m \u001B[1m35s\u001B[0m 295ms/step - accuracy: 0.8752 - loss: 0.2994\n",
      "\n",
      "✅ Acurácia no conjunto de teste: 0.875\n"
     ]
    },
    {
     "data": {
      "text/plain": [
       "<Figure size 800x500 with 1 Axes>"
      ],
      "image/png": "[encoded data removed]"
     },
     "metadata": {},
     "output_type": "display_data",
     "jetTransient": {
      "display_id": null
     }
    }
   ],
   "execution_count": 4
  },
  {
   "metadata": {
    "ExecuteTime": {
     "end_time": "2025-10-31T23:42:14.348175Z",
     "start_time": "2025-10-31T23:42:12.553834Z"
    }
   },
   "cell_type": "code",
   "source": [
    "base = tf.keras.applications.MobileNetV2(\n",
    "    weights='imagenet', include_top=False, input_shape=(224,224,3))\n",
    "base.trainable = False\n",
    "\n",
    "model.save('cats_vs_dogs_cnn.keras')\n"
   ],
   "id": "f3ee31cf6c464c48",
   "outputs": [
    {
     "name": "stdout",
     "output_type": "stream",
     "text": [
      "Downloading data from https://storage.googleapis.com/tensorflow/keras-applications/mobilenet_v2/mobilenet_v2_weights_tf_dim_ordering_tf_kernels_1.0_224_no_top.h5\n",
      "\u001B[1m9406464/9406464\u001B[0m \u001B[32m━━━━━━━━━━━━━━━━━━━━\u001B[0m\u001B[37m\u001B[0m \u001B[1m1s\u001B[0m 0us/step\n"
     ]
    }
   ],
   "execution_count": 5
  },
  {
   "metadata": {
    "ExecuteTime": {
     "end_time": "2025-10-31T23:42:18.640696Z",
     "start_time": "2025-10-31T23:42:14.359401Z"
    }
   },
   "cell_type": "code",
   "source": [
    "from sklearn.metrics import confusion_matrix, classification_report\n",
    "import numpy as np\n",
    "\n",
    "y_pred = (model.predict(test_generator) > 0.5).astype(\"int32\")\n",
    "print(classification_report(test_generator.classes, y_pred, target_names=['Cat', 'Dog']))\n"
   ],
   "id": "43503d8d56d90156",
   "outputs": [
    {
     "name": "stdout",
     "output_type": "stream",
     "text": [
      "\u001B[1m118/118\u001B[0m \u001B[32m━━━━━━━━━━━━━━━━━━━━\u001B[0m\u001B[37m\u001B[0m \u001B[1m4s\u001B[0m 33ms/step\n",
      "              precision    recall  f1-score   support\n",
      "\n",
      "         Cat       0.91      0.83      0.87      1875\n",
      "         Dog       0.84      0.92      0.88      1875\n",
      "\n",
      "    accuracy                           0.88      3750\n",
      "   macro avg       0.88      0.88      0.87      3750\n",
      "weighted avg       0.88      0.88      0.87      3750\n",
      "\n"
     ]
    }
   ],
   "execution_count": 6
  }
 ],
 "metadata": {
  "kernelspec": {
   "display_name": "Python 3",
   "language": "python",
   "name": "python3"
  },
  "language_info": {
   "codemirror_mode": {
    "name": "ipython",
    "version": 2
   },
   "file_extension": ".py",
   "mimetype": "text/x-python",
   "name": "python",
   "nbconvert_exporter": "python",
   "pygments_lexer": "ipython2",
   "version": "2.7.6"
  }
 },
 "nbformat": 4,
 "nbformat_minor": 5
}
