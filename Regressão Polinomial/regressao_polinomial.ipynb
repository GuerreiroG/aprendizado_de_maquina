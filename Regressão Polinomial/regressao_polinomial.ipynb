{
 "cells": [
  {
   "metadata": {},
   "cell_type": "markdown",
   "source": [
    "# Fase 3: Regressão Polinomial - Overfitting\n",
    "\n",
    "Nesta fase iremos considerar a Regressão Polinomial com uma variável x.  A Regressão Polinomial encaixa uma relação não linear entre o valor de x e o valor correspondente de y. Neste caso a fórmula geral da Regressão Polinomial é:\n",
    "\n",
    "$y = \\beta_0 + \\beta_1X + \\beta_2X^2 + \\beta_3X^3 + … + \\beta_NX^N$\n",
    "\n",
    "\n",
    "\n",
    "\n",
    "Desta vez, para calcular o valor de 𝛽 use a função polyfit. Você deverá verificar o que acontece quando vamos aumentamos o grau de um polinômio, ou seja, quando consideramos N = 1, 2, 3 ..."
   ],
   "id": "efbbd5dc029ba11f"
  },
  {
   "cell_type": "code",
   "execution_count": null,
   "id": "initial_id",
   "metadata": {
    "collapsed": true
   },
   "outputs": [],
   "source": [
    "def demo_regressaop():\n",
    "    print(\"Regressao Polinomial\")"
   ]
  }
 ],
 "metadata": {
  "kernelspec": {
   "display_name": "Python 3",
   "language": "python",
   "name": "python3"
  },
  "language_info": {
   "codemirror_mode": {
    "name": "ipython",
    "version": 2
   },
   "file_extension": ".py",
   "mimetype": "text/x-python",
   "name": "python",
   "nbconvert_exporter": "python",
   "pygments_lexer": "ipython2",
   "version": "2.7.6"
  }
 },
 "nbformat": 4,
 "nbformat_minor": 5
}
