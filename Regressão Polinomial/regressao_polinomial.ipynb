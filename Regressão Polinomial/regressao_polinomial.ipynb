{
 "cells": [
  {
   "metadata": {},
   "cell_type": "markdown",
   "source": "# Fase 1",
   "id": "9072f52831df84cb"
  },
  {
   "metadata": {},
   "cell_type": "code",
   "outputs": [],
   "execution_count": null,
   "source": [
    "import math\n",
    "import matplotlib.pyplot as plt\n",
    "\n",
    "x1 = [10,8,13,9,11,14,6,4,12,7,5]\n",
    "y1 = [8.04,6.95,7.58,8.81,8.33,9.96,7.24,4.26,10.84,4.82,5.68]\n",
    "\n",
    "\n",
    "x2 = [10,8,13,9,11,14,6,4,12,7,5]\n",
    "y2 = [9.14,8.14,8.47,8.77,9.26,8.10,6.13,3.10,9.13,7.26,4.74]\n",
    "\n",
    "\n",
    "x3 = [8,8,8,8,8,8,8,8,8,8,19]\n",
    "y3 = [6.58,5.76,7.71,8.84,8.47,7.04,5.25,5.56,7.91,6.89,12.50]\n",
    "\n",
    "\"\"\"\n",
    "1) Implemente duas funções chamadas correlacao e regressao. Cada uma deve ter dois vetores Nx1 como entrada,\n",
    " onde N é a dimensão do vetor (no caso de x N=11). A primeira função deve calcular o coeficiente de correlação\n",
    "  r, e a segunda função deve calcular a regressão, isto é, β0 e β1.\n",
    "\"\"\"\n",
    "def correlacao(x, y):\n",
    "  n = len(x)\n",
    "  media_x = sum(x) / n\n",
    "  media_y = sum(y) / n\n",
    "\n",
    "  produto = [(x[i] - media_x) * (y[i] - media_y) for i in range(n)]\n",
    "  soma_produto = sum(produto)\n",
    "\n",
    "  soma_quadrados_x = sum([(xi - media_x)**2 for xi in x])\n",
    "  soma_quadrados_y = sum([(yi - media_y)**2 for yi in y])\n",
    "\n",
    "  r = soma_produto / math.sqrt(soma_quadrados_x * soma_quadrados_y)\n",
    "  return r\n",
    "\n",
    "def regressao(x, y):\n",
    "    n = len(x)\n",
    "    media_x = sum(x) / n\n",
    "    media_y = sum(y) / n\n",
    "\n",
    "    # cálculo de beta1 (coeficiente angular)\n",
    "    numerador = sum((xi - media_x) * (yi - media_y) for xi, yi in zip(x, y))\n",
    "    denominador = sum((xi - media_x) ** 2 for xi in x)\n",
    "\n",
    "    beta1 = numerador / denominador\n",
    "\n",
    "    # cálculo de beta0\n",
    "    beta0 = media_y - beta1 * media_x\n",
    "\n",
    "    return beta0, beta1\n",
    "\n",
    "\"\"\"\n",
    "2)      Faça um script no Python chamado demo onde para cada dataset, faça os seguintes comandos:\n",
    "\n",
    "Faça um Gráfico de Dispersão (veja função scatter).\n",
    "Calcule o coeficiente de correlação.\n",
    "Trace a linha da regressão no Gráfico de Dispersão (veja a função plot)\n",
    "Mostre os coeficientes de correlação e regressão no Gráfico de Dispersão (utilize a função title)\n",
    "\"\"\"\n",
    "\n",
    "def gerar_grafico_dispersao(x, y):\n",
    "    plt.scatter(x, y)\n",
    "    plt.xlabel('x')\n",
    "    plt.ylabel('y')\n",
    "\n",
    "def y_de_chapeu(x, beta0, beta1):\n",
    "    return [beta0 + (beta1 * x_atual) for x_atual in x]\n",
    "\n",
    "def gerar_linha_regressao(x, beta0, beta1):\n",
    "    plt.plot(x, y_de_chapeu(x, beta0, beta1))\n",
    "\n",
    "def main():\n",
    "  r1 = correlacao(x1, y1)\n",
    "  r2 = correlacao(x2, y2)\n",
    "  r3 = correlacao(x3, y3)\n",
    "\n",
    "  print(f\"Coeficiente de correlação para o Grupo 1: {r1:.5f}\")\n",
    "  print(f\"Coeficiente de correlação para o Grupo 2: {r2:.5f}\")\n",
    "  print(f\"Coeficiente de correlação para o Grupo 3: {r3:.5f}\")\n",
    "\n",
    "  beta0_1, beta1_1 = regressao(x1, y1)\n",
    "  beta0_2, beta1_2 = regressao(x2, y2)\n",
    "  beta0_3, beta1_3 = regressao(x3, y3)\n",
    "\n",
    "  print(f\"Regressão para o Grupo 1: beta0 = {beta0_1:.5f}, beta1 = {beta1_1:.5f}\")\n",
    "  print(f\"Regressão para o Grupo 2: beta0 = {beta0_2:.5f}, beta1 = {beta1_2:.5f}\")\n",
    "  print(f\"Regressão para o Grupo 3: beta0 = {beta0_3:.5f}, beta1 = {beta1_3:.5f}\")\n",
    "\n",
    "  gerar_grafico_dispersao(x1, y1)\n",
    "  gerar_linha_regressao(x1, beta0_1, beta1_1)\n",
    "  plt.title(f'Coeficiente de Correlação: {r1:.5f} | Beta0: {beta0_1:.5f} | Beta1: {beta1_1:.5f}')\n",
    "  plt.show()\n",
    "\n",
    "  gerar_grafico_dispersao(x2, y2)\n",
    "  gerar_linha_regressao(x2, beta0_2, beta1_2)\n",
    "  plt.title(f'Coeficiente de Correlação: {r2:.5f} | Beta0: {beta0_2:.5f} | Beta1: {beta1_2:.5f}')\n",
    "  plt.show()\n",
    "\n",
    "  gerar_grafico_dispersao(x3, y3)\n",
    "  gerar_linha_regressao(x3, beta0_3, beta1_3)\n",
    "  plt.title(f'Coeficiente de Correlação: {r3:.5f} | Beta0: {beta0_3:.5f} | Beta1: {beta1_3:.5f}')\n",
    "  plt.show()\n",
    "\n",
    "if __name__ == \"__main__\":\n",
    "    main()\n"
   ],
   "id": "e5737eab6576ddf7"
  },
  {
   "metadata": {},
   "cell_type": "markdown",
   "source": [
    "3) Qual dos datasets não é apropriado para regressão linear?\n",
    "A segunda, pois formam um trajeto curvilinear então uma solução linear não se encaixa no tipo de problema, sendo muito simples. Enquanto a terceira, possui dados ruins, então nenhum tipo de análise seria eficiente."
   ],
   "id": "786f3930dddcb290"
  },
  {
   "metadata": {},
   "cell_type": "markdown",
   "source": "# FASE 2: Análise de Regressão Linear Múltipla",
   "id": "129709d208f305ff"
  },
  {
   "metadata": {},
   "cell_type": "markdown",
   "source": "a) Faça o download dos dados do arquivo data.mat ou data.csv. A primeira coluna é o tamanho da casa, a segunda coluna é o número de quartos, e a terceira coluna é o preço da casa.",
   "id": "23d2cacca9abb123"
  },
  {
   "metadata": {},
   "cell_type": "code",
   "outputs": [],
   "execution_count": null,
   "source": [
    "import pandas as pd\n",
    "data = pd.read_csv(\"content/data.csv\", header=None)\n",
    "\n",
    "print(data)"
   ],
   "id": "d2426ab85fb292f9"
  },
  {
   "metadata": {},
   "cell_type": "markdown",
   "source": "b) Utilize o comando python .describe()para fazer uma primeira análise estatística da sua base de dados. Qual a média de preço das casas? Quanto custa a menor casa? Quantos quartos tem a casa mais cara?",
   "id": "a9cef9004825a701"
  },
  {
   "metadata": {},
   "cell_type": "code",
   "outputs": [],
   "execution_count": null,
   "source": [
    "print(data.describe())\n",
    "print(data)"
   ],
   "id": "2791f06b5e5f4f81"
  },
  {
   "metadata": {},
   "cell_type": "markdown",
   "source": "c) Gere uma matriz X para as variáveis independentes (que são o tamanho da casa e o número de quartos) e o vetor y da variável dependente (que é o preço).",
   "id": "b4bbeb511154448e"
  },
  {
   "metadata": {},
   "cell_type": "code",
   "outputs": [],
   "execution_count": null,
   "source": [
    "data.insert(0, '1', [1 for _ in range(47)])\n",
    "ys = data[2]\n",
    "xs = data.drop(2, axis=1)\n",
    "print(f'Matriz X\\n{xs}')\n",
    "print('===============')\n",
    "print(f'Vetor Y\\n{ys}')"
   ],
   "id": "98894d5c5daa46a8"
  },
  {
   "metadata": {},
   "cell_type": "markdown",
   "source": "d) Verifique a correlação e a regressão para Tamanho da casa e Preço, e, Número de quartos e Preço e apresente os valores no gráfico de dispersão.",
   "id": "fd7813ad38689b6e"
  },
  {
   "metadata": {},
   "cell_type": "code",
   "outputs": [],
   "execution_count": null,
   "source": [
    "xs.rename(columns={0: 'tamanho', 1: 'quartos'}, inplace=True)\n",
    "\n",
    "correlacao_tamanho_preco = correlacao(xs['tamanho'], ys)\n",
    "correlacao_quartos_preco = correlacao(xs['quartos'], ys)\n",
    "\n",
    "print('Correlação entre Tamanho da Casa e Preço:', correlacao_tamanho_preco)\n",
    "print('Correlação entre Número de Quartos e Preço:', correlacao_quartos_preco)\n",
    "\n",
    "regressao_tamanho_preco = regressao(xs['tamanho'], ys)\n",
    "regressao_quartos_preco = regressao(xs['quartos'], ys)\n",
    "\n",
    "print('Regressão entre Tamanho da Casa e Preço:', regressao_tamanho_preco)\n",
    "print('Regressão entre Número de Quartos e Preço:', regressao_quartos_preco)\n",
    "\n",
    "gerar_grafico_dispersao(xs['tamanho'], ys)\n",
    "gerar_linha_regressao(xs['tamanho'], regressao_tamanho_preco[0], regressao_tamanho_preco[1])\n",
    "plt.show()\n",
    "\n",
    "gerar_grafico_dispersao(xs['quartos'], ys)\n",
    "gerar_linha_regressao(xs['quartos'], regressao_quartos_preco[0], regressao_quartos_preco[1])\n",
    "plt.show()"
   ],
   "id": "918bf02fde04b3a5"
  },
  {
   "metadata": {},
   "cell_type": "code",
   "outputs": [],
   "execution_count": null,
   "source": "",
   "id": "f08c576c463449d0"
  },
  {
   "metadata": {},
   "cell_type": "markdown",
   "source": "e) Calcule a Regressão Múltipla. Faça o gráfico de dispersão em 3D com o tamanho da casa, número de quartos, e o preço da casa. Neste caso iremos trabalhar com o espaço 3D (verifique como usar Axes3D).",
   "id": "2675ed97ca72782f"
  },
  {
   "metadata": {},
   "cell_type": "code",
   "outputs": [],
   "execution_count": null,
   "source": [
    "import numpy as np\n",
    "import plotly.graph_objects as go\n",
    "\n",
    "xs_transposta = xs.transpose()\n",
    "\n",
    "betas = np.linalg.inv(xs_transposta @ xs) @ (xs_transposta @ ys)\n",
    "\n",
    "ys_de_chapeu = xs@betas\n",
    "\n",
    "fig = go.Figure(\n",
    "    data=[go.Scatter3d(x=xs['tamanho'], y=xs['quartos'], z=ys, mode='markers')]\n",
    ")\n",
    "fig.update_layout(title='Disperção 3D'),\n",
    "fig.show()\n"
   ],
   "id": "f0da8902eb88c194"
  },
  {
   "metadata": {},
   "cell_type": "markdown",
   "source": [
    "f) Trace a linha da regressão no Gráfico de Dispersão. Você pode girar este gráfico para visualizar melhor os dados.\n",
    "\n",
    "g)       Mostre na figura os coeficientes de correlação entre Tamanho da casa e Preço e Número de quartos e Preço."
   ],
   "id": "6b3f6fe481b1939f"
  },
  {
   "metadata": {},
   "cell_type": "code",
   "outputs": [],
   "execution_count": null,
   "source": [
    "b0, b1, b2 = np.ravel(betas)\n",
    "\n",
    "x_surf, y_surf = np.meshgrid(\n",
    "    np.linspace(xs['tamanho'].min(), xs['tamanho'].max(), 40),\n",
    "    np.linspace(xs['quartos'].min(),  xs['quartos'].max(), 40)\n",
    ")\n",
    "\n",
    "z_surf = b0 + b1 * x_surf + b2 * y_surf\n",
    "\n",
    "fig = go.Figure()\n",
    "\n",
    "fig.add_trace(go.Scatter3d(\n",
    "    x=xs['tamanho'],\n",
    "    y=xs['quartos'],\n",
    "    z=ys,\n",
    "    mode='markers',\n",
    "    marker=dict(size=5, color='red'),\n",
    "    name=\"Dados reais\"\n",
    "))\n",
    "\n",
    "fig.add_trace(go.Surface(\n",
    "    x=x_surf, y=y_surf, z=z_surf,\n",
    "    colorscale=\"Blues\", opacity=0.5,\n",
    "    name=\"Plano de Regressão\"\n",
    "))\n",
    "\n",
    "fig.update_layout(\n",
    "    scene=dict(\n",
    "        xaxis_title=\"Tamanho\",\n",
    "        yaxis_title=\"Quartos\",\n",
    "        zaxis_title=\"Preço\"\n",
    "    ),\n",
    "    title=f\"correlacao_tamanho_preco {correlacao_tamanho_preco} \\n \"\n",
    "          f\"correlacao_quartos_preco {correlacao_quartos_preco}\"\n",
    ")\n",
    "\n",
    "fig.show()"
   ],
   "id": "e936243330ed9817"
  },
  {
   "metadata": {},
   "cell_type": "markdown",
   "source": "h) Calcule o preço de uma casa que tem tamanho de 1650 e 3 quartos. O resultado deve ser igual a 293081. Aumente e diminua a quantidade de número de quartos. O que acontece? Por qual motivo?",
   "id": "322259fc6813eac7"
  },
  {
   "metadata": {},
   "cell_type": "code",
   "outputs": [],
   "execution_count": null,
   "source": [
    "print(b0 + b1 * 1650 + b2 * 3)\n",
    "\n",
    "print(b0 + b1 * 1650 + b2 * 8)\n",
    "\n",
    "print(b0 + b1 * 1650 + b2 * 1)"
   ],
   "id": "d76e4ff8bab766e0"
  },
  {
   "metadata": {},
   "cell_type": "markdown",
   "source": "Se a quantidade de quartos cresce o preço diminui, se diminui, o preço aumenta. Isso ocorre devido ao beta 2 ser negativo, por causa de sua baixa correlação com os preços como se observa nos dados de treinamento. Além disso, passando para a vida real, como a área da casa não aumenta, então sobra menos espaço para os outros cômodos, podendo desvalorizar o imóvel por ser menos confortável.",
   "id": "712cb02523243e38"
  },
  {
   "metadata": {},
   "cell_type": "markdown",
   "source": "i) Compare seus resultados com a função de regressão linear múltipla do python. Para isso você irá precisar das bibliotecas numpy e scikit-learn.",
   "id": "48a3b506d94c9275"
  },
  {
   "metadata": {},
   "cell_type": "code",
   "outputs": [],
   "execution_count": null,
   "source": [
    "from sklearn.linear_model import LinearRegression\n",
    "\n",
    "modelo = LinearRegression()\n",
    "modelo.fit(xs, ys)\n",
    "\n",
    "novo_X = pd.DataFrame([[1, 1650, 3]], columns=['1', 'tamanho', 'quartos'])\n",
    "y_pred = modelo.predict(novo_X)\n",
    "print(y_pred)\n",
    "\n",
    "novo_X = pd.DataFrame([[1, 1650, 8]], columns=['1', 'tamanho', 'quartos'])\n",
    "y_pred = modelo.predict(novo_X)\n",
    "\n",
    "print(y_pred)\n",
    "\n",
    "novo_X = pd.DataFrame([[1, 1650, 1]], columns=['1', 'tamanho', 'quartos'])\n",
    "y_pred = modelo.predict(novo_X)\n",
    "print(y_pred)\n"
   ],
   "id": "9c4f5cdd8ddb0f3b"
  },
  {
   "metadata": {},
   "cell_type": "markdown",
   "source": [
    "# Fase 3: Regressão Polinomial - Overfitting\n",
    "\n",
    "Nesta fase iremos considerar a Regressão Polinomial com uma variável x.  A Regressão Polinomial encaixa uma relação não linear entre o valor de x e o valor correspondente de y. Neste caso a fórmula geral da Regressão Polinomial é:\n",
    "\n",
    "$y = \\beta_0 + \\beta_1X + \\beta_2X^2 + \\beta_3X^3 + … + \\beta_NX^N$\n",
    "\n",
    "\n",
    "\n",
    "\n",
    "Desta vez, para calcular o valor de 𝛽 use a função polyfit. Você deverá verificar o que acontece quando vamos aumentamos o grau de um polinômio, ou seja, quando consideramos N = 1, 2, 3 ..."
   ],
   "id": "5dd126f80c0913ba"
  },
  {
   "metadata": {},
   "cell_type": "markdown",
   "source": "a) Baixe o arquivo data_preg.mat ou data_preg.csv. A primeira coluna representa os valores de x e a segunda coluna representa os valores de y.",
   "id": "946841dff180456b"
  },
  {
   "metadata": {},
   "cell_type": "code",
   "outputs": [],
   "execution_count": null,
   "source": [
    "import pandas as pd\n",
    "\n",
    "data = pd.read_csv(\"content/data_preg.csv\", header=None)"
   ],
   "id": "e258d5e85291f82b"
  },
  {
   "metadata": {},
   "cell_type": "markdown",
   "source": "b) Faça o Gráfico de dispersão dos dados.",
   "id": "669c795c5f2c9ded"
  },
  {
   "metadata": {},
   "cell_type": "code",
   "outputs": [],
   "execution_count": null,
   "source": [
    "x = data[0]\n",
    "y = data[1]\n",
    "gerar_grafico_dispersao(x, y)"
   ],
   "id": "4c620c79917c251"
  },
  {
   "metadata": {},
   "cell_type": "markdown",
   "source": [
    "c) Use a função polyfit para gerar a linha de regressão para N = 1 e trace-o no gráfico de dispersão na cor vermelha (plot (x, y, 'r')). (Observe que nesta função a numeração coeficiente é invertida! $β_0=β_N$ , $β_1=β_{N−1}$, $β_2=β_{N−2}$ , ... $β_N=β_0$).\n",
    "\n",
    "d) Trace a linha de regressão para N = 2 no gráfico na cor verde. Para isso, você deverá calcular esta função $y = 𝛽_0 + 𝛽_1X + 𝛽_2X^2 + 𝛽_3X^3 + …+ 𝛽_NX^N$, isto é, não pode usar a função pronta do python."
   ],
   "id": "18c1a9c7402ea1ff"
  },
  {
   "metadata": {},
   "cell_type": "code",
   "outputs": [],
   "execution_count": null,
   "source": [
    "import numpy as np\n",
    "import matplotlib.pyplot as plt\n",
    "\n",
    "def ajustar_polinomio(x, y, grau):\n",
    "    coeficientes = np.polyfit(x, y, grau)[::-1]\n",
    "    return coeficientes\n",
    "\n",
    "def prever(x, coeficientes):\n",
    "    return [sum(coeficientes[j] * (xi ** j) for j in range(len(coeficientes))) for xi in x]\n",
    "\n",
    "def calcular_eqm(y_real, y_previsto):\n",
    "    return sum((y_previsto[i] - y_real[i])**2 for i in range(len(y_real))) / len(y_real)\n",
    "\n",
    "plt.scatter(x, y, color='blue')\n",
    "\n",
    "\n",
    "def plotar_regressoes(x_treino, y_treino, x_teste, y_teste):\n",
    "    menor = float(\"inf\")\n",
    "    melhor = None\n",
    "    for grau, cor in [(1, 'red'), (2, 'green'), (3, 'black'), (8, 'yellow')]:\n",
    "        coef = ajustar_polinomio(x_treino, y_treino, grau)\n",
    "        y_prev_treino = prever(x_treino, coef)\n",
    "        y_prev_teste = prever(x_teste, coef)\n",
    "\n",
    "        plt.plot(x_treino, y_prev_treino, color=cor)\n",
    "        eqm = calcular_eqm(y_teste, y_prev_teste)\n",
    "        print(f\"EQM grau {grau}:\", eqm)\n",
    "        diferenca = abs(eqm)\n",
    "        if diferenca < menor:\n",
    "            menor = diferenca\n",
    "            melhor = i\n",
    "    return melhor\n",
    "\n",
    "\n",
    "plotar_regressoes(x, y, x, y)\n",
    "\n",
    "plt.show()\n"
   ],
   "id": "32e43c3fa3b40bc7"
  },
  {
   "metadata": {},
   "cell_type": "markdown",
   "source": "h) Para evitar o overfitting, divida os dados aleatoriamente em Dados de Treinamento e Dados de Teste. Use 10% dos dados como conjunto de teste, e o resto como de treinamento.",
   "id": "b5f2678901efd3a2"
  },
  {
   "metadata": {},
   "cell_type": "code",
   "outputs": [],
   "execution_count": null,
   "source": [
    "qtd_elementos = int(0.10 * len(data))\n",
    "indices_teste = np.random.choice(range(len(data)), size=qtd_elementos, replace=False)\n",
    "\n",
    "x_teste = [x[i] for i in indices_teste]\n",
    "y_teste = [y[i] for i in indices_teste]\n",
    "\n",
    "x_treino = [x[i] for i in range(len(x)) if i not in indices_teste]\n",
    "y_treino = [y[i] for i in range(len(y)) if i not in indices_teste]"
   ],
   "id": "cf98ea19604bbef2"
  },
  {
   "metadata": {},
   "cell_type": "markdown",
   "source": [
    "i) Repita os passos de c - f, mas agora use apenas os dados de treinamento para ajustar a linha de regressão.\n",
    "\n",
    "j) Repita o passo g, mas agora utilize somente os dados de Teste para calcular o erro."
   ],
   "id": "bd94caeedde5aacd"
  },
  {
   "metadata": {},
   "cell_type": "code",
   "outputs": [],
   "execution_count": null,
   "source": [
    "gerar_grafico_dispersao(x, y)\n",
    "melhor_eqm = plotar_regressoes(x_treino, y_treino, x_teste, y_teste)"
   ],
   "id": "fe471f32bbd05b6f"
  },
  {
   "metadata": {},
   "cell_type": "markdown",
   "source": "k) Veja o que calcula o Coeficiente de Determinação ou R quadrado. Calcule o R2 para os dados de treino e teste (veja a função r2_score da biblioteca sklearn.metrics). O que se pode concluir com os resultados?",
   "id": "b393648006e1533c"
  },
  {
   "metadata": {},
   "cell_type": "code",
   "outputs": [],
   "execution_count": null,
   "source": [
    "from sklearn.metrics import r2_score\n",
    "\n",
    "def aplicar_r2(x_treinamento, y_treinamento, x_testando, y_testando, grau):\n",
    "    coeficientes = ajustar_polinomio(x_treinamento, y_treinamento, grau)\n",
    "    y_previsto = prever(x_testando, coeficientes)\n",
    "    return r2_score(y_testando, y_previsto)\n",
    "\n",
    "menor = float(\"inf\")\n",
    "melhor_r2 = None\n",
    "for i in [1,2,3,8]:\n",
    "    num = aplicar_r2(x_treino, y_treino, x_teste, y_teste, i)\n",
    "    print(f\"{i} (teste): {num}\")\n",
    "    print(f\"{i} (treino): {aplicar_r2(x_treino, y_treino, x_treino, y_treino, i)}\")\n",
    "    diferenca = ((1-num)**2)**(1/2)\n",
    "    if diferenca < menor:\n",
    "        menor = diferenca\n",
    "        melhor_r2 = i"
   ],
   "id": "37214c0841d60eb8"
  },
  {
   "metadata": {},
   "cell_type": "markdown",
   "source": "Concluímos que o $R^2$ chega ao mesmo resultado que o $EQM$ de qual grau é o melhor.",
   "id": "6f9723e2371ef668"
  },
  {
   "metadata": {},
   "cell_type": "markdown",
   "source": "l) Visto o cálculo do erro e do coeficiente de determinação, qual o modelo mais preciso neste caso? Explique sua resposta.",
   "id": "10a476d2d44991b1"
  },
  {
   "metadata": {},
   "cell_type": "code",
   "outputs": [],
   "execution_count": null,
   "source": [
    "print(f\"O melhor modelo é o de grau {melhor_r2} (segundo o R2).\")\n",
    "print(f\"O melhor modelo é o de grau {melhor_eqm} (segundo o EQM).\")"
   ],
   "id": "c2c02a028f6babe7"
  },
  {
   "metadata": {},
   "cell_type": "markdown",
   "source": "Como é possível que haja diferença entre $R^2$ e o $EQM$, cabe a análise da melhor métrica para se escolher o grau do modelo escolhido, neste caso para fins de exemplificaçao será escolhido o grau adquirido através da métrica de $EQM$. Neste caso:",
   "id": "a62842ce546ab47a"
  },
  {
   "metadata": {},
   "cell_type": "code",
   "outputs": [],
   "execution_count": null,
   "source": "print(melhor_eqm)",
   "id": "d4be9bfb3fba74a6"
  }
 ],
 "metadata": {
  "kernelspec": {
   "display_name": "Python 3",
   "language": "python",
   "name": "python3"
  },
  "language_info": {
   "codemirror_mode": {
    "name": "ipython",
    "version": 2
   },
   "file_extension": ".py",
   "mimetype": "text/x-python",
   "name": "python",
   "nbconvert_exporter": "python",
   "pygments_lexer": "ipython2",
   "version": "2.7.6"
  }
 },
 "nbformat": 4,
 "nbformat_minor": 5
}
